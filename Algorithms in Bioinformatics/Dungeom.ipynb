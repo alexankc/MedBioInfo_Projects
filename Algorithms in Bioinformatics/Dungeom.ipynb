{
 "cells": [
  {
   "cell_type": "markdown",
   "metadata": {},
   "source": [
    "## Dungeom: a de Bruijn graph-based genome assembler\n",
    "\n",
    "### Introduction:\n",
    "A de Bruijn graph can be used for the representation of a DNA sequence as the kmer components it is constituted from. If we define a kmer size, we can split a DNA sequence in its kmer components. After that, a directed graph can be constructed by connecting pairs of k-mers with overlaps between the first k-1 nucleotides and the last k-1 nucleotides. The direction of arrow goes from the k-mer, whose last k-1 nucleotides are overlapping, to the k-mer, whose first k-1 nucleotides are overlapping. This is known as de Brujin graph and provides an efficient way to assemble a DNA sequence.\n",
    "\n",
    "### Description:\n",
    "This de Bruijn graph-based assembler gets a DNA sequence and the number of kmer size as inputs and outputs the reassembled sequence and \"identical\" or \"not identical\" if the reassembled sequence is identical or not with the input sequence.\n",
    "\n",
    "### Procedure:\n",
    "\n",
    "1. The DNA sequence input is checked as to its length and the existance of non-standard nucleotides. The kmer size input is also checked as to whether it is a positive integer smaller than the length of the input sequence.\n",
    "2. The sequence is broken into small fragments (kmers) and the unique kmers are saved into a set to secure their uniqueness (**nodes**). Also a list of tuples with the edges of the nodes is created that is later used in the construction of the de Bruijn graph (**edges**).\n",
    "3. The de Bruijn graph is constructed and is visualized in the console.\n",
    "4. All the edges are shuffled in order to secure the randomness of the assembly except the first one, in order to keep the starting point. The output will be the list of the shuffled edge tuples (**graph**).\n",
    "5. The process of the assembly is based on finding the Eulerian path from the graph, that is the trail in the de Bruijn graph which visits every edge exactly once. That requires to keep track of the number of the edges for each node in a dictionary (**freq_dict**) and finish the assembly when all the edges are used (values in the dictionary are 0). The outcome of the procedure is a list (**tour_list**) with the nodes that were visited in the order that they were visited.\n",
    "6. Finally, the nodes in the tour list are merged into the assembled sequence. Depending on whether the assembled sequence is identical to the input one, \"Assembled sequence: identical\" or \"not identical\" will also be printed."
   ]
  },
  {
   "cell_type": "markdown",
   "metadata": {},
   "source": [
    "First, let's load the necessary python modules."
   ]
  },
  {
   "cell_type": "code",
   "execution_count": null,
   "metadata": {},
   "outputs": [],
   "source": [
    "#import necessary packages\n",
    "import sys\n",
    "import argparse\n",
    "from random import shuffle\n",
    "print('Necessary packages loaded successfully!')"
   ]
  },
  {
   "cell_type": "markdown",
   "metadata": {},
   "source": [
    "Next is the __input control__. In our case, our tool gets two inputs, a _DNA sequence_ and a _kmer size_. Using these three functions we can check:\n",
    "* If the kmer size is a positive integer\n",
    "* If the input DNA sequence is indeed a DNA sequence\n",
    "* That the kmer size is not larger than the input DNA sequence"
   ]
  },
  {
   "cell_type": "code",
   "execution_count": null,
   "metadata": {},
   "outputs": [],
   "source": [
    "def check_positive_kmer_size(value):\n",
    "    if not value.isdigit():\n",
    "        raise argparse.ArgumentTypeError(\"{} is an invalid positive integer value\".format(value))\n",
    "    ivalue = int(value)\n",
    "    if ivalue <= 0:\n",
    "         raise argparse.ArgumentTypeError(\"{} is an invalid positive integer value\".format(value))\n",
    "    return ivalue\n",
    "\n",
    "\n",
    "\n",
    "def check_if_dna_sequence(input_seq):\n",
    "    for nucleotide in input_seq:\n",
    "        if nucleotide not in \"GCTAgcta\":\n",
    "            raise argparse.ArgumentTypeError(\"Non-standard nucleotides in the sequence\")\n",
    "            \n",
    "def check_if_kmer_largerthan_seq(value, input_seq):\n",
    "    if int(value) >= len(input_seq):\n",
    "        print(\"Dungeom.py: error: argument kmer: kmer size should be smaller than the sequence length\")\n",
    "        raise argparse.ArgumentTypeError(\"Kmer size should not exceed the length of the input sequence\")"
   ]
  },
  {
   "cell_type": "markdown",
   "metadata": {},
   "source": [
    "This is the cell where we give our input values."
   ]
  },
  {
   "cell_type": "code",
   "execution_count": null,
   "metadata": {},
   "outputs": [],
   "source": [
    "seq = \"ATCGATCCCTGA\"\n",
    "kmer_size = \"3\""
   ]
  },
  {
   "cell_type": "markdown",
   "metadata": {},
   "source": [
    "Let's call the functions and control the input format and values."
   ]
  },
  {
   "cell_type": "code",
   "execution_count": null,
   "metadata": {},
   "outputs": [],
   "source": [
    "check_positive_kmer_size(kmer_size)\n",
    "check_if_dna_sequence(seq)\n",
    "check_if_kmer_largerthan_seq(kmer_size, seq)\n",
    "\n",
    "print(\"Input is ok\")\n",
    "\n",
    "#corrects the maximum recursion error created by the find_eulerian_tour and find_tour functions if seq input is large\n",
    "#if len(seq) > 38:\n",
    "#    sys.setrecursionlimit(len(seq))"
   ]
  },
  {
   "cell_type": "markdown",
   "metadata": {},
   "source": [
    "If everything is ok, we can proceed to the next function.  \n",
    "\n",
    "The next function takes our _input DNA sequence_, breaks it into small fragments (kmers) of size equal to our _input kmer size_ and the unique kmers are saved into a python set to secure their uniqueness (**nodes**). Also a list of tuples with the edges of the nodes is created that is later used in the construction of the de Bruijn graph (**edges**)."
   ]
  },
  {
   "cell_type": "code",
   "execution_count": null,
   "metadata": {},
   "outputs": [],
   "source": [
    "def de_bruijn_convert(sequence, kmer):\n",
    "    kmer = int(kmer)\n",
    "    edges = []\n",
    "    nodes = set()\n",
    "    for i in range(len(sequence) - kmer):\n",
    "        edges.append((sequence[i:i+kmer], sequence[i+1:i+kmer+1]))\n",
    "        nodes.add(sequence[i:i+kmer])\n",
    "        nodes.add(sequence[i+1:i+kmer+1])\n",
    "    return edges, nodes"
   ]
  },
  {
   "cell_type": "code",
   "execution_count": null,
   "metadata": {},
   "outputs": [],
   "source": [
    "edges, nodes = de_bruijn_convert(seq , kmer_size )\n",
    "print(\"nodes:\")\n",
    "print(nodes)\n",
    "print(\"edges:\")\n",
    "print(edges)"
   ]
  },
  {
   "cell_type": "markdown",
   "metadata": {},
   "source": [
    "In the next cell, we are going to construct and vizualize the generated de Bruijn graph using the **_graphviz_** graph visualization software. Nevertheless, it needs to be installed in your system by:\n",
    "- first installing the source code of the software (https://graphviz.gitlab.io/download/)\n",
    "- then installing the Python package (_pip install graphviz_)\n",
    "\n",
    "**Note**: This step is not essential for downtream analysis, however it provides a nice illustration of how a de Brujin graph of our input sequence will look like.\n",
    "\n",
    "Example: Given the input sequence \"ATCGATCCCTGA\" and kmer size = 3, we get:\n",
    "<img src=\"example_graphviz.jpg\">  \n",
    "**Second note**:  In the above directed graph, assuming that we visit each edge once and we start from the _ATC_ kmer, we can see that there is only one path (solution), so the sequence will always be assembled in the correct way. However this is not always the case (e.g. one node can be connected to more than 1 nodes having the same edge number in both \"parallel\" paths). This could occur if we set a different (smaller) kmer size."
   ]
  },
  {
   "cell_type": "code",
   "execution_count": null,
   "metadata": {
    "scrolled": true
   },
   "outputs": [],
   "source": [
    "from graphviz import Digraph\n",
    "\n",
    "f = Digraph('de_Bruijn_graph', filename = \"dgb.jpg\")\n",
    "f.attr(rankdir='LR', size='15')\n",
    "for node in nodes:\n",
    "    f.node(node)\n",
    "for lf, rg in edges:   \n",
    "    f.edge(lf, rg)\n",
    "f    "
   ]
  },
  {
   "cell_type": "markdown",
   "metadata": {},
   "source": [
    "Next we will use a function that will shuffle all the edge tuples in order to secure the randomness of the assembly except the first one, in order to keep the starting point. The output will be the list of the shuffled edge tuples (**graph**)."
   ]
  },
  {
   "cell_type": "code",
   "execution_count": null,
   "metadata": {},
   "outputs": [],
   "source": [
    "from random import shuffle\n",
    "def shuffled_edges(graph):\n",
    "    first_element = True\n",
    "    for edge in graph:\n",
    "        if first_element:\n",
    "            first_edge = edge\n",
    "            graph.remove(edge)\n",
    "            first_element = False      \n",
    "    shuffle(graph)\n",
    "    graph.insert(0, first_edge)\n",
    "    return graph"
   ]
  },
  {
   "cell_type": "code",
   "execution_count": null,
   "metadata": {},
   "outputs": [],
   "source": [
    "graph = shuffled_edges(edges)\n",
    "print(\"graph:\")\n",
    "print(graph)"
   ]
  },
  {
   "cell_type": "markdown",
   "metadata": {},
   "source": [
    "The process of the assembly is based on finding the _Eulerian path_ from the graph, that is the trail in the de Bruijn graph which visits each edge exactly once. That requires to keep track of the number of the edges for each node in a dictionary (**freq_dict**) using the next function."
   ]
  },
  {
   "cell_type": "code",
   "execution_count": null,
   "metadata": {},
   "outputs": [],
   "source": [
    "def dictionary_of_node_edge_frequencies(edges, nodes):\n",
    "    nodes = list(nodes)\n",
    "    result = [0 for i in range(len(nodes))]\n",
    "    for node in nodes:\n",
    "        for (a,b) in edges:\n",
    "            if node == a or node == b:\n",
    "                result[nodes.index(node)] += 1\n",
    "    edge_freq = dict(zip(nodes, result))\n",
    "    return edge_freq"
   ]
  },
  {
   "cell_type": "code",
   "execution_count": null,
   "metadata": {},
   "outputs": [],
   "source": [
    "freq_dict = dictionary_of_node_edge_frequencies(graph, nodes)\n",
    "print(\"freq_dict:\")\n",
    "print(freq_dict)"
   ]
  },
  {
   "cell_type": "markdown",
   "metadata": {},
   "source": [
    "Now it's time to take the _Eulerian path_: The assembly will be finished when all the edges have been visited (values in the **freq_dict** dictionary become 0). The first function (find_eulerian_tour) makes use of the second function (find_tour) to  visit each node depending on their edges recursively. The outcome of the procedure is a list (**tour_list**) with the nodes that were visited in the order that they were visited."
   ]
  },
  {
   "cell_type": "code",
   "execution_count": null,
   "metadata": {},
   "outputs": [],
   "source": [
    "def find_eulerian_tour(graph):\n",
    "    edges, nodes = de_bruijn_convert(seq, kmer_size)\n",
    "    freq_dict = dictionary_of_node_edge_frequencies(graph, nodes)\n",
    "    while sum(freq_dict.values()) != 0:\n",
    "        edges, nodes = de_bruijn_convert(seq, kmer_size)\n",
    "        graph = shuffled_edges(edges)\n",
    "        freq_dict = dictionary_of_node_edge_frequencies(graph, nodes)\n",
    "        tour_list = []\n",
    "        find_tour(graph[0][0],graph,tour_list,freq_dict)\n",
    "    return tour_list\n",
    "\n",
    "def find_tour(current,Edges,tour_list,freq_dict):\n",
    "    for (a,b) in Edges:\n",
    "        if a==current:\n",
    "            Edges.remove((a,b))\n",
    "            freq_dict[a] -= 1\n",
    "            freq_dict[b] -= 1\n",
    "            find_tour(b,Edges,tour_list,freq_dict)\n",
    "    tour_list.insert(0,current)"
   ]
  },
  {
   "cell_type": "code",
   "execution_count": null,
   "metadata": {},
   "outputs": [],
   "source": [
    "tour_list = find_eulerian_tour(graph)\n",
    "print(\"tour_list:\")\n",
    "print(tour_list)\n"
   ]
  },
  {
   "cell_type": "markdown",
   "metadata": {},
   "source": [
    "Finally, the nodes in the **tour_list** are merged into the assembled sequence. Depending on whether the assembled sequence is identical to the input one, \"Assembled sequence: identical\" or \"not identical\" will also be printed."
   ]
  },
  {
   "cell_type": "code",
   "execution_count": null,
   "metadata": {},
   "outputs": [],
   "source": [
    "def eulerian_tour_to_superstring(tour_list):\n",
    "    superstring = \"\"\n",
    "    first_word = True\n",
    "    for word in tour_list:\n",
    "        if first_word:\n",
    "            superstring += word\n",
    "            first_word = False\n",
    "        else:\n",
    "            superstring += word[-1]\n",
    "    return superstring"
   ]
  },
  {
   "cell_type": "code",
   "execution_count": null,
   "metadata": {},
   "outputs": [],
   "source": [
    "assembled_seq = eulerian_tour_to_superstring(tour_list)\n",
    "print(\"Assembled sequence: \" + assembled_seq)\n",
    "if assembled_seq == seq:\n",
    "    print(\"Identical to input sequence\")\n",
    "else:\n",
    "    print(\"Not identical to input sequence\")"
   ]
  },
  {
   "cell_type": "code",
   "execution_count": null,
   "metadata": {},
   "outputs": [],
   "source": []
  }
 ],
 "metadata": {
  "kernelspec": {
   "display_name": "Python 3",
   "language": "python",
   "name": "python3"
  },
  "language_info": {
   "codemirror_mode": {
    "name": "ipython",
    "version": 3
   },
   "file_extension": ".py",
   "mimetype": "text/x-python",
   "name": "python",
   "nbconvert_exporter": "python",
   "pygments_lexer": "ipython3",
   "version": "3.6.7"
  }
 },
 "nbformat": 4,
 "nbformat_minor": 2
}
