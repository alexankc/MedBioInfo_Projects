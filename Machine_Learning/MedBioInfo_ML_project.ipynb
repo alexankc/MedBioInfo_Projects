{
 "cells": [
  {
   "cell_type": "markdown",
   "metadata": {},
   "source": [
    "&nbsp;\n",
    "&nbsp;\n",
    "&nbsp;    \n",
    "    \n",
    "#  Prediction of diabetes incidence using serum microRNAs \n",
    "by *Alexandros Karagiannopoulos*\n",
    "\n",
    "&nbsp; \n",
    "\n",
    "The published dataset of [Gallo et. al, 2018](https://pubmed.ncbi.nlm.nih.gov/30408096/) was used in this project and selected as I may work on a similar dataset in the future.\n",
    "\n",
    "The dataset includes a table with the __expression level of 47 microRNAs (miRNAs)__ in fasting serum for 560 healthy subjects, of whom __140 developed diabetes__, and 169 cardiovascular diseases during follow-up.\n",
    "\n",
    "The aim of this project is to apply machine learning (ML) methods that would allow us to predict if a healthy patient will develop diabetes in the future given the expression of those 47 miRNAs. \n",
    " \n",
    "First we will import the table and some necessary python packages:"
   ]
  },
  {
   "cell_type": "code",
   "execution_count": 1,
   "metadata": {
    "scrolled": true
   },
   "outputs": [
    {
     "name": "stdout",
     "output_type": "stream",
     "text": [
      "All packages are in place!\n",
      "Dataset is loaded!\n"
     ]
    }
   ],
   "source": [
    "import seaborn as sns\n",
    "import pandas as pd\n",
    "import numpy as np\n",
    "import matplotlib.pyplot as plt\n",
    "\n",
    "print('All packages are in place!')\n",
    "#Read in the data to a pandas DataFrame using the read_csv method.\n",
    "\n",
    "data = pd.read_excel('Normalized_relative_quantities.xlsx')\n",
    "\n",
    "print('Dataset is loaded!')"
   ]
  },
  {
   "cell_type": "markdown",
   "metadata": {},
   "source": [
    "Let's check the table:"
   ]
  },
  {
   "cell_type": "code",
   "execution_count": 2,
   "metadata": {},
   "outputs": [
    {
     "data": {
      "text/html": [
       "<div>\n",
       "<style scoped>\n",
       "    .dataframe tbody tr th:only-of-type {\n",
       "        vertical-align: middle;\n",
       "    }\n",
       "\n",
       "    .dataframe tbody tr th {\n",
       "        vertical-align: top;\n",
       "    }\n",
       "\n",
       "    .dataframe thead th {\n",
       "        text-align: right;\n",
       "    }\n",
       "</style>\n",
       "<table border=\"1\" class=\"dataframe\">\n",
       "  <thead>\n",
       "    <tr style=\"text-align: right;\">\n",
       "      <th></th>\n",
       "      <th>CardID</th>\n",
       "      <th>inc_dm_2009</th>\n",
       "      <th>inc_cv_2009</th>\n",
       "      <th>hsa-miR-1274A-002883</th>\n",
       "      <th>hsa-miR-17-002308</th>\n",
       "      <th>hsa-miR-1243-002854</th>\n",
       "      <th>hsa-miR-1274B-002884</th>\n",
       "      <th>hsa-miR-625*-002432</th>\n",
       "      <th>hsa-miR-223-002295</th>\n",
       "      <th>hsa-miR-126-002228</th>\n",
       "      <th>...</th>\n",
       "      <th>hsa-miR-21-000397</th>\n",
       "      <th>hsa-miR-30b-000602</th>\n",
       "      <th>hsa-miR-26a-000405</th>\n",
       "      <th>hsa-miR-142-3p-000464</th>\n",
       "      <th>hsa-miR-331-000545</th>\n",
       "      <th>hsa-miR-25-000403</th>\n",
       "      <th>hsa-miR-335-000546</th>\n",
       "      <th>hsa-miR-374-000563</th>\n",
       "      <th>hsa-miR-139-5p-002289</th>\n",
       "      <th>hsa-miR-720-002895</th>\n",
       "    </tr>\n",
       "  </thead>\n",
       "  <tbody>\n",
       "    <tr>\n",
       "      <th>0</th>\n",
       "      <td>1-A1</td>\n",
       "      <td>0.0</td>\n",
       "      <td>0.0</td>\n",
       "      <td>1.440929</td>\n",
       "      <td>0.610050</td>\n",
       "      <td>NaN</td>\n",
       "      <td>1.340712</td>\n",
       "      <td>0.983501</td>\n",
       "      <td>0.005979</td>\n",
       "      <td>1.629015</td>\n",
       "      <td>...</td>\n",
       "      <td>0.731535</td>\n",
       "      <td>4.307949</td>\n",
       "      <td>2.873880</td>\n",
       "      <td>0.127981</td>\n",
       "      <td>NaN</td>\n",
       "      <td>NaN</td>\n",
       "      <td>1.557248</td>\n",
       "      <td>NaN</td>\n",
       "      <td>1.537940</td>\n",
       "      <td>2.350554</td>\n",
       "    </tr>\n",
       "    <tr>\n",
       "      <th>1</th>\n",
       "      <td>1-B1</td>\n",
       "      <td>0.0</td>\n",
       "      <td>1.0</td>\n",
       "      <td>2.459730</td>\n",
       "      <td>0.947041</td>\n",
       "      <td>NaN</td>\n",
       "      <td>3.449772</td>\n",
       "      <td>NaN</td>\n",
       "      <td>0.014097</td>\n",
       "      <td>0.901563</td>\n",
       "      <td>...</td>\n",
       "      <td>1.089375</td>\n",
       "      <td>0.418559</td>\n",
       "      <td>NaN</td>\n",
       "      <td>0.238904</td>\n",
       "      <td>NaN</td>\n",
       "      <td>NaN</td>\n",
       "      <td>2.734922</td>\n",
       "      <td>NaN</td>\n",
       "      <td>3.697375</td>\n",
       "      <td>5.181971</td>\n",
       "    </tr>\n",
       "    <tr>\n",
       "      <th>2</th>\n",
       "      <td>1-C1</td>\n",
       "      <td>0.0</td>\n",
       "      <td>0.0</td>\n",
       "      <td>0.781598</td>\n",
       "      <td>0.783225</td>\n",
       "      <td>NaN</td>\n",
       "      <td>0.393791</td>\n",
       "      <td>0.735858</td>\n",
       "      <td>0.002369</td>\n",
       "      <td>0.751842</td>\n",
       "      <td>...</td>\n",
       "      <td>0.607729</td>\n",
       "      <td>1.372210</td>\n",
       "      <td>2.518388</td>\n",
       "      <td>0.388369</td>\n",
       "      <td>NaN</td>\n",
       "      <td>0.000005</td>\n",
       "      <td>0.784312</td>\n",
       "      <td>NaN</td>\n",
       "      <td>0.707842</td>\n",
       "      <td>0.837116</td>\n",
       "    </tr>\n",
       "    <tr>\n",
       "      <th>3</th>\n",
       "      <td>1-D1</td>\n",
       "      <td>0.0</td>\n",
       "      <td>0.0</td>\n",
       "      <td>0.905634</td>\n",
       "      <td>0.803293</td>\n",
       "      <td>NaN</td>\n",
       "      <td>0.381565</td>\n",
       "      <td>1.816296</td>\n",
       "      <td>0.001835</td>\n",
       "      <td>0.958600</td>\n",
       "      <td>...</td>\n",
       "      <td>1.175277</td>\n",
       "      <td>1.548640</td>\n",
       "      <td>1.769080</td>\n",
       "      <td>0.309498</td>\n",
       "      <td>0.436181</td>\n",
       "      <td>NaN</td>\n",
       "      <td>NaN</td>\n",
       "      <td>NaN</td>\n",
       "      <td>0.632001</td>\n",
       "      <td>1.397648</td>\n",
       "    </tr>\n",
       "    <tr>\n",
       "      <th>4</th>\n",
       "      <td>1-E1</td>\n",
       "      <td>0.0</td>\n",
       "      <td>0.0</td>\n",
       "      <td>1.552398</td>\n",
       "      <td>0.779434</td>\n",
       "      <td>NaN</td>\n",
       "      <td>0.419139</td>\n",
       "      <td>0.233016</td>\n",
       "      <td>0.001608</td>\n",
       "      <td>0.931417</td>\n",
       "      <td>...</td>\n",
       "      <td>0.594810</td>\n",
       "      <td>2.056941</td>\n",
       "      <td>2.609004</td>\n",
       "      <td>1.241858</td>\n",
       "      <td>0.629597</td>\n",
       "      <td>NaN</td>\n",
       "      <td>0.336459</td>\n",
       "      <td>NaN</td>\n",
       "      <td>0.539427</td>\n",
       "      <td>1.589418</td>\n",
       "    </tr>\n",
       "    <tr>\n",
       "      <th>...</th>\n",
       "      <td>...</td>\n",
       "      <td>...</td>\n",
       "      <td>...</td>\n",
       "      <td>...</td>\n",
       "      <td>...</td>\n",
       "      <td>...</td>\n",
       "      <td>...</td>\n",
       "      <td>...</td>\n",
       "      <td>...</td>\n",
       "      <td>...</td>\n",
       "      <td>...</td>\n",
       "      <td>...</td>\n",
       "      <td>...</td>\n",
       "      <td>...</td>\n",
       "      <td>...</td>\n",
       "      <td>...</td>\n",
       "      <td>...</td>\n",
       "      <td>...</td>\n",
       "      <td>...</td>\n",
       "      <td>...</td>\n",
       "      <td>...</td>\n",
       "    </tr>\n",
       "    <tr>\n",
       "      <th>555</th>\n",
       "      <td>6-D10</td>\n",
       "      <td>0.0</td>\n",
       "      <td>0.0</td>\n",
       "      <td>5.241568</td>\n",
       "      <td>0.970634</td>\n",
       "      <td>1.063999e-07</td>\n",
       "      <td>3.660398</td>\n",
       "      <td>2.385016</td>\n",
       "      <td>0.001686</td>\n",
       "      <td>0.643049</td>\n",
       "      <td>...</td>\n",
       "      <td>0.803293</td>\n",
       "      <td>2.418310</td>\n",
       "      <td>1.075493</td>\n",
       "      <td>0.658840</td>\n",
       "      <td>0.910669</td>\n",
       "      <td>NaN</td>\n",
       "      <td>1.640346</td>\n",
       "      <td>1.115739</td>\n",
       "      <td>0.313383</td>\n",
       "      <td>2.193144</td>\n",
       "    </tr>\n",
       "    <tr>\n",
       "      <th>556</th>\n",
       "      <td>6-E10</td>\n",
       "      <td>0.0</td>\n",
       "      <td>0.0</td>\n",
       "      <td>5.909351</td>\n",
       "      <td>0.948684</td>\n",
       "      <td>5.662446e-08</td>\n",
       "      <td>3.474971</td>\n",
       "      <td>0.931740</td>\n",
       "      <td>0.000647</td>\n",
       "      <td>1.356603</td>\n",
       "      <td>...</td>\n",
       "      <td>1.368883</td>\n",
       "      <td>1.019598</td>\n",
       "      <td>2.106720</td>\n",
       "      <td>0.249654</td>\n",
       "      <td>NaN</td>\n",
       "      <td>NaN</td>\n",
       "      <td>0.631126</td>\n",
       "      <td>NaN</td>\n",
       "      <td>1.404445</td>\n",
       "      <td>3.292081</td>\n",
       "    </tr>\n",
       "    <tr>\n",
       "      <th>557</th>\n",
       "      <td>6-F10</td>\n",
       "      <td>0.0</td>\n",
       "      <td>1.0</td>\n",
       "      <td>2.000000</td>\n",
       "      <td>0.903126</td>\n",
       "      <td>9.595959e-08</td>\n",
       "      <td>2.543826</td>\n",
       "      <td>0.980779</td>\n",
       "      <td>0.000910</td>\n",
       "      <td>1.247466</td>\n",
       "      <td>...</td>\n",
       "      <td>1.123499</td>\n",
       "      <td>2.674002</td>\n",
       "      <td>2.675855</td>\n",
       "      <td>0.241317</td>\n",
       "      <td>2.579338</td>\n",
       "      <td>NaN</td>\n",
       "      <td>1.760520</td>\n",
       "      <td>0.590497</td>\n",
       "      <td>1.737483</td>\n",
       "      <td>1.508381</td>\n",
       "    </tr>\n",
       "    <tr>\n",
       "      <th>558</th>\n",
       "      <td>6-G10</td>\n",
       "      <td>0.0</td>\n",
       "      <td>0.0</td>\n",
       "      <td>1.048990</td>\n",
       "      <td>1.088996</td>\n",
       "      <td>6.865452e-09</td>\n",
       "      <td>1.790050</td>\n",
       "      <td>0.513345</td>\n",
       "      <td>0.001711</td>\n",
       "      <td>0.690637</td>\n",
       "      <td>...</td>\n",
       "      <td>0.721965</td>\n",
       "      <td>2.008336</td>\n",
       "      <td>1.930533</td>\n",
       "      <td>0.329648</td>\n",
       "      <td>NaN</td>\n",
       "      <td>NaN</td>\n",
       "      <td>2.047697</td>\n",
       "      <td>NaN</td>\n",
       "      <td>1.059218</td>\n",
       "      <td>0.893166</td>\n",
       "    </tr>\n",
       "    <tr>\n",
       "      <th>559</th>\n",
       "      <td>6-H10</td>\n",
       "      <td>0.0</td>\n",
       "      <td>0.0</td>\n",
       "      <td>1.321796</td>\n",
       "      <td>1.042104</td>\n",
       "      <td>NaN</td>\n",
       "      <td>1.386552</td>\n",
       "      <td>3.040901</td>\n",
       "      <td>0.001824</td>\n",
       "      <td>0.523587</td>\n",
       "      <td>...</td>\n",
       "      <td>0.910354</td>\n",
       "      <td>1.717728</td>\n",
       "      <td>1.044997</td>\n",
       "      <td>0.459935</td>\n",
       "      <td>NaN</td>\n",
       "      <td>NaN</td>\n",
       "      <td>1.076614</td>\n",
       "      <td>0.660441</td>\n",
       "      <td>0.485485</td>\n",
       "      <td>0.641046</td>\n",
       "    </tr>\n",
       "  </tbody>\n",
       "</table>\n",
       "<p>560 rows × 50 columns</p>\n",
       "</div>"
      ],
      "text/plain": [
       "    CardID  inc_dm_2009  inc_cv_2009  hsa-miR-1274A-002883  hsa-miR-17-002308  \\\n",
       "0     1-A1          0.0          0.0              1.440929           0.610050   \n",
       "1     1-B1          0.0          1.0              2.459730           0.947041   \n",
       "2     1-C1          0.0          0.0              0.781598           0.783225   \n",
       "3     1-D1          0.0          0.0              0.905634           0.803293   \n",
       "4     1-E1          0.0          0.0              1.552398           0.779434   \n",
       "..     ...          ...          ...                   ...                ...   \n",
       "555  6-D10          0.0          0.0              5.241568           0.970634   \n",
       "556  6-E10          0.0          0.0              5.909351           0.948684   \n",
       "557  6-F10          0.0          1.0              2.000000           0.903126   \n",
       "558  6-G10          0.0          0.0              1.048990           1.088996   \n",
       "559  6-H10          0.0          0.0              1.321796           1.042104   \n",
       "\n",
       "     hsa-miR-1243-002854  hsa-miR-1274B-002884  hsa-miR-625*-002432  \\\n",
       "0                    NaN              1.340712             0.983501   \n",
       "1                    NaN              3.449772                  NaN   \n",
       "2                    NaN              0.393791             0.735858   \n",
       "3                    NaN              0.381565             1.816296   \n",
       "4                    NaN              0.419139             0.233016   \n",
       "..                   ...                   ...                  ...   \n",
       "555         1.063999e-07              3.660398             2.385016   \n",
       "556         5.662446e-08              3.474971             0.931740   \n",
       "557         9.595959e-08              2.543826             0.980779   \n",
       "558         6.865452e-09              1.790050             0.513345   \n",
       "559                  NaN              1.386552             3.040901   \n",
       "\n",
       "     hsa-miR-223-002295  hsa-miR-126-002228  ...  hsa-miR-21-000397  \\\n",
       "0              0.005979            1.629015  ...           0.731535   \n",
       "1              0.014097            0.901563  ...           1.089375   \n",
       "2              0.002369            0.751842  ...           0.607729   \n",
       "3              0.001835            0.958600  ...           1.175277   \n",
       "4              0.001608            0.931417  ...           0.594810   \n",
       "..                  ...                 ...  ...                ...   \n",
       "555            0.001686            0.643049  ...           0.803293   \n",
       "556            0.000647            1.356603  ...           1.368883   \n",
       "557            0.000910            1.247466  ...           1.123499   \n",
       "558            0.001711            0.690637  ...           0.721965   \n",
       "559            0.001824            0.523587  ...           0.910354   \n",
       "\n",
       "     hsa-miR-30b-000602  hsa-miR-26a-000405  hsa-miR-142-3p-000464  \\\n",
       "0              4.307949            2.873880               0.127981   \n",
       "1              0.418559                 NaN               0.238904   \n",
       "2              1.372210            2.518388               0.388369   \n",
       "3              1.548640            1.769080               0.309498   \n",
       "4              2.056941            2.609004               1.241858   \n",
       "..                  ...                 ...                    ...   \n",
       "555            2.418310            1.075493               0.658840   \n",
       "556            1.019598            2.106720               0.249654   \n",
       "557            2.674002            2.675855               0.241317   \n",
       "558            2.008336            1.930533               0.329648   \n",
       "559            1.717728            1.044997               0.459935   \n",
       "\n",
       "     hsa-miR-331-000545  hsa-miR-25-000403  hsa-miR-335-000546  \\\n",
       "0                   NaN                NaN            1.557248   \n",
       "1                   NaN                NaN            2.734922   \n",
       "2                   NaN           0.000005            0.784312   \n",
       "3              0.436181                NaN                 NaN   \n",
       "4              0.629597                NaN            0.336459   \n",
       "..                  ...                ...                 ...   \n",
       "555            0.910669                NaN            1.640346   \n",
       "556                 NaN                NaN            0.631126   \n",
       "557            2.579338                NaN            1.760520   \n",
       "558                 NaN                NaN            2.047697   \n",
       "559                 NaN                NaN            1.076614   \n",
       "\n",
       "     hsa-miR-374-000563  hsa-miR-139-5p-002289  hsa-miR-720-002895  \n",
       "0                   NaN               1.537940            2.350554  \n",
       "1                   NaN               3.697375            5.181971  \n",
       "2                   NaN               0.707842            0.837116  \n",
       "3                   NaN               0.632001            1.397648  \n",
       "4                   NaN               0.539427            1.589418  \n",
       "..                  ...                    ...                 ...  \n",
       "555            1.115739               0.313383            2.193144  \n",
       "556                 NaN               1.404445            3.292081  \n",
       "557            0.590497               1.737483            1.508381  \n",
       "558                 NaN               1.059218            0.893166  \n",
       "559            0.660441               0.485485            0.641046  \n",
       "\n",
       "[560 rows x 50 columns]"
      ]
     },
     "execution_count": 2,
     "metadata": {},
     "output_type": "execute_result"
    }
   ],
   "source": [
    "data"
   ]
  },
  {
   "cell_type": "markdown",
   "metadata": {},
   "source": [
    "## Data Description and Processing\n",
    "\n",
    "* Column 1 (*CardID*): The subject's ID\n",
    "* Column 2 (*inc_dm_2009*): The subject developed (1) or not (2) diabetes\n",
    "* Column 3 (*inc_cv_2009*): The subject developed (1) or not (2) cardiovascular disease\n",
    "* Column 4-50: miRNA expression levels generated by microarrays \n",
    "\n",
    "In this project we will choose to predict __only the diabetes__ incidence, so *Column 3* will not be used.\n",
    "\n",
    "Having a first look at the table, we can see there are quite many missing values. Gene expression data generated from microarrays tend to result in such missing values, but we will deal with it later.\n",
    "\n",
    "First, let's check if there any missing values for our target variable \"inc_dm_2009\":"
   ]
  },
  {
   "cell_type": "code",
   "execution_count": 3,
   "metadata": {},
   "outputs": [
    {
     "data": {
      "text/plain": [
       "7"
      ]
     },
     "execution_count": 3,
     "metadata": {},
     "output_type": "execute_result"
    }
   ],
   "source": [
    "data['inc_dm_2009'].isna().sum()"
   ]
  },
  {
   "cell_type": "markdown",
   "metadata": {},
   "source": [
    "We are going to remove these 7 subjects.  \n",
    "Also we are going to remove the \"subject ID labels\" and \"prediction for cardiovascular disease\" columns since they are not necessary:"
   ]
  },
  {
   "cell_type": "code",
   "execution_count": 4,
   "metadata": {},
   "outputs": [
    {
     "data": {
      "text/plain": [
       "(553, 48)"
      ]
     },
     "execution_count": 4,
     "metadata": {},
     "output_type": "execute_result"
    }
   ],
   "source": [
    "data_clean = data.drop(['CardID','inc_cv_2009'], 1)\n",
    "\n",
    "data_clean = data_clean.dropna(how='any', subset=['inc_dm_2009'])\n",
    "\n",
    "data_clean.shape"
   ]
  },
  {
   "cell_type": "markdown",
   "metadata": {},
   "source": [
    "Another thing we should pay attention to is how *__balanced__* the predicting target variable of our dataset is, in other words, how many subjects develop diabetes (__1__) vs how many they don't (__0__) during follow-up:"
   ]
  },
  {
   "cell_type": "code",
   "execution_count": 6,
   "metadata": {},
   "outputs": [
    {
     "name": "stdout",
     "output_type": "stream",
     "text": [
      "Proportion: 2.57 : 1\n"
     ]
    },
    {
     "data": {
      "image/png": "[encoded data removed]",
      "text/plain": [
       "<Figure size 432x288 with 1 Axes>"
      ]
     },
     "metadata": {
      "needs_background": "light"
     },
     "output_type": "display_data"
    }
   ],
   "source": [
    "y = data_clean['inc_dm_2009'].astype(int)\n",
    "y_counts = y.value_counts()\n",
    "\n",
    "y_counts.plot(kind='bar', title='Count (target)', color=['slateblue','salmon']);\n",
    "\n",
    "print('Proportion:', round(y_counts[0] / y_counts[1], 2), ': 1')"
   ]
  },
  {
   "cell_type": "markdown",
   "metadata": {},
   "source": [
    "We can see a big disproportion, which can cause the ML algorithms to identify easier the 0s than the 1s. Indeed the ML methods used in this project were first trained with the original unbalanced data and, unsurprisingly, they could only predict 0s. This can be handled by:\n",
    "* __Downsampling the majority class__, or\n",
    "* __Upsampling the minority class__ (by random resampling with replacement)\n",
    "\n",
    "In both cases there are drawbacks. In the first case, we eliminate potentially crucial training input into our ML algorithms, while in the second one, since some elements are repeated there is the danger that same elements end up in both the training and testing set and the algorithms are overfitted.\n",
    "\n",
    "After trying both approaches, upsampling the minority class gave significantly better results as downsampling will further limit our already limited number of samples. It is possible to have some degree of overfitting at our models, but the fact that their hyperparameters were tuned based on cross-validation (see below) and the existence of regularization parameters in the ML methods will reduce its size.  "
   ]
  },
  {
   "cell_type": "code",
   "execution_count": 7,
   "metadata": {},
   "outputs": [
    {
     "data": {
      "image/png": "[encoded data removed]",
      "text/plain": [
       "<Figure size 432x288 with 1 Axes>"
      ]
     },
     "metadata": {
      "needs_background": "light"
     },
     "output_type": "display_data"
    }
   ],
   "source": [
    "#Up-sample Minority Class\n",
    "\n",
    "from sklearn.utils import resample\n",
    "\n",
    "# Separate majority and minority classes\n",
    "df_majority = data_clean[data_clean['inc_dm_2009']==0]\n",
    "df_minority = data_clean[data_clean['inc_dm_2009']==1]\n",
    "\n",
    "# Upsample minority class\n",
    "df_minority_upsampled = resample(df_minority, \n",
    "                                 replace=True,     # sample with replacement\n",
    "                                 n_samples=398,    # to match majority class\n",
    "                                 random_state=123) \n",
    "\n",
    "\n",
    "# Combine majority class with upsampled minority class\n",
    "df_upsampled = pd.concat([df_majority, df_minority_upsampled])\n",
    "\n",
    "#Our feature varuables (miRNA values) start from the 3rd column\n",
    "X = df_upsampled.iloc[:,3:]\n",
    "y = df_upsampled['inc_dm_2009'].astype(int)\n",
    "\n",
    "# Display new class counts\n",
    "y_counts = y.value_counts()\n",
    "\n",
    "y_counts.plot(kind='bar', title='Count (target)', color=['slateblue','salmon']);"
   ]
  },
  {
   "cell_type": "markdown",
   "metadata": {},
   "source": [
    "Before we process the feature variables, we should split the data into our training and test set. This is to ensure *no information from the test set will \"leak\" into our training data*. The *stratify* arguement ensures that the distribution of the target variable in the training and test will be equal to that of the original set."
   ]
  },
  {
   "cell_type": "code",
   "execution_count": 8,
   "metadata": {},
   "outputs": [],
   "source": [
    "from sklearn.model_selection import train_test_split\n",
    "\n",
    "X_train, X_test, y_train, y_test = train_test_split(X, y, test_size=0.2, stratify=y, random_state=42)"
   ]
  },
  {
   "cell_type": "markdown",
   "metadata": {},
   "source": [
    "Now let's go on to process the miRNA expression values. First let's check the distribution of the first column:"
   ]
  },
  {
   "cell_type": "code",
   "execution_count": 13,
   "metadata": {},
   "outputs": [
    {
     "data": {
      "image/png": "[encoded data removed]",
      "text/plain": [
       "<Figure size 432x288 with 1 Axes>"
      ]
     },
     "metadata": {
      "needs_background": "light"
     },
     "output_type": "display_data"
    }
   ],
   "source": [
    "#Let's plot two random columns to see the distribution\n",
    "plt.clf()\n",
    "sns.distplot(data_clean['hsa-miR-1274A-002883'])\n",
    "plt.title('hsa-miR-1274A-002883')\n",
    "plt.show()\n",
    "\n"
   ]
  },
  {
   "cell_type": "markdown",
   "metadata": {},
   "source": [
    "As expected with the gene expression data, our miRNA expression values follow a *__negative binomial distribution__* which is skewed towards 0. This is because the majority of the expression values are expected to be equal or close to 0.   \n",
    "\n",
    "However, many ML methods assume data are normally distributed and normalized/scaled (e.g. support vector machine(svm), k-nearest neighbors (knn),...). So at the same time, we will handle the issue of missing values with imputation as some ML methods cannot process missing values. According to [Troyanskaya et. al, 2001](https://academic.oup.com/bioinformatics/article/17/6/520/272365) and [Scheel et. al, 2005](https://pubmed.ncbi.nlm.nih.gov/16216830/) a widely used method to do this is by knn-imputation after removing columns with more than 10% missing information. \n",
    "\n",
    "So the data processing (seperately for the training and test sets) includes:\n",
    "1. __Log-transformion__: data will follow the normal distribution \n",
    "2. __Imputation__ on columns with < 10% missing information - the rest will be dropped \n",
    "3. __Data scaling__ \n"
   ]
  },
  {
   "cell_type": "code",
   "execution_count": 6,
   "metadata": {},
   "outputs": [
    {
     "name": "stdout",
     "output_type": "stream",
     "text": [
      "Processing done\n"
     ]
    }
   ],
   "source": [
    "#Log-transformion\n",
    "\n",
    "X_train_log = np.log2(X_train)\n",
    "X_test_log = np.log2(X_test)\n",
    "\n",
    "#Imputation\n",
    "\n",
    "#remove columns with missing data > 10% in the whole dataset and then impute test and train sets\n",
    "cols = X.columns[X.isnull().mean() < 0.1]\n",
    "\n",
    "X_train_log_flt = X_train_log[cols]\n",
    "X_test_log_flt = X_test_log[cols]\n",
    "\n",
    "#13/49 columns (feature variables) were removed\n",
    "\n",
    "#knn-imputation - fit and transform the train set and then fit to the test set in order to simulate real testing conditions\n",
    "from sklearn.impute import KNNImputer\n",
    "    \n",
    "imputer = KNNImputer(n_neighbors=5, weights=\"uniform\")\n",
    "\n",
    "X_train_imp = imputer.fit_transform(X_train_log_flt)\n",
    "X_test_imp = imputer.transform(X_test_log_flt) \n",
    "\n",
    "#Now we will scale the data to [0,1] as it is necessary for some distance-based machine learning estimators (SVM, knn) \n",
    "\n",
    "from sklearn.preprocessing import MinMaxScaler\n",
    "scaler = MinMaxScaler(feature_range=(0, 1))\n",
    "\n",
    "X_train_sc = scaler.fit_transform(X_train_imp)\n",
    "X_test_sc = scaler.transform(X_test_imp) #Here we only need to transform the test data\n",
    "\n",
    "print('Processing done')"
   ]
  },
  {
   "cell_type": "markdown",
   "metadata": {},
   "source": [
    "## Performance measures\n",
    "\n",
    "As mentioned earlier, originally the target variable of the dataset was highly imbalanced (many 0s = subject will remain healthy and few 1s = subject will develop diabetes).\n",
    "\n",
    "When I first trained and cross-validated the dataset I was getting relatively good __precision__ scores (e.g. 0.75), although my models could <u>only predict the 0s</u>, meaning that by definition precision for class 0 was 100 and for class 1 was 0. Howerver, as 0s were 2.5 times more in the test set the average was 0.75. \n",
    "\n",
    "So in order to account for both the false positives and the false negatives and the differences between the 2 classes, the __average f1 score__ between the classes was selected as the most appropriate performance measure. \n",
    "\n",
    "It should be mentioned that __AUC__ is not ideal for imbalanced data and it is less interpretable as the increasing of AUC doesn't really reflect a better classifier (e.g. a score can be high due to large *false positives*, rather than the large *true positives*)\n",
    "\n",
    "\n",
    "## Grid Search and Cross-Validation\n",
    "\n",
    "Every ML method's performance is determined by a number of hyperparapmeter values (external characteristics of the model that cannot be estimated from the data) defined by the user. A grid search is the process where hyperparameter tuning is performed in search of the best combination of hyperparameter values that results in the most \"accurate\" predicitons.  \n",
    "\n",
    "This hyperparameter optimization is performed using stratified k-fold cross-validation (default in the sklearn's grid search algorithm) where: \n",
    "1. the training data is first split into k subsets (k-fold) with the same percentage of samples for each class (stratified)\n",
    "2. the model is trained on all but one (k-1) of the subsets\n",
    "3. the performance of the model is evaluated on the subset that was not used for training\n",
    "\n",
    "This ensures that training and validation is not performed in the same samples and __prevents the model from overfitting__. \n",
    "\n",
    "*10-fold* cross-validation was selected for validation in our models.  \n",
    "\n",
    "\n",
    "\n",
    "## Machine Learning methods\n",
    "\n",
    "After we processed our data, it is time to start training and evaluating ML methods. \n",
    "\n",
    "### Support Vector Machine (SVC)\n",
    "\n",
    "First we will start with a Support Vector Machine (SVC). The aim of the algorithm is to find a hyperplane in a N-dimensional space (N = number of features) that seperates the data points of two classes. A hyperplane is a decision boundary where the distance between data points of both classes (functional margin) is maximized and in that way the data points can be classified. \n",
    "\n",
    "\n",
    "Here we will perform a grid search searching for the best values of the hyperparameters:  \n",
    "* __kernel__: When two classes can't be seperated by a line, they can be transformed in a non-linear manner and a hyperplane can be searched in the transformed data points. These transformation functions are are called kernels.\n",
    "* __regularization parameter C__: determines how many data samples are allowed to be placed in different classes\n",
    "* __gamma__: determines the curvature of the decision boundary or, simply put, the distance a single data sample exerts influence\n",
    "\n",
    "Finally we will use the best best hyperparameter values to evaluate the model in our test data:"
   ]
  },
  {
   "cell_type": "code",
   "execution_count": 15,
   "metadata": {},
   "outputs": [
    {
     "name": "stdout",
     "output_type": "stream",
     "text": [
      "Best Kernel: rbf\n",
      "Best C: 1\n",
      "Best gamma: 100\n",
      "Best Score: 0.91\n",
      "\n",
      "Classification Report: \n",
      "               precision    recall  f1-score   support\n",
      "\n",
      "           0       0.91      1.00      0.95        80\n",
      "           1       1.00      0.90      0.95        80\n",
      "\n",
      "    accuracy                           0.95       160\n",
      "   macro avg       0.95      0.95      0.95       160\n",
      "weighted avg       0.95      0.95      0.95       160\n",
      "\n"
     ]
    },
    {
     "data": {
      "image/png": "[encoded data removed]",
      "text/plain": [
       "<Figure size 432x288 with 2 Axes>"
      ]
     },
     "metadata": {
      "needs_background": "light"
     },
     "output_type": "display_data"
    },
    {
     "name": "stdout",
     "output_type": "stream",
     "text": [
      "--- 22.28 seconds ---\n"
     ]
    }
   ],
   "source": [
    "#SVM model\n",
    "\n",
    "from sklearn.model_selection import GridSearchCV\n",
    "from sklearn import svm\n",
    "from sklearn.metrics import classification_report, confusion_matrix, plot_confusion_matrix\n",
    "import time\n",
    "\n",
    "start_time = time.time()\n",
    "\n",
    "#parameters for grid search\n",
    "parameters = [{'kernel':['linear'],'C':[0.001,0.01, 0.1, 1, 10, 100, 1000]}, \n",
    "              {'kernel':['rbf'],'C':[0.001,0.01, 0.1, 1, 10, 100, 1000], 'gamma': [0.001,0.01, 0.1, 1, 10, 100, 1000]}]\n",
    "\n",
    "#define the model\n",
    "svc = svm.SVC(random_state = 42)\n",
    "\n",
    "#grid search in our training data\n",
    "svm_model = GridSearchCV(svc, parameters, cv = 10, scoring = 'f1_macro')\n",
    "svm_model = svm_model.fit(X_train_sc, y_train) \n",
    "   \n",
    "print('Best Kernel:', svm_model.best_estimator_.get_params()['kernel'])\n",
    "print('Best C:', svm_model.best_estimator_.get_params()['C'])\n",
    "print('Best gamma:', svm_model.best_estimator_.get_params()['gamma'])\n",
    "print(\"Best Score: %0.2f\" % svm_model.best_score_)\n",
    "print()\n",
    "\n",
    "#predict in our test data\n",
    "y_true, y_pred = y_test, svm_model.predict(X_test_sc)\n",
    "\n",
    "#print table and graph\n",
    "print(\"Classification Report:\", \"\\n\", classification_report(y_true, y_pred))\n",
    "\n",
    "plot_confusion_matrix(svm_model, X_test_sc, y_test)\n",
    "plt.show()\n",
    "\n",
    "print(\"--- %0.2f seconds ---\" % (time.time() - start_time))"
   ]
  },
  {
   "cell_type": "markdown",
   "metadata": {},
   "source": [
    "The best combination of hyperparameters shown in the first 4 lines give an *average f1 score* of 0.91 using the cross-validated training data. When hyperparameters are applied in the test data they give an average f1 score of 0.95.\n",
    "\n",
    "According tot the confusion matrix, only 8 out of 80 samples of class 1 were false negatives, while the rest of the samples were classified correctly. \n",
    "\n"
   ]
  },
  {
   "cell_type": "markdown",
   "metadata": {},
   "source": [
    "### Decision Trees and Dimensionality Reduction\n",
    "\n",
    "Decision Trees use an algorithmic approach to identify parameters in the data set that will let them split the data in a sequential and hierarchical way across branches, such that can lead to the classification of the data. \n",
    "\n",
    "Although they are very easy to interpret and are pretty accurate for small datasets, the lack of extensive hyperparameters make them prone to overfitting. This is why it is suggested to performe dimensionality reduction beforehand to give our tree a better chance of finding features that are discriminative.\n",
    "\n",
    "Here we will select the __Principal Compponent Analysis (PCA)__ as our dimensionality reduction technique in order to decompose our 36 feature variables in a set of components that explain a maximum amount of variance in the data set. The output of PCA will be the input of the Decision Tree estimator.\n",
    "\n",
    "*Sklearn* allows us to decide the best number of PCA components to be included in our model by incorporating that to the Grid Search. In the Grid Search we will also search for the best values of the hyperparameters:\n",
    "* __criterion__: The function to measure the quality of a split\n",
    "* __max_depth__: The maximum number of levels in the tree\n",
    "\n",
    "\n",
    "Finally we will use the best best hyperparameter values to evaluate the model in our test data:"
   ]
  },
  {
   "cell_type": "code",
   "execution_count": 18,
   "metadata": {},
   "outputs": [
    {
     "name": "stdout",
     "output_type": "stream",
     "text": [
      "Best Criterion: entropy\n",
      "Best max_depth: 24\n",
      "Best Number Of Components: 17\n",
      "Best Score: 0.82\n",
      "\n",
      "Classification Report: \n",
      "               precision    recall  f1-score   support\n",
      "\n",
      "           0       0.92      0.68      0.78        80\n",
      "           1       0.74      0.94      0.83        80\n",
      "\n",
      "    accuracy                           0.81       160\n",
      "   macro avg       0.83      0.81      0.80       160\n",
      "weighted avg       0.83      0.81      0.80       160\n",
      "\n"
     ]
    },
    {
     "data": {
      "image/png": "[encoded data removed]",
      "text/plain": [
       "<Figure size 432x288 with 2 Axes>"
      ]
     },
     "metadata": {
      "needs_background": "light"
     },
     "output_type": "display_data"
    },
    {
     "name": "stdout",
     "output_type": "stream",
     "text": [
      "--- 67.08 seconds ---\n"
     ]
    }
   ],
   "source": [
    "#Decision Trees\n",
    "\n",
    "\n",
    "#We take advantage of the Pipeline function of sklearn in order to grid search for the best number of PCA \n",
    "#components to input in our decision trees, and the best hyperparameters of our tree at the same time \n",
    "\n",
    "from sklearn import decomposition\n",
    "from sklearn.tree import DecisionTreeClassifier\n",
    "from sklearn.pipeline import Pipeline\n",
    "from sklearn.model_selection import GridSearchCV\n",
    "from sklearn.metrics import classification_report, confusion_matrix, plot_confusion_matrix\n",
    "import time\n",
    "\n",
    "start_time = time.time()\n",
    "\n",
    "pca = decomposition.PCA()\n",
    "decisiontree = DecisionTreeClassifier(random_state = 45)\n",
    "\n",
    "# Create a pipeline of two steps: \n",
    "\n",
    "# 1) tranform the data with PCA, 2) train a Decision Tree Classifier on the data.\n",
    "pipe = Pipeline(steps=[('pca', pca), ('decisiontree', decisiontree)])\n",
    "\n",
    "# 2) Create Parameter Space\n",
    "\n",
    "# Create a list of a sequence of integers to integrate from PCA\n",
    "n_components = list(range(1,X_train_sc.shape[1]+1,1))\n",
    "\n",
    "# Create lists of parameter for Decision Tree Classifier\n",
    "criterion = ['gini', 'entropy']\n",
    "max_depth = list(range(4,30,4))\n",
    "parameters = dict(pca__n_components=n_components,\n",
    "                      decisiontree__criterion=criterion,\n",
    "                      decisiontree__max_depth=max_depth)\n",
    "\n",
    "\n",
    "model_dt = GridSearchCV(pipe, parameters, cv = 10, scoring = 'f1_macro')\n",
    "model_dt.fit(X_train_sc, y_train)\n",
    "\n",
    "print('Best Criterion:', model_dt.best_estimator_.get_params()['decisiontree__criterion'])\n",
    "print('Best max_depth:', model_dt.best_estimator_.get_params()['decisiontree__max_depth'])\n",
    "print('Best Number Of Components:', model_dt.best_estimator_.get_params()['pca__n_components'])\n",
    "print(\"Best Score: %0.2f\" % model_dt.best_score_)\n",
    "print()\n",
    "\n",
    "#predict in our test data\n",
    "y_true, y_pred = y_test, model_dt.predict(X_test_sc)\n",
    "\n",
    "print(\"Classification Report:\", \"\\n\", classification_report(y_true, y_pred))\n",
    "\n",
    "#Confusion plot    \n",
    "plot_confusion_matrix(model_dt, X_test_sc, y_test)\n",
    "plt.show()\n",
    "\n",
    "print(\"--- %0.2f seconds ---\" % (time.time() - start_time))"
   ]
  },
  {
   "cell_type": "markdown",
   "metadata": {},
   "source": [
    "The best combination of hyperparameters shown in the first 3 lines give an *average f1 score* of 0.82 using the cross-validated training data. When hyperparameters are applied in the test data they give an average f1 score of 0.80.\n",
    "\n",
    "According tot the confusion matrix, the model is better at predicting 1s than 0s (more false positives than false negatives). "
   ]
  },
  {
   "cell_type": "markdown",
   "metadata": {},
   "source": [
    "### k-nearest neighbors (KNN)\n",
    "\n",
    "The KNN model assumes that similar things exist in close proximity. So after storing the entire training dataset, when a prediction is required, the k-most similar records to a new record (neighbors) from the training dataset are located. From these neighbors, a summarized prediction is made. This model is used mainly for classification and it is easy to interpret.\n",
    "\n",
    "Here we will perform a Grid Search for the values of the hyperparameters:  \n",
    "* __n_neighbors__: Number of neighbors to be used for the prediction\n",
    "* __weights__: Weight function used in predictions\n",
    "* __leaf_size__: Different algorithms are used to compute the nearest neighbors. Due to high computational time, some algorithms opt for a tree-based query instead of brute force search. *leaf_size* determines the point at which the tree-based query will internally switch to a brute force searching.\n",
    "\n",
    "Finally we will use the best best hyperparameter values to evaluate the model in our test data:"
   ]
  },
  {
   "cell_type": "code",
   "execution_count": 20,
   "metadata": {},
   "outputs": [
    {
     "name": "stdout",
     "output_type": "stream",
     "text": [
      "Best leaf_size: 1\n",
      "Best weight function: uniform\n",
      "Best n_neighbors: 1\n",
      "Best Score: 0.77\n",
      "Classification Report: \n",
      "               precision    recall  f1-score   support\n",
      "\n",
      "           0       0.91      0.75      0.82        80\n",
      "           1       0.79      0.93      0.85        80\n",
      "\n",
      "    accuracy                           0.84       160\n",
      "   macro avg       0.85      0.84      0.84       160\n",
      "weighted avg       0.85      0.84      0.84       160\n",
      "\n"
     ]
    },
    {
     "data": {
      "image/png": "[encoded data removed]",
      "text/plain": [
       "<Figure size 432x288 with 2 Axes>"
      ]
     },
     "metadata": {
      "needs_background": "light"
     },
     "output_type": "display_data"
    },
    {
     "name": "stdout",
     "output_type": "stream",
     "text": [
      "--- 11.60 seconds ---\n"
     ]
    }
   ],
   "source": [
    "#Knn \n",
    "\n",
    "from sklearn.neighbors import KNeighborsClassifier\n",
    "from sklearn.model_selection import GridSearchCV\n",
    "from sklearn.metrics import classification_report, confusion_matrix, plot_confusion_matrix\n",
    "import time\n",
    "\n",
    "start_time = time.time()\n",
    "\n",
    "#define the model and grid parameters\n",
    "knn = KNeighborsClassifier()\n",
    "\n",
    "parameters = {'n_neighbors':[1,3,5,7,9,11,13,15,17,19,21], #usually odd numbers\n",
    "              'leaf_size':[1,2,3,5],\n",
    "              'weights':['uniform', 'distance']}\n",
    "\n",
    "#Fit the model\n",
    "model_knn = GridSearchCV(knn, param_grid=parameters, cv = 10, scoring = 'f1_macro')\n",
    "model_knn.fit(X_train_sc,y_train)\n",
    "\n",
    "print('Best leaf_size:', model_knn.best_estimator_.get_params()['leaf_size'])\n",
    "print('Best weight function:', model_knn.best_estimator_.get_params()['weights'])\n",
    "print('Best n_neighbors:', model_knn.best_estimator_.get_params()['n_neighbors'])\n",
    "print(\"Best Score: %0.2f\" %  model_knn.best_score_)\n",
    "\n",
    "#predict in our test data\n",
    "y_true, y_pred = y_test, model_knn.predict(X_test_sc)\n",
    "\n",
    "print(\"Classification Report:\", \"\\n\", classification_report(y_true, y_pred))\n",
    "\n",
    "#Confusion plot    \n",
    "plot_confusion_matrix(model_knn, X_test_sc, y_test)\n",
    "plt.show()  \n",
    "\n",
    "print(\"--- %0.2f seconds ---\" % (time.time() - start_time))"
   ]
  },
  {
   "cell_type": "markdown",
   "metadata": {},
   "source": [
    "The best combination of hyperparameters shown in the first 3 lines give an *average f1 score* of 0.77 using the cross-validated training data. When hyperparameters are applied in the test data they give an average f1 score of 0.84.\n",
    "\n",
    "According tot the confusion matrix, the model is better at predicting 1s than 0s (more false positives than false negatives)."
   ]
  },
  {
   "cell_type": "markdown",
   "metadata": {},
   "source": [
    "### Random Forest and Randomized Hyperparameter Search\n",
    "\n",
    "A Random Forest Classifier consists of a large number of individual decision trees, each one created from a subset of the training set. Then it aggregates the results in order to decide the best classification parameters.\n",
    "\n",
    "It is a widely used algorithm due to its structure, however the performance depends on a large number of hyperparameters. That is why we will use a different approach to do the hyperparameter tuning, the __RandomizedSearchCV__. Contrary to a Grid Search, not all parameter values will be tried out, but rather random combinations of them. The number of combinations is defined by __n_iter__. \n",
    "\n",
    "We choose this approach as the large number of hyperparameters will make an exhaustive Grid Search computationally expensive. \n",
    "\n",
    "The Randomized Search will be used to tune the hyperparameters:  \n",
    "* __n_estimators__: Number of trees in the random forest\n",
    "* __max_features__: Number of features to consider at every split\n",
    "* __max_depth__: Maximum number of levels in tree\n",
    "* __min_samples_split__: Minimum number of samples required to split a node\n",
    "* __min_samples_leaf__: Minimum number of samples required to be at each leaf node\n",
    "* __bootstrap__: Method of selecting samples for training each tree. If False, the whole dataset is used to build each tree.\n",
    "\n",
    "Finally we will use the best best hyperparameter values to evaluate the model in our test data:"
   ]
  },
  {
   "cell_type": "code",
   "execution_count": 21,
   "metadata": {},
   "outputs": [
    {
     "name": "stdout",
     "output_type": "stream",
     "text": [
      "Best Parameters: {'n_estimators': 1000, 'min_samples_split': 2, 'min_samples_leaf': 1, 'max_features': 'log2', 'max_depth': 30, 'bootstrap': False}\n",
      "Best Score: 0.89\n",
      "Classification Report: \n",
      "               precision    recall  f1-score   support\n",
      "\n",
      "           0       0.91      1.00      0.95        80\n",
      "           1       1.00      0.90      0.95        80\n",
      "\n",
      "    accuracy                           0.95       160\n",
      "   macro avg       0.95      0.95      0.95       160\n",
      "weighted avg       0.95      0.95      0.95       160\n",
      "\n"
     ]
    },
    {
     "data": {
      "image/png": "[encoded data removed]",
      "text/plain": [
       "<Figure size 432x288 with 2 Axes>"
      ]
     },
     "metadata": {
      "needs_background": "light"
     },
     "output_type": "display_data"
    },
    {
     "name": "stdout",
     "output_type": "stream",
     "text": [
      "--- 624.08 seconds ---\n"
     ]
    }
   ],
   "source": [
    "#Random Forests\n",
    "\n",
    "\n",
    "from sklearn.ensemble import RandomForestClassifier\n",
    "from sklearn.model_selection import RandomizedSearchCV\n",
    "from sklearn.metrics import classification_report, confusion_matrix, plot_confusion_matrix\n",
    "import time\n",
    "\n",
    "start_time = time.time()\n",
    "\n",
    "#define the model and hyperparameters\n",
    "rf = RandomForestClassifier()\n",
    "\n",
    "n_estimators = [200, 500, 1000, 1500, 2500]\n",
    "max_features = ['auto', 'log2']\n",
    "max_depth = [10, 20, 30, 40, 50]\n",
    "min_samples_split = [2, 5, 10, 15, 20]\n",
    "min_samples_leaf = [1, 2, 5, 10]\n",
    "bootstrap = [True, False]\n",
    "\n",
    "# Create the random grid\n",
    "random_grid = {'n_estimators': n_estimators,\n",
    "               'max_features': max_features,\n",
    "               'max_depth': max_depth,\n",
    "               'min_samples_split': min_samples_split,\n",
    "               'min_samples_leaf': min_samples_leaf,\n",
    "               'bootstrap': bootstrap}\n",
    "\n",
    "#fit the model\n",
    "rf_random = RandomizedSearchCV(\n",
    "    estimator = rf, param_distributions = random_grid, n_iter = 100, cv = 10, \n",
    "    scoring = 'f1_macro', n_jobs = -1, random_state = 42)\n",
    "rf_random.fit(X_train_sc, y_train)\n",
    "\n",
    "print(\"Best Parameters:\", rf_random.best_params_)\n",
    "print(\"Best Score: %0.2f\" % rf_random.best_score_)\n",
    "\n",
    "#predict in our test data\n",
    "y_true, y_pred = y_test, rf_random.predict(X_test_sc)\n",
    "\n",
    "print(\"Classification Report:\", \"\\n\", classification_report(y_true, y_pred))\n",
    "\n",
    "#Confusion plot    \n",
    "plot_confusion_matrix(rf_random, X_test_sc, y_test)\n",
    "plt.show() \n",
    "\n",
    "print(\"--- %0.2f seconds ---\" % (time.time() - start_time))"
   ]
  },
  {
   "cell_type": "markdown",
   "metadata": {},
   "source": [
    "The best combination of hyperparameters shown in the first line give an *average f1 score* of 0.89 using the cross-validated training data. When hyperparameters are applied in the test data they give an average f1 score of 0.95.\n",
    "\n",
    "According tot the confusion matrix, only 8 out of 80 samples of class 1 were false negatives, while the rest of the samples were classified correctly.\n",
    "\n",
    "### Random Forest Important Features\n",
    "\n",
    "This model lets us extract the feature coefficients and have a look at the miRNAs the classification process was based on. This can be useful in order to identify future miRNA targets that could predict if an individual will develop diabetes in the future:  "
   ]
  },
  {
   "cell_type": "code",
   "execution_count": 29,
   "metadata": {
    "scrolled": true
   },
   "outputs": [
    {
     "name": "stdout",
     "output_type": "stream",
     "text": [
      "Feature: hsa-let-7e-002406 - Coef: 0.0608\n",
      "Feature: hsa-miR-142-3p-000464 - Coef: 0.0504\n",
      "Feature: hsa-miR-186-002285 - Coef: 0.0484\n",
      "Feature: hsa-miR-484-001821 - Coef: 0.0482\n",
      "Feature: hsa-miR-223-002295 - Coef: 0.0389\n",
      "Feature: hsa-miR-150-000473 - Coef: 0.0349\n",
      "Feature: hsa-miR-191-002299 - Coef: 0.0338\n",
      "Feature: hsa-miR-20b-001014 - Coef: 0.0338\n",
      "Feature: hsa-miR-26a-000405 - Coef: 0.0338\n",
      "Feature: hsa-miR-24-000402 - Coef: 0.0299\n",
      "Feature: hsa-miR-126-002228 - Coef: 0.0295\n",
      "Feature: hsa-miR-574-3p-002349 - Coef: 0.029\n",
      "Feature: hsa-miR-92a-000431 - Coef: 0.0282\n",
      "Feature: hsa-miR-30b-000602 - Coef: 0.0278\n",
      "Feature: hsa-let-7b-002619 - Coef: 0.0275\n",
      "Feature: hsa-miR-342-3p-002260 - Coef: 0.0269\n",
      "Feature: hsa-miR-16-000391 - Coef: 0.0268\n",
      "Feature: hsa-miR-106a-002169 - Coef: 0.0266\n",
      "Feature: hsa-miR-146a-000468 - Coef: 0.0264\n",
      "Feature: hsa-miR-320-002277 - Coef: 0.0257\n",
      "Feature: hsa-miR-483-5p-002338 - Coef: 0.0257\n",
      "Feature: hsa-miR-222-002276 - Coef: 0.0247\n",
      "Feature: hsa-miR-1274B-002884 - Coef: 0.0245\n",
      "Feature: hsa-miR-146b-001097 - Coef: 0.0243\n",
      "Feature: hsa-miR-19b-000396 - Coef: 0.0236\n",
      "Feature: mmu-miR-451-001141 - Coef: 0.023\n",
      "Feature: hsa-miR-21-000397 - Coef: 0.0227\n",
      "Feature: hsa-miR-486-001278 - Coef: 0.0223\n",
      "Feature: hsa-miR-139-5p-002289 - Coef: 0.0221\n",
      "Feature: hsa-miR-338-5P-002658 - Coef: 0.0212\n",
      "Feature: hsa-miR-30c-000419 - Coef: 0.0207\n",
      "Feature: hsa-miR-20a-000580 - Coef: 0.02\n",
      "Feature: hsa-miR-197-000497 - Coef: 0.0194\n",
      "Feature: hsa-miR-720-002895 - Coef: 0.0185\n"
     ]
    }
   ],
   "source": [
    "# define the model\n",
    "rfr_model = rf_random.best_estimator_\n",
    "\n",
    "# fit the model\n",
    "rfr = rfr_model.fit(X_test_sc, y_test)\n",
    "# get coefficients\n",
    "importance_rfr = rfr.feature_importances_\n",
    "\n",
    "   \n",
    "#summarize feature importance - correspond it with the feature names of our dataset\n",
    "feature_dict_rfr = {}\n",
    "for i,v in enumerate(importance_rfr):\n",
    "    if v != 0:\n",
    "        feature_dict_rfr[cols[i]] = v\n",
    "#print only no negative coefficients\n",
    "for w in sorted(feature_dict_rfr, key=feature_dict_rfr.get, reverse=True):\n",
    "    print(\"Feature: {} - Coef: {:.3}\".format(w, feature_dict_rfr[w])) \n",
    "       "
   ]
  },
  {
   "cell_type": "markdown",
   "metadata": {},
   "source": [
    "### Logistic Regression\n",
    "\n",
    "We will perform a logistic regression in order to identify the relationship between our target binary variable and the feature variables and be able to classify the samples. To avoid overfitting, we apply regularization by penalizing high-valued regression coefficients. In this way, the model is shrinked (simplified) and more generalized. \n",
    "\n",
    "We will perform a Grid Search for the best values of the hyperparameters:  \n",
    "* __penalty__: Determines the type of penalization during regularization\n",
    "* __solver__: The optimization method to find the optimum of the objective function\n",
    "\n",
    "Finally we will use the best best hyperparameter values to evaluate the model in our test data:"
   ]
  },
  {
   "cell_type": "code",
   "execution_count": 25,
   "metadata": {},
   "outputs": [
    {
     "name": "stdout",
     "output_type": "stream",
     "text": [
      "Best Parameters: {'C': 1, 'penalty': 'l1', 'solver': 'liblinear'}\n",
      "Best Score: 0.60\n",
      "Classification Report: \n",
      "               precision    recall  f1-score   support\n",
      "\n",
      "           0       0.59      0.62      0.61        80\n",
      "           1       0.60      0.56      0.58        80\n",
      "\n",
      "    accuracy                           0.59       160\n",
      "   macro avg       0.59      0.59      0.59       160\n",
      "weighted avg       0.59      0.59      0.59       160\n",
      "\n"
     ]
    },
    {
     "data": {
      "image/png": "[encoded data removed]",
      "text/plain": [
       "<Figure size 432x288 with 2 Axes>"
      ]
     },
     "metadata": {
      "needs_background": "light"
     },
     "output_type": "display_data"
    },
    {
     "name": "stdout",
     "output_type": "stream",
     "text": [
      "--- 4.14 seconds ---\n"
     ]
    }
   ],
   "source": [
    "#Logistic regression\n",
    "\n",
    "from sklearn.linear_model import LogisticRegression\n",
    "from sklearn.model_selection import GridSearchCV\n",
    "from sklearn.metrics import classification_report, confusion_matrix, plot_confusion_matrix\n",
    "import time\n",
    "\n",
    "start_time = time.time()\n",
    "\n",
    "# Create logistic regression\n",
    "logistic = LogisticRegression(random_state = 42) #This optimazation algorithm is the only one compatible with all 3 penalties\n",
    "\n",
    "# Create regularization penalty space\n",
    "solver = ['newton-cg', 'lbfgs', 'liblinear', 'sag', 'saga']\n",
    "penalty = ['l1','l2', 'elasticnet', 'none']\n",
    "\n",
    "# Create regularization hyperparameter space\n",
    "C = [0.001,0.01, 0.1, 1, 10, 100, 1000]\n",
    "\n",
    "# Create hyperparameter options\n",
    "hyperparameters = dict(C=C, penalty=penalty, solver=solver)\n",
    "\n",
    "# Create grid search using 5-fold cross validation\n",
    "model_log = GridSearchCV(logistic, hyperparameters, cv=10, scoring = 'f1_macro', n_jobs = -1)\n",
    "model_log.fit(X_train_sc,y_train)\n",
    "\n",
    "print(\"Best Parameters:\", model_log.best_params_)\n",
    "print(\"Best Score: %0.2f\" % model_log.best_score_)\n",
    "\n",
    "#predict in our test data\n",
    "y_true, y_pred = y_test, model_log.predict(X_test_sc)\n",
    "\n",
    "print(\"Classification Report:\", \"\\n\", classification_report(y_true, y_pred))\n",
    "\n",
    "#Confusion plot    \n",
    "plot_confusion_matrix(model_log, X_test_sc, y_test)\n",
    "plt.show()\n",
    "\n",
    "print(\"--- %0.2f seconds ---\" % (time.time() - start_time))"
   ]
  },
  {
   "cell_type": "markdown",
   "metadata": {},
   "source": [
    "The best combination of hyperparameters shown in the first line give an *average f1 score* of 0.60 using the cross-validated training data. When hyperparameters are applied in the test data they give an average f1 score of 0.59.\n",
    "\n",
    "According tot the confusion matrix, there are many equally many false positives and false negatives.\n",
    "\n",
    "### Logistic regression Important Features\n",
    "\n",
    "This model also lets us extract the feature coefficients and see in which miRNAs the classification process was based on: "
   ]
  },
  {
   "cell_type": "code",
   "execution_count": 26,
   "metadata": {},
   "outputs": [
    {
     "name": "stdout",
     "output_type": "stream",
     "text": [
      "Feature: hsa-miR-150-000473 - Coef: 0.34\n",
      "Feature: hsa-miR-142-3p-000464 - Coef: 0.132\n",
      "Feature: hsa-let-7e-002406 - Coef: 0.0694\n",
      "Feature: hsa-miR-574-3p-002349 - Coef: -0.189\n",
      "Feature: hsa-miR-484-001821 - Coef: -0.539\n"
     ]
    }
   ],
   "source": [
    "# define the model\n",
    "logm = model_log.best_estimator_\n",
    "\n",
    "# fit the model\n",
    "log = logm.fit(X_test_sc, y_test)\n",
    "\n",
    "# get feature coefficients\n",
    "importance_log = log.coef_[0]\n",
    "\n",
    "# summarize feature importance - correspond it with the feature names of our dataset\n",
    "feature_dict_log = {}\n",
    "for i,v in enumerate(importance_log):\n",
    "    if v != 0:\n",
    "        feature_dict_log[cols[i]] = v\n",
    "#print only no negative coefficients\n",
    "for w in sorted(feature_dict_log, key=feature_dict_log.get, reverse=True):\n",
    "    print(\"Feature: {} - Coef: {:.3}\".format(w, feature_dict_log[w]))"
   ]
  },
  {
   "cell_type": "markdown",
   "metadata": {},
   "source": [
    "### Ensemble methods\n",
    "\n",
    "Ensemble methods combine multiple ML algorithms to increase their predictive performance compared to that of any of the constituent learning algorithm alone. We will use two approaches:\n",
    "\n",
    "* __Majotity Voting Classifier__: \n",
    "Every model makes a prediction (vote) for each test instance and the final output prediction is the one that receives more than half of the votes (__Voting=hard__ should be set)\n",
    "\n",
    "* __Stacking Classifier__: \n",
    "The predictions of every model are combined (stacked) and used by another classifier (__final estimator__) which will predict the final output. As our final estimator the default (__Logistic Regression__) was selected.\n",
    "\n",
    "\n",
    "All four models (__svm__, __knn__, __random forest__, __logistic regression__) are going to be used with the two Ensemble methods supplied with the hyperparameters that performed best given our training data. The __decision tree classifier__, which was trained on PCA-transformed training data, will not be used."
   ]
  },
  {
   "cell_type": "code",
   "execution_count": 27,
   "metadata": {},
   "outputs": [
    {
     "name": "stdout",
     "output_type": "stream",
     "text": [
      "Ensembl Score: 0.95\n",
      "Classification Report: \n",
      "               precision    recall  f1-score   support\n",
      "\n",
      "           0       0.91      1.00      0.95        80\n",
      "           1       1.00      0.90      0.95        80\n",
      "\n",
      "    accuracy                           0.95       160\n",
      "   macro avg       0.95      0.95      0.95       160\n",
      "weighted avg       0.95      0.95      0.95       160\n",
      "\n"
     ]
    },
    {
     "data": {
      "image/png": "[encoded data removed]",
      "text/plain": [
       "<Figure size 432x288 with 2 Axes>"
      ]
     },
     "metadata": {
      "needs_background": "light"
     },
     "output_type": "display_data"
    },
    {
     "name": "stdout",
     "output_type": "stream",
     "text": [
      "--- 2.92 seconds ---\n"
     ]
    }
   ],
   "source": [
    "#Ensemble - Voting Classifier\n",
    "\n",
    "\n",
    "from sklearn.ensemble import VotingClassifier\n",
    "from sklearn.metrics import classification_report, confusion_matrix, plot_confusion_matrix\n",
    "import time\n",
    "\n",
    "start_time = time.time()\n",
    "\n",
    "#Define the models with the best hyperparameters  \n",
    "rf_best = rf_random.best_estimator_\n",
    "knn_best = model_knn.best_estimator_\n",
    "log_best = model_log.best_estimator_\n",
    "svm_best = svm_model.best_estimator_\n",
    "\n",
    "#create a dictionary of our models\n",
    "estimators=[('knn', knn_best), ('rf', rf_best), ('log', log_best),('svm', svm_best)]\n",
    "\n",
    "#create our voting classifier, inputting our models\n",
    "ensemble_vt = VotingClassifier(estimators, voting='hard')\n",
    "\n",
    "#fit model to training data\n",
    "ensemble_vt.fit(X_train_sc, y_train)\n",
    "\n",
    "#test our model on the test data\n",
    "print(\"Score: {:.2}\".format(ensemble_vt.score(X_test_sc, y_test)))\n",
    "\n",
    "y_true, y_pred = y_test, ensemble_vt.predict(X_test_sc)\n",
    "\n",
    "print(\"Classification Report:\", \"\\n\", classification_report(y_true, y_pred))\n",
    "\n",
    "#Confusion plot    \n",
    "plot_confusion_matrix(ensemble_vt, X_test_sc, y_test)\n",
    "plt.show()\n",
    "\n",
    "print(\"--- %0.2f seconds ---\" % (time.time() - start_time))"
   ]
  },
  {
   "cell_type": "code",
   "execution_count": 28,
   "metadata": {},
   "outputs": [
    {
     "name": "stdout",
     "output_type": "stream",
     "text": [
      "Ensembl Score: 0.95\n",
      "Classification Report: \n",
      "               precision    recall  f1-score   support\n",
      "\n",
      "           0       0.91      1.00      0.95        80\n",
      "           1       1.00      0.90      0.95        80\n",
      "\n",
      "    accuracy                           0.95       160\n",
      "   macro avg       0.95      0.95      0.95       160\n",
      "weighted avg       0.95      0.95      0.95       160\n",
      "\n"
     ]
    },
    {
     "data": {
      "image/png": "[encoded data removed]",
      "text/plain": [
       "<Figure size 432x288 with 2 Axes>"
      ]
     },
     "metadata": {
      "needs_background": "light"
     },
     "output_type": "display_data"
    },
    {
     "name": "stdout",
     "output_type": "stream",
     "text": [
      "--- 25.94 seconds ---\n"
     ]
    }
   ],
   "source": [
    "#Ensemble - Stacking Classifier\n",
    "\n",
    "#the predictions of each individual base learner are stacked together and used as input to a \n",
    "#meta learner to compute the prediction. This meta learner is then trained through cross-validation.\n",
    "\n",
    "from sklearn.ensemble import StackingClassifier\n",
    "from sklearn.metrics import classification_report, confusion_matrix, plot_confusion_matrix\n",
    "import time\n",
    "\n",
    "start_time = time.time()\n",
    "\n",
    "#Define the models with the best hyperparameters  \n",
    "rf_best = rf_random.best_estimator_\n",
    "knn_best = model_knn.best_estimator_\n",
    "log_best = model_log.best_estimator_\n",
    "svm_best = svm_model.best_estimator_\n",
    "\n",
    "#create a dictionary of our models\n",
    "estimators=[('knn', knn_best), ('rf', rf_best), ('log', log_best), ('svm', svm_best)]\n",
    "\n",
    "#create our voting classifier, inputting our models\n",
    "ensemble_st = StackingClassifier(estimators=estimators, cv = 10, \n",
    "                                 final_estimator = LogisticRegression())\n",
    "\n",
    "\n",
    "#fit model to training data\n",
    "ensemble_st.fit(X_train_sc, y_train)    \n",
    "    \n",
    "#test our model on the test data\n",
    "print(\"Ensembl Score:\", ensemble_st.score(X_test_sc, y_test))\n",
    "\n",
    "y_true, y_pred = y_test, ensemble_st.predict(X_test_sc)\n",
    "\n",
    "print(\"Classification Report:\", \"\\n\", classification_report(y_true, y_pred))\n",
    "\n",
    "#Confusion plot    \n",
    "plot_confusion_matrix(ensemble_vt, X_test_sc, y_test)\n",
    "plt.show()\n",
    "\n",
    "print(\"--- %0.2f seconds ---\" % (time.time() - start_time))"
   ]
  },
  {
   "cell_type": "markdown",
   "metadata": {},
   "source": [
    "## Method comparison \n",
    "\n",
    "### Ease-of-use: \n",
    "I found the __Decision Trees__, __KNN__ and __Logistic Regression__ algorithms  to be the easiest to use, as the number of \"necessary\" hyperparameters to adjust was low. They are also more interpretable compared to the other algorithms. Although they are very quick and simple, they had the worst performance (0.80, 0,84, 0.59 on the test set, respectively).  \n",
    "\n",
    "### Performance:\n",
    "__SVM__ and __Random Forest__ had the highest performance on the test data (0.95), while __SVM__ had a slightly better performance on the cross-validation of the training data (0.91 vs 0.89). Suprisingly, although they had identical performance on the test set, __SVM__ was significantly faster (22s vs 624s). \n",
    "Both __Ensemble__ methods reached, but could not improve, the performance of these algorithms generating the same score (0.95). \n",
    "\n",
    "### Computational Time: \n",
    "As expected, algorithms with lower number of hyperparameters to be tuned required less computational time to be trained and cross-validated. __KNN__ and __Logistic Regression__ were the faster methods, but as mentioned before, they performed poorly.\n",
    "\n",
    "### Important Feaure Variables:\n",
    "Two of the ML methods, __Logistic Regression__ and __Random Forest__ could provide us with the coefficients of the features. As seen from the corresponding tables, __Random Forest__ used almost all (34/36) features when predicting the outcome, while __Logistic Regression__ used only 5. This is because of its stricter L1 penalty during the regularization process.\n",
    "\n",
    "In the original study, 2 miRNAs were correlated with the future diabetes incidence using logistic regression adjusted for *sex* and *age*. One of the 2, *hsa-let-7e-002406*, was also among the 5 \"important\" featues in our __Logistic Regression__ model. The other one was not identified, meaning that sex and age, if they were publicly available, would be useful incorporate to our dataset in order to achieve more accurate predictions.\n"
   ]
  }
 ],
 "metadata": {
  "kernelspec": {
   "display_name": "Python 3",
   "language": "python",
   "name": "python3"
  },
  "language_info": {
   "codemirror_mode": {
    "name": "ipython",
    "version": 3
   },
   "file_extension": ".py",
   "mimetype": "text/x-python",
   "name": "python",
   "nbconvert_exporter": "python",
   "pygments_lexer": "ipython3",
   "version": "3.7.7"
  }
 },
 "nbformat": 4,
 "nbformat_minor": 4
}
