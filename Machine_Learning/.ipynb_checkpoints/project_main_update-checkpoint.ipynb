{
 "cells": [
  {
   "cell_type": "code",
   "execution_count": 1,
   "metadata": {
    "scrolled": true
   },
   "outputs": [],
   "source": [
    "import seaborn as sns\n",
    "import pandas as pd\n",
    "import numpy as np\n",
    "import matplotlib.pyplot as plt\n",
    "\n",
    "#Read in the data to a pandas DataFrame using the read_csv method.\n",
    "\n",
    "train=pd.read_excel('Normalized_relative_quantities.xlsx')\n",
    "\n",
    "#train"
   ]
  },
  {
   "cell_type": "code",
   "execution_count": 60,
   "metadata": {},
   "outputs": [
    {
     "data": {
      "image/png": "[encoded data removed]",
      "text/plain": [
       "<Figure size 432x288 with 1 Axes>"
      ]
     },
     "metadata": {
      "needs_background": "light"
     },
     "output_type": "display_data"
    },
    {
     "data": {
      "image/png": "[encoded data removed]",
      "text/plain": [
       "<Figure size 432x288 with 1 Axes>"
      ]
     },
     "metadata": {
      "needs_background": "light"
     },
     "output_type": "display_data"
    }
   ],
   "source": [
    "#Let's plot two random columns to see the distribution\n",
    "plt.clf()\n",
    "sns.distplot(train['hsa-miR-1274A-002883'])\n",
    "plt.title('hsa-miR-1274A-002883')\n",
    "plt.show()\n",
    "\n",
    "plt.clf()\n",
    "sns.distplot(train['hsa-miR-342-3p-002260'])\n",
    "plt.title('hsa-miR-342-3p-002260')\n",
    "plt.show()\n",
    "\n",
    "#Here we confirm that the miRNAs follow the \"normal\" negative binomial distribution for gene expression data "
   ]
  },
  {
   "cell_type": "code",
   "execution_count": 100,
   "metadata": {},
   "outputs": [
    {
     "data": {
      "text/plain": [
       "inc_dm_2009                 0\n",
       "inc_cv_2009                 0\n",
       "hsa-miR-1274A-002883        0\n",
       "hsa-miR-17-002308           0\n",
       "hsa-miR-1243-002854       247\n",
       "hsa-miR-1274B-002884        1\n",
       "hsa-miR-625*-002432        47\n",
       "hsa-miR-223-002295          0\n",
       "hsa-miR-126-002228          0\n",
       "hsa-miR-484-001821          0\n",
       "hsa-miR-320-002277          0\n",
       "hsa-miR-191-002299          0\n",
       "hsa-miR-106a-002169         0\n",
       "hsa-let-7b-002619          10\n",
       "mmu-miR-451-001141         30\n",
       "hsa-miR-342-3p-002260       0\n",
       "hsa-miR-338-5P-002658       0\n",
       "hsa-let-7e-002406           3\n",
       "hsa-miR-486-001278          0\n",
       "hsa-miR-28-3p-002446      189\n",
       "hsa-miR-222-002276          1\n",
       "hsa-miR-483-5p-002338       0\n",
       "hsa-miR-122-002245        143\n",
       "hsa-miR-146b-001097         8\n",
       "hsa-miR-20b-001014         39\n",
       "hsa-miR-574-3p-002349       0\n",
       "hsa-miR-186-002285         38\n",
       "hsa-miR-145-002278         69\n",
       "hsa-miR-125a-5p-002198    371\n",
       "hsa-let-7d-002283          87\n",
       "hsa-miR-146a-000468         0\n",
       "hsa-miR-92a-000431          1\n",
       "hsa-miR-24-000402           1\n",
       "hsa-miR-150-000473          1\n",
       "hsa-miR-19b-000396          3\n",
       "hsa-miR-197-000497         30\n",
       "hsa-miR-16-000391           4\n",
       "hsa-miR-20a-000580          3\n",
       "hsa-miR-30c-000419          5\n",
       "hsa-miR-21-000397          17\n",
       "hsa-miR-30b-000602          1\n",
       "hsa-miR-26a-000405          8\n",
       "hsa-miR-142-3p-000464      20\n",
       "hsa-miR-331-000545        265\n",
       "hsa-miR-25-000403         446\n",
       "hsa-miR-335-000546        148\n",
       "hsa-miR-374-000563        285\n",
       "hsa-miR-139-5p-002289      23\n",
       "hsa-miR-720-002895          0\n",
       "dtype: int64"
      ]
     },
     "execution_count": 100,
     "metadata": {},
     "output_type": "execute_result"
    }
   ],
   "source": [
    "#Let's see again how many missing data there are / column\n",
    "train.isna().sum()"
   ]
  },
  {
   "cell_type": "code",
   "execution_count": 2,
   "metadata": {},
   "outputs": [
    {
     "data": {
      "text/plain": [
       "(553, 49)"
      ]
     },
     "execution_count": 2,
     "metadata": {},
     "output_type": "execute_result"
    }
   ],
   "source": [
    "#As we see we have 7 individuals with no prediction over if they are going to develop dm or cm (\"inc_dm_2009\", \"inc_cv_2009\"), \n",
    "#so we need to remove them from the downstream analysis \n",
    "\n",
    "train = train.dropna(how='any', subset=['inc_dm_2009', 'inc_cv_2009'])\n",
    "\n",
    "#we are also going to remove sample ids labels\n",
    "train = train.drop('CardID', 1)\n",
    "\n",
    "train.shape"
   ]
  },
  {
   "cell_type": "code",
   "execution_count": 61,
   "metadata": {},
   "outputs": [
    {
     "name": "stdout",
     "output_type": "stream",
     "text": [
      "0    398\n",
      "1    155\n",
      "Name: inc_dm_2009, dtype: int64\n",
      "Proportion: 2.57 : 1\n"
     ]
    }
   ],
   "source": [
    "#Unbalanced dataset - as it is\n",
    "\n",
    "#Our feature varuables (all numerical) start from the 3rd column\n",
    "X = train.iloc[:,3:]\n",
    "\n",
    "#Our target variable is the \"inc_dm_2009\" or \"inc_cv_2009\" column\n",
    "y = train['inc_dm_2009']\n",
    "#we can convert it to integer \n",
    "y = y.astype(int)\n",
    "\n",
    "#See if there is imbalance of the target value\n",
    "y_counts = y.value_counts()\n",
    "print(y_counts)\n",
    "print('Proportion:', round(y_counts[0] / y_counts[1], 2), ': 1')\n",
    "#Yes there is - 1 cases 2.5 times more - so we will try a stratified split"
   ]
  },
  {
   "cell_type": "code",
   "execution_count": 64,
   "metadata": {},
   "outputs": [
    {
     "data": {
      "image/png": "[encoded data removed]",
      "text/plain": [
       "<Figure size 432x288 with 1 Axes>"
      ]
     },
     "metadata": {
      "needs_background": "light"
     },
     "output_type": "display_data"
    }
   ],
   "source": [
    "y_counts.plot(kind='bar', title='Count (target)', color=['b','r']);"
   ]
  },
  {
   "cell_type": "code",
   "execution_count": null,
   "metadata": {},
   "outputs": [],
   "source": []
  },
  {
   "cell_type": "code",
   "execution_count": 14,
   "metadata": {},
   "outputs": [
    {
     "data": {
      "text/plain": [
       "1.0    398\n",
       "0.0    398\n",
       "Name: inc_dm_2009, dtype: int64"
      ]
     },
     "execution_count": 14,
     "metadata": {},
     "output_type": "execute_result"
    }
   ],
   "source": [
    "# Balanced dataset - Up-sample Minority Class\n",
    "\n",
    "from sklearn.utils import resample\n",
    "\n",
    "# Separate majority and minority classes\n",
    "df_majority = train[train['inc_dm_2009']==0].drop(['inc_cv_2009'], axis=1)\n",
    "df_minority = train[train['inc_dm_2009']==1].drop(['inc_cv_2009'], axis=1)\n",
    "\n",
    "# Upsample minority class\n",
    "df_minority_upsampled = resample(df_minority, \n",
    "                                 replace=True,     # sample with replacement\n",
    "                                 n_samples=398,    # to match majority class\n",
    "                                 random_state=123) # reproducible results\n",
    "\n",
    "\n",
    "# Combine majority class with upsampled minority class\n",
    "df_upsampled = pd.concat([df_majority, df_minority_upsampled])\n",
    "\n",
    "\n",
    "X = df_upsampled.iloc[:,3:]\n",
    "y = df_upsampled['inc_dm_2009']\n",
    "\n",
    "# Display new class counts\n",
    "y.value_counts()"
   ]
  },
  {
   "cell_type": "code",
   "execution_count": 13,
   "metadata": {},
   "outputs": [
    {
     "data": {
      "text/plain": [
       "1.0    155\n",
       "0.0    155\n",
       "Name: inc_dm_2009, dtype: int64"
      ]
     },
     "execution_count": 13,
     "metadata": {},
     "output_type": "execute_result"
    }
   ],
   "source": [
    "# Balanced dataset - Down-sample Majority Class\n",
    "\n",
    "from sklearn.utils import resample\n",
    "\n",
    "# Separate majority and minority classes\n",
    "df_majority = train[train['inc_dm_2009']==0].drop(['inc_cv_2009'], axis=1)\n",
    "df_minority = train[train['inc_dm_2009']==1].drop(['inc_cv_2009'], axis=1)\n",
    "\n",
    "# Upsample minority class\n",
    "df_majority_downsampled = resample(df_majority, \n",
    "                                 replace=False,     # sample with replacement\n",
    "                                 n_samples=155,    # to match majority class\n",
    "                                 random_state=123) # reproducible results\n",
    "\n",
    "\n",
    "# Combine majority class with upsampled minority class\n",
    "df_downsampled = pd.concat([df_majority_downsampled, df_minority])\n",
    "\n",
    "# Display new class counts\n",
    "df_downsampled['inc_dm_2009'].value_counts()\n",
    "\n",
    "X = df_downsampled.iloc[:,3:]\n",
    "y = df_downsampled['inc_dm_2009']\n",
    "\n",
    "y.value_counts()"
   ]
  },
  {
   "cell_type": "code",
   "execution_count": null,
   "metadata": {},
   "outputs": [],
   "source": []
  },
  {
   "cell_type": "code",
   "execution_count": 20,
   "metadata": {},
   "outputs": [
    {
     "data": {
      "text/plain": [
       "1.0    155\n",
       "0.0    155\n",
       "Name: inc_dm_2009, dtype: int64"
      ]
     },
     "execution_count": 20,
     "metadata": {},
     "output_type": "execute_result"
    }
   ],
   "source": []
  },
  {
   "cell_type": "code",
   "execution_count": 13,
   "metadata": {},
   "outputs": [
    {
     "name": "stdout",
     "output_type": "stream",
     "text": [
      "Index(['hsa-miR-1274B-002884', 'hsa-miR-223-002295', 'hsa-miR-126-002228',\n",
      "       'hsa-miR-484-001821', 'hsa-miR-320-002277', 'hsa-miR-191-002299',\n",
      "       'hsa-miR-106a-002169', 'hsa-let-7b-002619', 'mmu-miR-451-001141',\n",
      "       'hsa-miR-342-3p-002260', 'hsa-miR-338-5P-002658', 'hsa-let-7e-002406',\n",
      "       'hsa-miR-486-001278', 'hsa-miR-222-002276', 'hsa-miR-483-5p-002338',\n",
      "       'hsa-miR-146b-001097', 'hsa-miR-20b-001014', 'hsa-miR-574-3p-002349',\n",
      "       'hsa-miR-186-002285', 'hsa-miR-146a-000468', 'hsa-miR-92a-000431',\n",
      "       'hsa-miR-24-000402', 'hsa-miR-150-000473', 'hsa-miR-19b-000396',\n",
      "       'hsa-miR-197-000497', 'hsa-miR-16-000391', 'hsa-miR-20a-000580',\n",
      "       'hsa-miR-30c-000419', 'hsa-miR-21-000397', 'hsa-miR-30b-000602',\n",
      "       'hsa-miR-26a-000405', 'hsa-miR-142-3p-000464', 'hsa-miR-139-5p-002289',\n",
      "       'hsa-miR-720-002895'],\n",
      "      dtype='object')\n",
      "ready\n"
     ]
    }
   ],
   "source": [
    "# Unbalanced - splitting after process\n",
    "### - Let's test a little cheating\n",
    "#First we will process all the dataset and then we will split our training and testing sets\n",
    "\n",
    "X_log = np.log2(X)\n",
    "\n",
    "#Imputation\n",
    "\n",
    "#remove columns with missing data > 10% in the whole dataset and impute:\n",
    "cols = X_log.columns[X_log.isnull().mean() < 0.1]\n",
    "print(cols)\n",
    "#set sets with those columns\n",
    "X_log_flt = X_log[cols]\n",
    "\n",
    "#13/49 features were removed\n",
    "\n",
    "# will fit and transform with KNN imputation\n",
    "from sklearn.impute import KNNImputer\n",
    "    \n",
    "imputer = KNNImputer(n_neighbors=2, weights=\"uniform\")\n",
    "\n",
    "X_imp = imputer.fit_transform(X_log_flt)\n",
    "\n",
    "X_imp = X_log_flt\n",
    "\n",
    "#Scale the data\n",
    "from sklearn.preprocessing import MinMaxScaler\n",
    "scaler = MinMaxScaler(feature_range=(0, 1))\n",
    "\n",
    "X_sc = scaler.fit_transform(X_imp)\n",
    "\n",
    "#Split the set\n",
    "\n",
    "from sklearn.model_selection import train_test_split\n",
    "\n",
    "X_train_sc, X_test_sc, y_train, y_test = train_test_split(X_sc, y, test_size=0.2, random_state=0, stratify = y)\n",
    "\n",
    "print('ready')"
   ]
  },
  {
   "cell_type": "code",
   "execution_count": null,
   "metadata": {},
   "outputs": [],
   "source": []
  },
  {
   "cell_type": "code",
   "execution_count": 15,
   "metadata": {},
   "outputs": [
    {
     "name": "stdout",
     "output_type": "stream",
     "text": [
      "ready\n"
     ]
    }
   ],
   "source": [
    "# Unbalanced - splitting before process\n",
    "\n",
    "from sklearn.model_selection import train_test_split\n",
    "\n",
    "X_train, X_test, y_train, y_test = train_test_split(X, y, test_size=0.2, stratify=y, random_state=42)\n",
    "\n",
    "#A large amount of the total data is missing in some cases, with columns missing even 80% of the data (\"hsa-miR-25-000403\").\n",
    "\n",
    "#The chosen imputation methods did not work well with data that follow the negative bionomial distribution so as to impute and\n",
    "#log-transform and scale later --- so I will log normalise first, impute and then scale\n",
    "\n",
    "#Let's log-transform miRNA values to follow the normal distribution\n",
    "X_log = np.log2(X)\n",
    "\n",
    "X_train_log = np.log2(X_train)\n",
    "\n",
    "X_test_log = np.log2(X_test)\n",
    "\n",
    "#Imputation - It was found that for microarray missing values the weighted nearest neighbors imputation (knn imputation) \n",
    "#is a popular method - we will use it in columns missing 10% of the feature values - rest of the columns will be removed\n",
    "\n",
    "#remove columns with missing data > 10% in the whole dataset and then impute test and train sets:\n",
    "cols = X_log.columns[X_log.isnull().mean() < 0.1]\n",
    "\n",
    "#set sets with those columns\n",
    "X_train_log_flt = X_train_log[cols]\n",
    "X_test_log_flt = X_test_log[cols]\n",
    "\n",
    "#13/49 features were removed\n",
    "\n",
    "#imputation - I will fit and transform the train set and then fit to the test set in order to simulate real testing conditions\n",
    "from sklearn.impute import KNNImputer\n",
    "    \n",
    "imputer = KNNImputer(n_neighbors=5, weights=\"uniform\")\n",
    "\n",
    "X_train_imp = imputer.fit_transform(X_train_log_flt)\n",
    "X_test_imp = imputer.transform(X_test_log_flt) #Here we only need to transform the test data\n",
    "\n",
    "#Now we will scale the data to [0,1] as it is necessary for some distance-based machine learning estimators (SVM, knn) \n",
    "\n",
    "from sklearn.preprocessing import MinMaxScaler\n",
    "scaler = MinMaxScaler(feature_range=(0, 1))\n",
    "\n",
    "X_train_sc = scaler.fit_transform(X_train_imp)\n",
    "X_test_sc = scaler.transform(X_test_imp) #Here we only need to transform the test data\n",
    "\n",
    "print('ready')"
   ]
  },
  {
   "cell_type": "code",
   "execution_count": 13,
   "metadata": {},
   "outputs": [],
   "source": []
  },
  {
   "cell_type": "code",
   "execution_count": null,
   "metadata": {},
   "outputs": [],
   "source": [
    "#Add age and sex as parameters - not available - If it would it would require a one-hot encoding to incorporate them in the data \n",
    "\n"
   ]
  },
  {
   "cell_type": "code",
   "execution_count": null,
   "metadata": {},
   "outputs": [],
   "source": []
  },
  {
   "cell_type": "code",
   "execution_count": null,
   "metadata": {},
   "outputs": [],
   "source": []
  },
  {
   "cell_type": "code",
   "execution_count": null,
   "metadata": {},
   "outputs": [],
   "source": [
    "#Our dataset is imbalanced with more negative than positive target values (2.5 times more) since diabetic patients are fewer\n",
    "#than healthy patients in all study cohorts. That means that we would expect more false negatives \n",
    "#(diabetic identified as healthy) than false positives (healthy identified as diabetic), so F1-score \n",
    "#(the balance between Precision and Recall) is the most appropriate metric and the most interpretable one.\n",
    "#On the other hand, a ROC curve is more insensitive to imbalancing data as it averages many F1-score values across a spectrum\n",
    "#of different thresholds."
   ]
  },
  {
   "cell_type": "code",
   "execution_count": 17,
   "metadata": {},
   "outputs": [
    {
     "name": "stdout",
     "output_type": "stream",
     "text": [
      "The best parameters are {'C': 1, 'gamma': 100, 'kernel': 'rbf'} with a score of 0.91\n",
      "Time elapsed:  22.578125\n",
      "Classification Report: \n",
      "               precision    recall  f1-score   support\n",
      "\n",
      "         0.0       0.91      1.00      0.95        80\n",
      "         1.0       1.00      0.90      0.95        80\n",
      "\n",
      "    accuracy                           0.95       160\n",
      "   macro avg       0.95      0.95      0.95       160\n",
      "weighted avg       0.95      0.95      0.95       160\n",
      "\n",
      "Confusion Matrix: \n",
      " [[80  0]\n",
      " [ 8 72]]\n"
     ]
    }
   ],
   "source": [
    "#SVM model\n",
    "\n",
    "#svm is independent of the dimensionality of the feature space as the appriate selection of the regularisation parameter C \n",
    "#can prevent overfitting - so feature selection is not going to be applied here\n",
    "\n",
    "#We will do a grid search with 3 types of kernels (linear, rbf, polynomial)\n",
    "from time import process_time\n",
    "from sklearn.model_selection import GridSearchCV\n",
    "from sklearn import svm\n",
    "from sklearn.metrics import classification_report, confusion_matrix\n",
    "\n",
    "t0= process_time()\n",
    "\n",
    "parameters = [{'kernel':['linear'],'C':[0.001,0.01, 0.1, 1, 10, 100, 1000]}, \n",
    "              {'kernel':['rbf'],'C':[0.001,0.01, 0.1, 1, 10, 100, 1000], 'gamma': [0.001,0.01, 0.1, 1, 10, 100, 1000]}]\n",
    "\n",
    "\n",
    "svc = svm.SVC()\n",
    "svm_model = GridSearchCV(svc, parameters, cv = 10, scoring = 'f1_macro') #(Stratified)KFold is used as cross-validation strategy by default as \n",
    "                                                  #our target feature is binary\n",
    "\n",
    "svm_model = svm_model.fit(X_train_sc, y_train) \n",
    "   \n",
    "  \n",
    "\n",
    "print(\"The best parameters are %s with a score of %0.2f\"\n",
    "      % (svm_model.best_params_, svm_model.best_score_))\n",
    "\n",
    "t1 = process_time() - t0\n",
    "print(\"Time elapsed: \", t1) #takes 40min to run\n",
    "\n",
    "\n",
    "\n",
    "y_true, y_pred = y_test, svm_model.predict(X_test_sc)\n",
    "print(\"Classification Report:\", \"\\n\", classification_report(y_true, y_pred))\n",
    "\n",
    "print(\"Confusion Matrix:\", \"\\n\", confusion_matrix(y_true, y_pred))"
   ]
  },
  {
   "cell_type": "code",
   "execution_count": null,
   "metadata": {},
   "outputs": [],
   "source": [
    "Unbalanced\n",
    "[[67 13]\n",
    " [22  9]]\n",
    "\n",
    "Downsampling majority class\n",
    "[[16 15]\n",
    " [20 11]]\n",
    "\n",
    "Up-sample Minority Class\n",
    "[[80  0]\n",
    " [ 8 72]]\n",
    "\n"
   ]
  },
  {
   "cell_type": "code",
   "execution_count": null,
   "metadata": {},
   "outputs": [],
   "source": []
  },
  {
   "cell_type": "code",
   "execution_count": 30,
   "metadata": {},
   "outputs": [
    {
     "name": "stdout",
     "output_type": "stream",
     "text": [
      "Best Kernel: rbf\n",
      "Best C: 1000\n",
      "Best gamma: scale\n",
      "Best Number Of Components: 24\n",
      "Best Score: 0.79\n",
      "\n",
      "Classification Report: \n",
      "               precision    recall  f1-score   support\n",
      "\n",
      "         0.0       0.95      0.75      0.84        80\n",
      "         1.0       0.79      0.96      0.87        80\n",
      "\n",
      "    accuracy                           0.86       160\n",
      "   macro avg       0.87      0.86      0.85       160\n",
      "weighted avg       0.87      0.86      0.85       160\n",
      "\n",
      "Confusion Matrix: \n",
      " [[60 20]\n",
      " [ 3 77]]\n"
     ]
    }
   ],
   "source": [
    "#Here we see that our model cannot predict any positive result. Maybe there is noise in the features?\n",
    "\n",
    "\n",
    "#Let's reduce the feature dimensions using PCA and grid search again - I will do it for linear and rbf kernel seperately\n",
    "\n",
    "from sklearn.pipeline import Pipeline\n",
    "from sklearn import decomposition\n",
    "from sklearn.model_selection import GridSearchCV\n",
    "from sklearn.metrics import classification_report, confusion_matrix\n",
    "from sklearn import svm\n",
    "\n",
    "pca = decomposition.PCA()\n",
    "\n",
    "svc = svm.SVC()\n",
    "\n",
    "# Create a pipeline of two steps: \n",
    "# 1) tranform the data with PCA, 2) train a Decision Tree Classifier on the data.\n",
    "pipe = Pipeline(steps=[('pca', pca), ('svc', svc)])\n",
    "\n",
    "# Create Parameter Space\n",
    "\n",
    "# Create a list of a sequence of integers to integrate from PCA\n",
    "n_components = list(range(1,X_train_sc.shape[1]+1,1))\n",
    "\n",
    "# Create lists of parameter for SVC\n",
    "#kernel = ['linear', 'rbf']\n",
    "#kernel = ['linear']\n",
    "C = [0.001,0.01, 0.1, 1, 10, 100, 1000]\n",
    "\n",
    "kernel = ['rbf']\n",
    "gamma = [0.001,0.01, 0.1, 1, 10, 100, 1000]\n",
    "\n",
    "parameters = dict(pca__n_components=n_components,\n",
    "                      svc__kernel=kernel,\n",
    "                      svc__C=C)\n",
    "\n",
    "#parameters = dict(pca__n_components=n_components,\n",
    "#                      svc__kernel=kernel,\n",
    "#                      svc__C=C, svc__gamma=gamma)\n",
    "\n",
    "svm_model = GridSearchCV(pipe, parameters, cv = 10, scoring = 'f1_macro')\n",
    "\n",
    "svm_model.fit(X_train_sc, y_train)\n",
    "\n",
    "print('Best Kernel:', svm_model.best_estimator_.get_params()['svc__kernel'])\n",
    "print('Best C:', svm_model.best_estimator_.get_params()['svc__C'])\n",
    "print('Best gamma:', svm_model.best_estimator_.get_params()['svc__gamma'])\n",
    "print('Best Number Of Components:', svm_model.best_estimator_.get_params()['pca__n_components'])\n",
    "print(\"Best Score: %0.2f\" % svm_model.best_score_)\n",
    "print()\n",
    "\n",
    "y_true, y_pred = y_test, svm_model.predict(X_test_sc)\n",
    "print(\"Classification Report:\", \"\\n\", classification_report(y_true, y_pred))\n",
    "\n",
    "print(\"Confusion Matrix:\", \"\\n\", confusion_matrix(y_true, y_pred))"
   ]
  },
  {
   "cell_type": "code",
   "execution_count": null,
   "metadata": {},
   "outputs": [],
   "source": [
    "#Not as good result. If kernel = linear, we could have exported important features from coefficients too."
   ]
  },
  {
   "cell_type": "code",
   "execution_count": null,
   "metadata": {},
   "outputs": [],
   "source": []
  },
  {
   "cell_type": "code",
   "execution_count": 42,
   "metadata": {},
   "outputs": [
    {
     "name": "stdout",
     "output_type": "stream",
     "text": [
      "Best Criterion: gini\n",
      "Best max_depth: 30\n",
      "Best Number Of Components: 30\n",
      "Best Score: 0.82\n",
      "\n",
      "Classification Report: \n",
      "               precision    recall  f1-score   support\n",
      "\n",
      "         0.0       0.92      0.74      0.82        80\n",
      "         1.0       0.78      0.94      0.85        80\n",
      "\n",
      "    accuracy                           0.84       160\n",
      "   macro avg       0.85      0.84      0.84       160\n",
      "weighted avg       0.85      0.84      0.84       160\n",
      "\n",
      "Confusion Matrix: \n",
      " [[59 21]\n",
      " [ 5 75]]\n"
     ]
    }
   ],
   "source": [
    "#Decision Trees\n",
    "\n",
    "#Decision trees tend to overfit on data with a large number of features so first we will perform dimensionality reduction\n",
    "#using pca\n",
    "\n",
    "#The rationale is to take advantage of the Pipeline function of sklearn in order to grid search for the best number of PCA \n",
    "#components to input in our decision trees, and the best hyperparameters of our tree at the same time \n",
    "\n",
    "from sklearn import decomposition\n",
    "from sklearn.tree import DecisionTreeClassifier\n",
    "from sklearn.pipeline import Pipeline\n",
    "from sklearn.model_selection import GridSearchCV\n",
    "from sklearn.metrics import classification_report, confusion_matrix\n",
    "\n",
    "pca = decomposition.PCA()\n",
    "decisiontree = DecisionTreeClassifier()\n",
    "\n",
    "# Create a pipeline of two steps: \n",
    "# 1) tranform the data with PCA, 2) train a Decision Tree Classifier on the data.\n",
    "pipe = Pipeline(steps=[('pca', pca), ('decisiontree', decisiontree)])\n",
    "\n",
    "# Create Parameter Space\n",
    "\n",
    "# Create a list of a sequence of integers to integrate from PCA\n",
    "n_components = list(range(1,X_train_sc.shape[1]+1,1))\n",
    "n_components = list(range(30,31))\n",
    "\n",
    "# Create lists of parameter for Decision Tree Classifier\n",
    "criterion = ['gini', 'entropy']\n",
    "#max_depth = [4,6,8,12]\n",
    "#max_depth = [8,12, 16, 20]\n",
    "max_depth = [30, 31]\n",
    "\n",
    "\n",
    "parameters = dict(pca__n_components=n_components,\n",
    "                      decisiontree__criterion=criterion,\n",
    "                      decisiontree__max_depth=max_depth)\n",
    "\n",
    "\n",
    "clf = GridSearchCV(pipe, parameters, cv = 10, scoring = 'f1_macro')\n",
    "\n",
    "clf.fit(X_train_sc, y_train)\n",
    "\n",
    "print('Best Criterion:', clf.best_estimator_.get_params()['decisiontree__criterion'])\n",
    "print('Best max_depth:', clf.best_estimator_.get_params()['decisiontree__max_depth'])\n",
    "print('Best Number Of Components:', clf.best_estimator_.get_params()['pca__n_components'])\n",
    "print(\"Best Score: %0.2f\" % clf.best_score_)\n",
    "print()\n",
    "\n",
    "y_true, y_pred = y_test, clf.predict(X_test_sc)\n",
    "print(\"Classification Report:\", \"\\n\", classification_report(y_true, y_pred))\n",
    "\n",
    "print(\"Confusion Matrix:\", \"\\n\", confusion_matrix(y_true, y_pred))\n",
    "    "
   ]
  },
  {
   "cell_type": "code",
   "execution_count": null,
   "metadata": {},
   "outputs": [],
   "source": [
    "[[60 20]\n",
    " [ 4 76]] 0.83 30 30 "
   ]
  },
  {
   "cell_type": "code",
   "execution_count": 97,
   "metadata": {},
   "outputs": [
    {
     "name": "stdout",
     "output_type": "stream",
     "text": [
      "Feature: 0, Score: 0.0536, Name: hsa-miR-1274B-002884\n",
      "Feature: 1, Score: 0.0, Name: hsa-miR-223-002295\n",
      "Feature: 2, Score: 0.0545, Name: hsa-miR-126-002228\n",
      "Feature: 3, Score: 0.0787, Name: hsa-miR-484-001821\n",
      "Feature: 4, Score: 0.0, Name: hsa-miR-320-002277\n",
      "Feature: 5, Score: 0.0537, Name: hsa-miR-191-002299\n",
      "Feature: 6, Score: 0.111, Name: hsa-miR-106a-002169\n",
      "Feature: 7, Score: 0.0, Name: hsa-let-7b-002619\n",
      "Feature: 8, Score: 0.0, Name: mmu-miR-451-001141\n",
      "Feature: 9, Score: 0.0476, Name: hsa-miR-342-3p-002260\n",
      "Feature: 10, Score: 0.0, Name: hsa-miR-338-5P-002658\n",
      "Feature: 11, Score: 0.0923, Name: hsa-let-7e-002406\n",
      "Feature: 12, Score: 0.0, Name: hsa-miR-486-001278\n",
      "Feature: 13, Score: 0.0459, Name: hsa-miR-222-002276\n",
      "Feature: 14, Score: 0.024, Name: hsa-miR-483-5p-002338\n",
      "Feature: 15, Score: 0.0, Name: hsa-miR-146b-001097\n",
      "Feature: 16, Score: 0.0812, Name: hsa-miR-20b-001014\n",
      "Feature: 17, Score: 0.0207, Name: hsa-miR-574-3p-002349\n",
      "Feature: 18, Score: 0.0441, Name: hsa-miR-186-002285\n",
      "Feature: 19, Score: 0.0235, Name: hsa-miR-146a-000468\n",
      "Feature: 20, Score: 0.0372, Name: hsa-miR-92a-000431\n",
      "Feature: 21, Score: 0.0188, Name: hsa-miR-24-000402\n",
      "Feature: 22, Score: 0.0357, Name: hsa-miR-150-000473\n",
      "Feature: 23, Score: 0.0, Name: hsa-miR-19b-000396\n",
      "Feature: 24, Score: 0.0, Name: hsa-miR-197-000497\n",
      "Feature: 25, Score: 0.0, Name: hsa-miR-16-000391\n",
      "Feature: 26, Score: 0.0, Name: hsa-miR-20a-000580\n",
      "Feature: 27, Score: 0.0389, Name: hsa-miR-30c-000419\n",
      "Feature: 28, Score: 0.0216, Name: hsa-miR-21-000397\n",
      "Feature: 29, Score: 0.0242, Name: hsa-miR-30b-000602\n",
      "Feature: 30, Score: 0.0, Name: hsa-miR-26a-000405\n",
      "Feature: 31, Score: 0.0929, Name: hsa-miR-142-3p-000464\n",
      "Feature: 32, Score: 0.0, Name: hsa-miR-139-5p-002289\n",
      "Feature: 33, Score: 0.0, Name: hsa-miR-720-002895\n"
     ]
    }
   ],
   "source": [
    "# define the model\n",
    "from sklearn.tree import DecisionTreeClassifier\n",
    "dtr_model = DecisionTreeClassifier(criterion = 'gini', max_depth = 30)\n",
    "# fit the model\n",
    "dtr = dtr_model.fit(X_test_sc, y_test)\n",
    "# get importance\n",
    "importance_dtr = dtr.feature_importances_\n",
    "# summarize feature importance - correspond it with the feature names of our dataset\n",
    "\n",
    "for i,v in enumerate(importance_dtr):\n",
    "    print('Feature: {}, Score: {:.3}, Name: {}'.format(i,v,cols[i]))"
   ]
  },
  {
   "cell_type": "code",
   "execution_count": null,
   "metadata": {},
   "outputs": [],
   "source": []
  },
  {
   "cell_type": "code",
   "execution_count": 43,
   "metadata": {},
   "outputs": [
    {
     "name": "stdout",
     "output_type": "stream",
     "text": [
      "Best leaf_size: 1\n",
      "Best weight function: uniform\n",
      "Best n_neighbors: 1\n",
      "Best Score: 0.7685653467845565\n",
      "Classification Report: \n",
      "               precision    recall  f1-score   support\n",
      "\n",
      "         0.0       0.92      0.74      0.82        80\n",
      "         1.0       0.78      0.94      0.85        80\n",
      "\n",
      "    accuracy                           0.84       160\n",
      "   macro avg       0.85      0.84      0.84       160\n",
      "weighted avg       0.85      0.84      0.84       160\n",
      "\n",
      "Confusion Matrix: \n",
      " [[59 21]\n",
      " [ 5 75]]\n"
     ]
    }
   ],
   "source": [
    "#Knn \n",
    "\n",
    "from sklearn.neighbors import KNeighborsClassifier\n",
    "from sklearn.model_selection import GridSearchCV\n",
    "\n",
    "#define the model and parameters\n",
    "knn = KNeighborsClassifier()\n",
    "\n",
    "\n",
    "parameters = {'n_neighbors':[1,3,5,7,9,11,13,15,17,19,21], #usually odd numbers\n",
    "              'leaf_size':[1,2,3,5],\n",
    "              'weights':['uniform', 'distance']}\n",
    "\n",
    "#Fit the model\n",
    "model_knn = GridSearchCV(knn, param_grid=parameters, cv = 10, scoring = 'f1_macro')\n",
    "model_knn.fit(X_train_sc,y_train)\n",
    "\n",
    "print('Best leaf_size:', model_knn.best_estimator_.get_params()['leaf_size'])\n",
    "print('Best weight function:', model_knn.best_estimator_.get_params()['weights'])\n",
    "print('Best n_neighbors:', model_knn.best_estimator_.get_params()['n_neighbors'])\n",
    "print('Best Score:', model_knn.best_score_)\n",
    "\n",
    "y_true, y_pred = y_test, clf.predict(X_test_sc)\n",
    "print(\"Classification Report:\", \"\\n\", classification_report(y_true, y_pred))\n",
    "\n",
    "print(\"Confusion Matrix:\", \"\\n\", confusion_matrix(y_true, y_pred))"
   ]
  },
  {
   "cell_type": "code",
   "execution_count": null,
   "metadata": {},
   "outputs": [],
   "source": []
  },
  {
   "cell_type": "code",
   "execution_count": null,
   "metadata": {},
   "outputs": [],
   "source": [
    "#maybe repeat knn with pca"
   ]
  },
  {
   "cell_type": "code",
   "execution_count": 31,
   "metadata": {},
   "outputs": [
    {
     "name": "stdout",
     "output_type": "stream",
     "text": [
      "Best Score: {'n_estimators': 1000, 'min_samples_split': 2, 'min_samples_leaf': 1, 'max_features': 'auto', 'max_depth': 50, 'bootstrap': False}\n",
      "Best Score: 0.89\n",
      "Classification Report: \n",
      "               precision    recall  f1-score   support\n",
      "\n",
      "         0.0       0.91      1.00      0.95        80\n",
      "         1.0       1.00      0.90      0.95        80\n",
      "\n",
      "    accuracy                           0.95       160\n",
      "   macro avg       0.95      0.95      0.95       160\n",
      "weighted avg       0.95      0.95      0.95       160\n",
      "\n",
      "Confusion Matrix: \n",
      " [[80  0]\n",
      " [ 8 72]]\n"
     ]
    }
   ],
   "source": [
    "#Random Forests\n",
    "#Let's tune the hyperparameters\n",
    "\n",
    "#We could opt of pca transformation before, but it already takes a lot of time.\n",
    "\n",
    "#Here we will try a different approach - we will use randomize grid at first to limit our search space and then we will use\n",
    "# a more exhaustive approach\n",
    "\n",
    "from sklearn.ensemble import RandomForestClassifier\n",
    "from sklearn.model_selection import RandomizedSearchCV\n",
    "\n",
    "rf = RandomForestClassifier()\n",
    "\n",
    "# Number of trees in random forest\n",
    "n_estimators = [200, 500, 1000, 1500, 2500]\n",
    "# Number of features to consider at every split\n",
    "max_features = ['auto', 'log2']\n",
    "# Maximum number of levels in tree\n",
    "max_depth = [10, 20, 30, 40, 50]\n",
    "# Minimum number of samples required to split a node\n",
    "min_samples_split = [2, 5, 10, 15, 20]\n",
    "# Minimum number of samples required at each leaf node\n",
    "min_samples_leaf = [1, 2, 5, 10]\n",
    "# Method of selecting samples for training each tree\n",
    "bootstrap = [True, False]\n",
    "\n",
    "# Create the random grid\n",
    "random_grid = {'n_estimators': n_estimators,\n",
    "               'max_features': max_features,\n",
    "               'max_depth': max_depth,\n",
    "               'min_samples_split': min_samples_split,\n",
    "               'min_samples_leaf': min_samples_leaf,\n",
    "               'bootstrap': bootstrap}\n",
    "\n",
    "rf_random = RandomizedSearchCV(\n",
    "    estimator = rf, param_distributions = random_grid, n_iter = 100, cv = 10, scoring = 'f1_macro', n_jobs = -1)\n",
    "\n",
    "rf_random.fit(X_train_sc, y_train)\n",
    "\n",
    "print(\"Best Score:\", rf_random.best_params_)\n",
    "print(\"Best Score: %0.2f\" % rf_random.best_score_)\n",
    "\n",
    "y_true, y_pred = y_test, rf_random.predict(X_test_sc)\n",
    "print(\"Classification Report:\", \"\\n\", classification_report(y_true, y_pred))\n",
    "\n",
    "print(\"Confusion Matrix:\", \"\\n\", confusion_matrix(y_true, y_pred))"
   ]
  },
  {
   "cell_type": "code",
   "execution_count": null,
   "metadata": {},
   "outputs": [],
   "source": [
    "[[80  0]\n",
    " [ 8 72]] 0.89"
   ]
  },
  {
   "cell_type": "code",
   "execution_count": null,
   "metadata": {},
   "outputs": [],
   "source": []
  },
  {
   "cell_type": "code",
   "execution_count": 30,
   "metadata": {},
   "outputs": [
    {
     "name": "stdout",
     "output_type": "stream",
     "text": [
      "Best Score: {'bootstrap': True, 'max_depth': 30, 'max_features': 'auto', 'min_samples_leaf': 1, 'min_samples_split': 2, 'n_estimators': 300}\n",
      "Best Score: 0.88\n",
      "Classification Report: \n",
      "               precision    recall  f1-score   support\n",
      "\n",
      "         0.0       0.91      0.96      0.93        80\n",
      "         1.0       0.96      0.90      0.93        80\n",
      "\n",
      "    accuracy                           0.93       160\n",
      "   macro avg       0.93      0.93      0.93       160\n",
      "weighted avg       0.93      0.93      0.93       160\n",
      "\n",
      "Confusion Matrix: \n",
      " [[77  3]\n",
      " [ 8 72]]\n"
     ]
    }
   ],
   "source": [
    "#Random Forests 2\n",
    "#Let's see if we can improve the score by grinding search around the best parameters\n",
    "\n",
    "from sklearn.ensemble import RandomForestClassifier\n",
    "from sklearn.model_selection import GridSearchCV\n",
    "\n",
    "#define the model and parameters\n",
    "rf_v2 = RandomForestClassifier()\n",
    "\n",
    "n_estimators = [200, 300, 400, 500, 600]\n",
    "max_features = ['auto','log2']\n",
    "max_depth = [30, 50, 70]\n",
    "min_samples_split = [2,4]\n",
    "min_samples_leaf = [1,2]\n",
    "bootstrap = [True]\n",
    "\n",
    "parameters = {'n_estimators': n_estimators,\n",
    "               'max_features': max_features,\n",
    "               'max_depth': max_depth,\n",
    "               'min_samples_split': min_samples_split,\n",
    "               'min_samples_leaf': min_samples_leaf,\n",
    "               'bootstrap': bootstrap}\n",
    "\n",
    "#Fit the model\n",
    "model_rf_v2 = GridSearchCV(rf_v2, param_grid=parameters, cv = 10, scoring = 'f1_macro', n_jobs = -1)\n",
    "model_rf_v2.fit(X_train_sc,y_train)\n",
    "\n",
    "print(\"Best Score:\", model_rf_v2.best_params_)\n",
    "print(\"Best Score: %0.2f\" % model_rf_v2.best_score_)\n",
    "\n",
    "y_true, y_pred = y_test, model_rf_v2.predict(X_test_sc)\n",
    "print(\"Classification Report:\", \"\\n\", classification_report(y_true, y_pred))\n",
    "\n",
    "print(\"Confusion Matrix:\", \"\\n\", confusion_matrix(y_true, y_pred))"
   ]
  },
  {
   "cell_type": "code",
   "execution_count": null,
   "metadata": {},
   "outputs": [],
   "source": [
    "[[77  3]\n",
    " [ 8 72]] Best Score: 0.88"
   ]
  },
  {
   "cell_type": "code",
   "execution_count": null,
   "metadata": {},
   "outputs": [],
   "source": [
    "#The score did not change whatsoever"
   ]
  },
  {
   "cell_type": "code",
   "execution_count": 99,
   "metadata": {},
   "outputs": [
    {
     "name": "stdout",
     "output_type": "stream",
     "text": [
      "Feature: 0, Score: 0.0536, Name: hsa-miR-1274B-002884\n",
      "Feature: 1, Score: 0.0, Name: hsa-miR-223-002295\n",
      "Feature: 2, Score: 0.0545, Name: hsa-miR-126-002228\n",
      "Feature: 3, Score: 0.0787, Name: hsa-miR-484-001821\n",
      "Feature: 4, Score: 0.0, Name: hsa-miR-320-002277\n",
      "Feature: 5, Score: 0.0537, Name: hsa-miR-191-002299\n",
      "Feature: 6, Score: 0.111, Name: hsa-miR-106a-002169\n",
      "Feature: 7, Score: 0.0, Name: hsa-let-7b-002619\n",
      "Feature: 8, Score: 0.0, Name: mmu-miR-451-001141\n",
      "Feature: 9, Score: 0.0476, Name: hsa-miR-342-3p-002260\n",
      "Feature: 10, Score: 0.0, Name: hsa-miR-338-5P-002658\n",
      "Feature: 11, Score: 0.0923, Name: hsa-let-7e-002406\n",
      "Feature: 12, Score: 0.0, Name: hsa-miR-486-001278\n",
      "Feature: 13, Score: 0.0459, Name: hsa-miR-222-002276\n",
      "Feature: 14, Score: 0.024, Name: hsa-miR-483-5p-002338\n",
      "Feature: 15, Score: 0.0, Name: hsa-miR-146b-001097\n",
      "Feature: 16, Score: 0.0812, Name: hsa-miR-20b-001014\n",
      "Feature: 17, Score: 0.0207, Name: hsa-miR-574-3p-002349\n",
      "Feature: 18, Score: 0.0441, Name: hsa-miR-186-002285\n",
      "Feature: 19, Score: 0.0235, Name: hsa-miR-146a-000468\n",
      "Feature: 20, Score: 0.0372, Name: hsa-miR-92a-000431\n",
      "Feature: 21, Score: 0.0188, Name: hsa-miR-24-000402\n",
      "Feature: 22, Score: 0.0357, Name: hsa-miR-150-000473\n",
      "Feature: 23, Score: 0.0, Name: hsa-miR-19b-000396\n",
      "Feature: 24, Score: 0.0, Name: hsa-miR-197-000497\n",
      "Feature: 25, Score: 0.0, Name: hsa-miR-16-000391\n",
      "Feature: 26, Score: 0.0, Name: hsa-miR-20a-000580\n",
      "Feature: 27, Score: 0.0389, Name: hsa-miR-30c-000419\n",
      "Feature: 28, Score: 0.0216, Name: hsa-miR-21-000397\n",
      "Feature: 29, Score: 0.0242, Name: hsa-miR-30b-000602\n",
      "Feature: 30, Score: 0.0, Name: hsa-miR-26a-000405\n",
      "Feature: 31, Score: 0.0929, Name: hsa-miR-142-3p-000464\n",
      "Feature: 32, Score: 0.0, Name: hsa-miR-139-5p-002289\n",
      "Feature: 33, Score: 0.0, Name: hsa-miR-720-002895\n"
     ]
    }
   ],
   "source": [
    "# define the model\n",
    "from sklearn.ensemble import RandomForestClassifier\n",
    "rfr_model = RandomForestClassifier(n_estimators=300, max_features='auto', max_depth=30, min_samples_split=2, min_samples_leaf=1,\n",
    "                                  bootstrap=True)\n",
    "# fit the model\n",
    "rfr = rfr_model.fit(X_test_sc, y_test)\n",
    "# get importance\n",
    "importance_rfr = rfr.feature_importances_\n",
    "# summarize feature importance - correspond it with the feature names of our dataset\n",
    "\n",
    "for i,v in enumerate(importance_dtr):\n",
    "    print('Feature: {}, Score: {:.3}, Name: {}'.format(i,v,cols[i]))"
   ]
  },
  {
   "cell_type": "code",
   "execution_count": 104,
   "metadata": {},
   "outputs": [
    {
     "data": {
      "text/plain": [
       "RandomForestClassifier(bootstrap=True, ccp_alpha=0.0, class_weight=None,\n",
       "                       criterion='gini', max_depth=30, max_features='auto',\n",
       "                       max_leaf_nodes=None, max_samples=None,\n",
       "                       min_impurity_decrease=0.0, min_impurity_split=None,\n",
       "                       min_samples_leaf=1, min_samples_split=2,\n",
       "                       min_weight_fraction_leaf=0.0, n_estimators=300,\n",
       "                       n_jobs=None, oob_score=False, random_state=None,\n",
       "                       verbose=0, warm_start=False)"
      ]
     },
     "execution_count": 104,
     "metadata": {},
     "output_type": "execute_result"
    }
   ],
   "source": [
    "model_rf_v2.best_estimator_"
   ]
  },
  {
   "cell_type": "code",
   "execution_count": null,
   "metadata": {},
   "outputs": [],
   "source": []
  },
  {
   "cell_type": "code",
   "execution_count": null,
   "metadata": {},
   "outputs": [],
   "source": []
  },
  {
   "cell_type": "code",
   "execution_count": null,
   "metadata": {},
   "outputs": [],
   "source": []
  },
  {
   "cell_type": "code",
   "execution_count": 42,
   "metadata": {},
   "outputs": [
    {
     "name": "stdout",
     "output_type": "stream",
     "text": [
      "Best Score: {'C': 1, 'l1_ratio': 0.6000000000000001, 'penalty': 'elasticnet'}\n",
      "Best Score: 0.60\n",
      "Classification Report: \n",
      "               precision    recall  f1-score   support\n",
      "\n",
      "         0.0       0.59      0.65      0.62        80\n",
      "         1.0       0.61      0.55      0.58        80\n",
      "\n",
      "    accuracy                           0.60       160\n",
      "   macro avg       0.60      0.60      0.60       160\n",
      "weighted avg       0.60      0.60      0.60       160\n",
      "\n",
      "Confusion Matrix: \n",
      " [[52 28]\n",
      " [36 44]]\n"
     ]
    }
   ],
   "source": [
    "#Logistic regression\n",
    "\n",
    "from sklearn.linear_model import LogisticRegression\n",
    "from sklearn.model_selection import GridSearchCV\n",
    "\n",
    "# Create logistic regression\n",
    "logistic = LogisticRegression(solver = 'saga') #This optimazation algorithm is the only one compatible with all 3 penalties\n",
    "\n",
    "# Create regularization penalty space\n",
    "penalty = ['elasticnet']\n",
    "l1_ratio = np.arange(0, 1, 0.2).tolist()\n",
    "# Create regularization hyperparameter space\n",
    "C = [0.001,0.01, 0.1, 1, 10, 100, 1000]\n",
    "\n",
    "# Create hyperparameter options\n",
    "hyperparameters = dict(C=C, penalty=penalty, l1_ratio=l1_ratio)\n",
    "\n",
    "# Create grid search using 5-fold cross validation\n",
    "model_log = GridSearchCV(logistic, hyperparameters, cv=10, scoring = 'f1_macro', n_jobs = -1)\n",
    "model_log.fit(X_train_sc,y_train)\n",
    "\n",
    "print(\"Best Score:\", model_log.best_params_)\n",
    "print(\"Best Score: %0.2f\" % model_log.best_score_)\n",
    "\n",
    "\n",
    "y_true, y_pred = y_test, model_log.predict(X_test_sc)\n",
    "print(\"Classification Report:\", \"\\n\", classification_report(y_true, y_pred))\n",
    "\n",
    "print(\"Confusion Matrix:\", \"\\n\", confusion_matrix(y_true, y_pred))\n"
   ]
  },
  {
   "cell_type": "code",
   "execution_count": null,
   "metadata": {},
   "outputs": [],
   "source": [
    "Confusion Matrix: \n",
    " [[52 28]\n",
    " [36 44]] 0.60"
   ]
  },
  {
   "cell_type": "code",
   "execution_count": 90,
   "metadata": {},
   "outputs": [
    {
     "name": "stdout",
     "output_type": "stream",
     "text": [
      "Feature: 0, Score: 0.0, Name: hsa-miR-1274B-002884\n",
      "Feature: 1, Score: 0.0, Name: hsa-miR-223-002295\n",
      "Feature: 2, Score: 0.0, Name: hsa-miR-126-002228\n",
      "Feature: 3, Score: -0.595, Name: hsa-miR-484-001821\n",
      "Feature: 4, Score: 0.0, Name: hsa-miR-320-002277\n",
      "Feature: 5, Score: 0.0, Name: hsa-miR-191-002299\n",
      "Feature: 6, Score: 0.0, Name: hsa-miR-106a-002169\n",
      "Feature: 7, Score: 0.0, Name: hsa-let-7b-002619\n",
      "Feature: 8, Score: 0.0, Name: mmu-miR-451-001141\n",
      "Feature: 9, Score: 0.0, Name: hsa-miR-342-3p-002260\n",
      "Feature: 10, Score: 0.0, Name: hsa-miR-338-5P-002658\n",
      "Feature: 11, Score: 1.01, Name: hsa-let-7e-002406\n",
      "Feature: 12, Score: 0.0, Name: hsa-miR-486-001278\n",
      "Feature: 13, Score: 0.0, Name: hsa-miR-222-002276\n",
      "Feature: 14, Score: 0.0, Name: hsa-miR-483-5p-002338\n",
      "Feature: 15, Score: 0.0, Name: hsa-miR-146b-001097\n",
      "Feature: 16, Score: 0.0, Name: hsa-miR-20b-001014\n",
      "Feature: 17, Score: -0.246, Name: hsa-miR-574-3p-002349\n",
      "Feature: 18, Score: 0.0, Name: hsa-miR-186-002285\n",
      "Feature: 19, Score: 0.0, Name: hsa-miR-146a-000468\n",
      "Feature: 20, Score: 0.0, Name: hsa-miR-92a-000431\n",
      "Feature: 21, Score: 0.0, Name: hsa-miR-24-000402\n",
      "Feature: 22, Score: 0.34, Name: hsa-miR-150-000473\n",
      "Feature: 23, Score: 0.0, Name: hsa-miR-19b-000396\n",
      "Feature: 24, Score: 0.428, Name: hsa-miR-197-000497\n",
      "Feature: 25, Score: 0.0, Name: hsa-miR-16-000391\n",
      "Feature: 26, Score: 0.0, Name: hsa-miR-20a-000580\n",
      "Feature: 27, Score: -0.0435, Name: hsa-miR-30c-000419\n",
      "Feature: 28, Score: 0.0, Name: hsa-miR-21-000397\n",
      "Feature: 29, Score: 0.207, Name: hsa-miR-30b-000602\n",
      "Feature: 30, Score: 0.0205, Name: hsa-miR-26a-000405\n",
      "Feature: 31, Score: 0.702, Name: hsa-miR-142-3p-000464\n",
      "Feature: 32, Score: 0.0, Name: hsa-miR-139-5p-002289\n",
      "Feature: 33, Score: 0.0, Name: hsa-miR-720-002895\n"
     ]
    }
   ],
   "source": [
    "# define the model\n",
    "model = LogisticRegression(solver = 'saga', C=1, l1_ratio = 0.6, penalty = 'elasticnet', max_iter = 4000)\n",
    "# fit the model\n",
    "log = model.fit(X_test_sc, y_test)\n",
    "# get importance\n",
    "importance = log.coef_[0]\n",
    "# summarize feature importance - correspond it with the feature names of our dataset\n",
    "\n",
    "for i,v in enumerate(importance):\n",
    "    print('Feature: {}, Score: {:.3}, Name: {}'.format(i,v,cols[i]))"
   ]
  },
  {
   "cell_type": "code",
   "execution_count": null,
   "metadata": {},
   "outputs": [],
   "source": []
  },
  {
   "cell_type": "code",
   "execution_count": null,
   "metadata": {},
   "outputs": [],
   "source": []
  },
  {
   "cell_type": "code",
   "execution_count": 48,
   "metadata": {},
   "outputs": [
    {
     "name": "stdout",
     "output_type": "stream",
     "text": [
      "Best Score: {'C': 1, 'l1_ratio': 0.0, 'penalty': 'l1', 'solver': 'liblinear'}\n",
      "Best Score: 0.60\n",
      "Classification Report: \n",
      "               precision    recall  f1-score   support\n",
      "\n",
      "         0.0       0.59      0.62      0.61        80\n",
      "         1.0       0.60      0.56      0.58        80\n",
      "\n",
      "    accuracy                           0.59       160\n",
      "   macro avg       0.59      0.59      0.59       160\n",
      "weighted avg       0.59      0.59      0.59       160\n",
      "\n",
      "Confusion Matrix: \n",
      " [[50 30]\n",
      " [35 45]]\n"
     ]
    },
    {
     "name": "stderr",
     "output_type": "stream",
     "text": [
      "/home/alexandros/anaconda3/envs/ML/lib/python3.7/site-packages/sklearn/linear_model/_logistic.py:1501: UserWarning: l1_ratio parameter is only used when penalty is 'elasticnet'. Got (penalty=l1)\n",
      "  \"(penalty={})\".format(self.penalty))\n"
     ]
    }
   ],
   "source": [
    "#Logistic regression\n",
    "\n",
    "from sklearn.linear_model import LogisticRegression\n",
    "from sklearn.model_selection import GridSearchCV\n",
    "\n",
    "# Create logistic regression\n",
    "logistic = LogisticRegression() #This optimazation algorithm is the only one compatible with all 3 penalties\n",
    "\n",
    "# Create regularization penalty space\n",
    "solver = ['newton-cg', 'lbfgs', 'liblinear', 'sag', 'saga']\n",
    "penalty = ['l1','l2', 'elasticnet', 'none']\n",
    "l1_ratio = np.arange(0, 1, 0.2).tolist()\n",
    "# Create regularization hyperparameter space\n",
    "C = [0.001,0.01, 0.1, 1, 10, 100, 1000]\n",
    "\n",
    "# Create hyperparameter options\n",
    "hyperparameters = dict(C=C, penalty=penalty, l1_ratio=l1_ratio, solver=solver)\n",
    "\n",
    "# Create grid search using 5-fold cross validation\n",
    "model_log = GridSearchCV(logistic, hyperparameters, cv=10, scoring = 'f1_macro', n_jobs = -1)\n",
    "model_log.fit(X_train_sc,y_train)\n",
    "\n",
    "print(\"Best Score:\", model_log.best_params_)\n",
    "print(\"Best Score: %0.2f\" % model_log.best_score_)\n",
    "\n",
    "\n",
    "y_true, y_pred = y_test, model_log.predict(X_test_sc)\n",
    "print(\"Classification Report:\", \"\\n\", classification_report(y_true, y_pred))\n",
    "\n",
    "print(\"Confusion Matrix:\", \"\\n\", confusion_matrix(y_true, y_pred))"
   ]
  },
  {
   "cell_type": "code",
   "execution_count": null,
   "metadata": {},
   "outputs": [],
   "source": [
    "[[52 28]\n",
    " [36 44]]"
   ]
  },
  {
   "cell_type": "code",
   "execution_count": 109,
   "metadata": {},
   "outputs": [
    {
     "name": "stdout",
     "output_type": "stream",
     "text": [
      "Feature: hsa-let-7e-002406 - Coef: 1.01\n",
      "Feature: hsa-miR-142-3p-000464 - Coef: 0.702\n",
      "Feature: hsa-miR-197-000497 - Coef: 0.428\n",
      "Feature: hsa-miR-150-000473 - Coef: 0.34\n",
      "Feature: hsa-miR-30b-000602 - Coef: 0.207\n",
      "Feature: hsa-miR-26a-000405 - Coef: 0.0205\n",
      "Feature: hsa-miR-30c-000419 - Coef: -0.0434\n",
      "Feature: hsa-miR-574-3p-002349 - Coef: -0.246\n",
      "Feature: hsa-miR-484-001821 - Coef: -0.595\n"
     ]
    }
   ],
   "source": [
    "# define the model\n",
    "model = LogisticRegression(solver = 'saga', C=1, l1_ratio = 0.6, penalty = 'elasticnet', max_iter = 4000)\n",
    "# fit the model\n",
    "log = model.fit(X_test_sc, y_test)\n",
    "# get importance\n",
    "importance = log.coef_[0]\n",
    "\n",
    "# summarize feature importance - correspond it with the feature names of our dataset\n",
    "feature_dict = {}\n",
    "\n",
    "for i,v in enumerate(importance):\n",
    "    if v != 0:\n",
    "        feature_dict[cols[i]] = v\n",
    "    \n",
    "    #print('Feature: {}, Score: {:.3}, Name: {}'.format(i,v,cols[i]))\n",
    "\n",
    "#print no negative coefficients\n",
    "for w in sorted(feature_dict, key=feature_dict.get, reverse=True):\n",
    "    print(\"Feature: {} - Coef: {:.3}\".format(w, feature_dict[w]))"
   ]
  },
  {
   "cell_type": "code",
   "execution_count": null,
   "metadata": {},
   "outputs": [],
   "source": []
  },
  {
   "cell_type": "code",
   "execution_count": null,
   "metadata": {},
   "outputs": [],
   "source": [
    "#Ensembl - Combine all models so far\n",
    "\n",
    "#https://towardsdatascience.com/ensemble-learning-using-scikit-learn-85c4531ff86a\n"
   ]
  }
 ],
 "metadata": {
  "kernelspec": {
   "display_name": "Python 3",
   "language": "python",
   "name": "python3"
  },
  "language_info": {
   "codemirror_mode": {
    "name": "ipython",
    "version": 3
   },
   "file_extension": ".py",
   "mimetype": "text/x-python",
   "name": "python",
   "nbconvert_exporter": "python",
   "pygments_lexer": "ipython3",
   "version": "3.7.7"
  }
 },
 "nbformat": 4,
 "nbformat_minor": 4
}
