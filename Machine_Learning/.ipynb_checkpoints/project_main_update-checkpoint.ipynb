{
 "cells": [
  {
   "cell_type": "markdown",
   "metadata": {},
   "source": [
    "## Prediction of future onset of diabetes using serum microRNAs \n",
    "\n",
    "\n",
    "The published dataset of [Gallo et. al, 2018](https://pubmed.ncbi.nlm.nih.gov/30408096/) was used in this project and was selected as it is expected to work on a similar dataset in the future.\n",
    "\n",
    "The dataset includes a table with the __expression level of 47 microRNAs (miRNAs)__ in fasting serum for 560 healthy subjects, of whom __140 developed diabetes__, and 169 cardiovascular diseases during follow-up.\n",
    "\n",
    "The aim of this project is to apply machine learning (ML) methods that would allow us to predict if a healthy patient will develop diabetes in the future given the expression of those 47 miRNAs.  \n",
    "In this study there were only 2 miRNAs(*miR-483-5p*, *let-7e-002406*) that were correlated with the future diabetes incidence after adjusting for age and sex using logistic regression. Unforunately these variables are not publicly available, however we will try to see which miRNAs are important for the predictions of the ML algorithms wherever it is possible.\n",
    " \n",
    "\n",
    "\n",
    "First we will import the table and some necessary python packages:"
   ]
  },
  {
   "cell_type": "code",
   "execution_count": 1,
   "metadata": {
    "scrolled": true
   },
   "outputs": [
    {
     "name": "stdout",
     "output_type": "stream",
     "text": [
      "All packages are in place!\n",
      "Dataset is loaded!\n"
     ]
    }
   ],
   "source": [
    "import seaborn as sns\n",
    "import pandas as pd\n",
    "import numpy as np\n",
    "import matplotlib.pyplot as plt\n",
    "\n",
    "print('All packages are in place!')\n",
    "#Read in the data to a pandas DataFrame using the read_csv method.\n",
    "\n",
    "data = pd.read_excel('Normalized_relative_quantities.xlsx')\n",
    "\n",
    "print('Dataset is loaded!')"
   ]
  },
  {
   "cell_type": "markdown",
   "metadata": {},
   "source": [
    "Let's check the table:"
   ]
  },
  {
   "cell_type": "code",
   "execution_count": 2,
   "metadata": {},
   "outputs": [
    {
     "data": {
      "text/html": [
       "<div>\n",
       "<style scoped>\n",
       "    .dataframe tbody tr th:only-of-type {\n",
       "        vertical-align: middle;\n",
       "    }\n",
       "\n",
       "    .dataframe tbody tr th {\n",
       "        vertical-align: top;\n",
       "    }\n",
       "\n",
       "    .dataframe thead th {\n",
       "        text-align: right;\n",
       "    }\n",
       "</style>\n",
       "<table border=\"1\" class=\"dataframe\">\n",
       "  <thead>\n",
       "    <tr style=\"text-align: right;\">\n",
       "      <th></th>\n",
       "      <th>CardID</th>\n",
       "      <th>inc_dm_2009</th>\n",
       "      <th>inc_cv_2009</th>\n",
       "      <th>hsa-miR-1274A-002883</th>\n",
       "      <th>hsa-miR-17-002308</th>\n",
       "      <th>hsa-miR-1243-002854</th>\n",
       "      <th>hsa-miR-1274B-002884</th>\n",
       "      <th>hsa-miR-625*-002432</th>\n",
       "      <th>hsa-miR-223-002295</th>\n",
       "      <th>hsa-miR-126-002228</th>\n",
       "      <th>...</th>\n",
       "      <th>hsa-miR-21-000397</th>\n",
       "      <th>hsa-miR-30b-000602</th>\n",
       "      <th>hsa-miR-26a-000405</th>\n",
       "      <th>hsa-miR-142-3p-000464</th>\n",
       "      <th>hsa-miR-331-000545</th>\n",
       "      <th>hsa-miR-25-000403</th>\n",
       "      <th>hsa-miR-335-000546</th>\n",
       "      <th>hsa-miR-374-000563</th>\n",
       "      <th>hsa-miR-139-5p-002289</th>\n",
       "      <th>hsa-miR-720-002895</th>\n",
       "    </tr>\n",
       "  </thead>\n",
       "  <tbody>\n",
       "    <tr>\n",
       "      <th>0</th>\n",
       "      <td>1-A1</td>\n",
       "      <td>0.0</td>\n",
       "      <td>0.0</td>\n",
       "      <td>1.440929</td>\n",
       "      <td>0.610050</td>\n",
       "      <td>NaN</td>\n",
       "      <td>1.340712</td>\n",
       "      <td>0.983501</td>\n",
       "      <td>0.005979</td>\n",
       "      <td>1.629015</td>\n",
       "      <td>...</td>\n",
       "      <td>0.731535</td>\n",
       "      <td>4.307949</td>\n",
       "      <td>2.873880</td>\n",
       "      <td>0.127981</td>\n",
       "      <td>NaN</td>\n",
       "      <td>NaN</td>\n",
       "      <td>1.557248</td>\n",
       "      <td>NaN</td>\n",
       "      <td>1.537940</td>\n",
       "      <td>2.350554</td>\n",
       "    </tr>\n",
       "    <tr>\n",
       "      <th>1</th>\n",
       "      <td>1-B1</td>\n",
       "      <td>0.0</td>\n",
       "      <td>1.0</td>\n",
       "      <td>2.459730</td>\n",
       "      <td>0.947041</td>\n",
       "      <td>NaN</td>\n",
       "      <td>3.449772</td>\n",
       "      <td>NaN</td>\n",
       "      <td>0.014097</td>\n",
       "      <td>0.901563</td>\n",
       "      <td>...</td>\n",
       "      <td>1.089375</td>\n",
       "      <td>0.418559</td>\n",
       "      <td>NaN</td>\n",
       "      <td>0.238904</td>\n",
       "      <td>NaN</td>\n",
       "      <td>NaN</td>\n",
       "      <td>2.734922</td>\n",
       "      <td>NaN</td>\n",
       "      <td>3.697375</td>\n",
       "      <td>5.181971</td>\n",
       "    </tr>\n",
       "    <tr>\n",
       "      <th>2</th>\n",
       "      <td>1-C1</td>\n",
       "      <td>0.0</td>\n",
       "      <td>0.0</td>\n",
       "      <td>0.781598</td>\n",
       "      <td>0.783225</td>\n",
       "      <td>NaN</td>\n",
       "      <td>0.393791</td>\n",
       "      <td>0.735858</td>\n",
       "      <td>0.002369</td>\n",
       "      <td>0.751842</td>\n",
       "      <td>...</td>\n",
       "      <td>0.607729</td>\n",
       "      <td>1.372210</td>\n",
       "      <td>2.518388</td>\n",
       "      <td>0.388369</td>\n",
       "      <td>NaN</td>\n",
       "      <td>0.000005</td>\n",
       "      <td>0.784312</td>\n",
       "      <td>NaN</td>\n",
       "      <td>0.707842</td>\n",
       "      <td>0.837116</td>\n",
       "    </tr>\n",
       "    <tr>\n",
       "      <th>3</th>\n",
       "      <td>1-D1</td>\n",
       "      <td>0.0</td>\n",
       "      <td>0.0</td>\n",
       "      <td>0.905634</td>\n",
       "      <td>0.803293</td>\n",
       "      <td>NaN</td>\n",
       "      <td>0.381565</td>\n",
       "      <td>1.816296</td>\n",
       "      <td>0.001835</td>\n",
       "      <td>0.958600</td>\n",
       "      <td>...</td>\n",
       "      <td>1.175277</td>\n",
       "      <td>1.548640</td>\n",
       "      <td>1.769080</td>\n",
       "      <td>0.309498</td>\n",
       "      <td>0.436181</td>\n",
       "      <td>NaN</td>\n",
       "      <td>NaN</td>\n",
       "      <td>NaN</td>\n",
       "      <td>0.632001</td>\n",
       "      <td>1.397648</td>\n",
       "    </tr>\n",
       "    <tr>\n",
       "      <th>4</th>\n",
       "      <td>1-E1</td>\n",
       "      <td>0.0</td>\n",
       "      <td>0.0</td>\n",
       "      <td>1.552398</td>\n",
       "      <td>0.779434</td>\n",
       "      <td>NaN</td>\n",
       "      <td>0.419139</td>\n",
       "      <td>0.233016</td>\n",
       "      <td>0.001608</td>\n",
       "      <td>0.931417</td>\n",
       "      <td>...</td>\n",
       "      <td>0.594810</td>\n",
       "      <td>2.056941</td>\n",
       "      <td>2.609004</td>\n",
       "      <td>1.241858</td>\n",
       "      <td>0.629597</td>\n",
       "      <td>NaN</td>\n",
       "      <td>0.336459</td>\n",
       "      <td>NaN</td>\n",
       "      <td>0.539427</td>\n",
       "      <td>1.589418</td>\n",
       "    </tr>\n",
       "    <tr>\n",
       "      <th>...</th>\n",
       "      <td>...</td>\n",
       "      <td>...</td>\n",
       "      <td>...</td>\n",
       "      <td>...</td>\n",
       "      <td>...</td>\n",
       "      <td>...</td>\n",
       "      <td>...</td>\n",
       "      <td>...</td>\n",
       "      <td>...</td>\n",
       "      <td>...</td>\n",
       "      <td>...</td>\n",
       "      <td>...</td>\n",
       "      <td>...</td>\n",
       "      <td>...</td>\n",
       "      <td>...</td>\n",
       "      <td>...</td>\n",
       "      <td>...</td>\n",
       "      <td>...</td>\n",
       "      <td>...</td>\n",
       "      <td>...</td>\n",
       "      <td>...</td>\n",
       "    </tr>\n",
       "    <tr>\n",
       "      <th>555</th>\n",
       "      <td>6-D10</td>\n",
       "      <td>0.0</td>\n",
       "      <td>0.0</td>\n",
       "      <td>5.241568</td>\n",
       "      <td>0.970634</td>\n",
       "      <td>1.063999e-07</td>\n",
       "      <td>3.660398</td>\n",
       "      <td>2.385016</td>\n",
       "      <td>0.001686</td>\n",
       "      <td>0.643049</td>\n",
       "      <td>...</td>\n",
       "      <td>0.803293</td>\n",
       "      <td>2.418310</td>\n",
       "      <td>1.075493</td>\n",
       "      <td>0.658840</td>\n",
       "      <td>0.910669</td>\n",
       "      <td>NaN</td>\n",
       "      <td>1.640346</td>\n",
       "      <td>1.115739</td>\n",
       "      <td>0.313383</td>\n",
       "      <td>2.193144</td>\n",
       "    </tr>\n",
       "    <tr>\n",
       "      <th>556</th>\n",
       "      <td>6-E10</td>\n",
       "      <td>0.0</td>\n",
       "      <td>0.0</td>\n",
       "      <td>5.909351</td>\n",
       "      <td>0.948684</td>\n",
       "      <td>5.662446e-08</td>\n",
       "      <td>3.474971</td>\n",
       "      <td>0.931740</td>\n",
       "      <td>0.000647</td>\n",
       "      <td>1.356603</td>\n",
       "      <td>...</td>\n",
       "      <td>1.368883</td>\n",
       "      <td>1.019598</td>\n",
       "      <td>2.106720</td>\n",
       "      <td>0.249654</td>\n",
       "      <td>NaN</td>\n",
       "      <td>NaN</td>\n",
       "      <td>0.631126</td>\n",
       "      <td>NaN</td>\n",
       "      <td>1.404445</td>\n",
       "      <td>3.292081</td>\n",
       "    </tr>\n",
       "    <tr>\n",
       "      <th>557</th>\n",
       "      <td>6-F10</td>\n",
       "      <td>0.0</td>\n",
       "      <td>1.0</td>\n",
       "      <td>2.000000</td>\n",
       "      <td>0.903126</td>\n",
       "      <td>9.595959e-08</td>\n",
       "      <td>2.543826</td>\n",
       "      <td>0.980779</td>\n",
       "      <td>0.000910</td>\n",
       "      <td>1.247466</td>\n",
       "      <td>...</td>\n",
       "      <td>1.123499</td>\n",
       "      <td>2.674002</td>\n",
       "      <td>2.675855</td>\n",
       "      <td>0.241317</td>\n",
       "      <td>2.579338</td>\n",
       "      <td>NaN</td>\n",
       "      <td>1.760520</td>\n",
       "      <td>0.590497</td>\n",
       "      <td>1.737483</td>\n",
       "      <td>1.508381</td>\n",
       "    </tr>\n",
       "    <tr>\n",
       "      <th>558</th>\n",
       "      <td>6-G10</td>\n",
       "      <td>0.0</td>\n",
       "      <td>0.0</td>\n",
       "      <td>1.048990</td>\n",
       "      <td>1.088996</td>\n",
       "      <td>6.865452e-09</td>\n",
       "      <td>1.790050</td>\n",
       "      <td>0.513345</td>\n",
       "      <td>0.001711</td>\n",
       "      <td>0.690637</td>\n",
       "      <td>...</td>\n",
       "      <td>0.721965</td>\n",
       "      <td>2.008336</td>\n",
       "      <td>1.930533</td>\n",
       "      <td>0.329648</td>\n",
       "      <td>NaN</td>\n",
       "      <td>NaN</td>\n",
       "      <td>2.047697</td>\n",
       "      <td>NaN</td>\n",
       "      <td>1.059218</td>\n",
       "      <td>0.893166</td>\n",
       "    </tr>\n",
       "    <tr>\n",
       "      <th>559</th>\n",
       "      <td>6-H10</td>\n",
       "      <td>0.0</td>\n",
       "      <td>0.0</td>\n",
       "      <td>1.321796</td>\n",
       "      <td>1.042104</td>\n",
       "      <td>NaN</td>\n",
       "      <td>1.386552</td>\n",
       "      <td>3.040901</td>\n",
       "      <td>0.001824</td>\n",
       "      <td>0.523587</td>\n",
       "      <td>...</td>\n",
       "      <td>0.910354</td>\n",
       "      <td>1.717728</td>\n",
       "      <td>1.044997</td>\n",
       "      <td>0.459935</td>\n",
       "      <td>NaN</td>\n",
       "      <td>NaN</td>\n",
       "      <td>1.076614</td>\n",
       "      <td>0.660441</td>\n",
       "      <td>0.485485</td>\n",
       "      <td>0.641046</td>\n",
       "    </tr>\n",
       "  </tbody>\n",
       "</table>\n",
       "<p>560 rows × 50 columns</p>\n",
       "</div>"
      ],
      "text/plain": [
       "    CardID  inc_dm_2009  inc_cv_2009  hsa-miR-1274A-002883  hsa-miR-17-002308  \\\n",
       "0     1-A1          0.0          0.0              1.440929           0.610050   \n",
       "1     1-B1          0.0          1.0              2.459730           0.947041   \n",
       "2     1-C1          0.0          0.0              0.781598           0.783225   \n",
       "3     1-D1          0.0          0.0              0.905634           0.803293   \n",
       "4     1-E1          0.0          0.0              1.552398           0.779434   \n",
       "..     ...          ...          ...                   ...                ...   \n",
       "555  6-D10          0.0          0.0              5.241568           0.970634   \n",
       "556  6-E10          0.0          0.0              5.909351           0.948684   \n",
       "557  6-F10          0.0          1.0              2.000000           0.903126   \n",
       "558  6-G10          0.0          0.0              1.048990           1.088996   \n",
       "559  6-H10          0.0          0.0              1.321796           1.042104   \n",
       "\n",
       "     hsa-miR-1243-002854  hsa-miR-1274B-002884  hsa-miR-625*-002432  \\\n",
       "0                    NaN              1.340712             0.983501   \n",
       "1                    NaN              3.449772                  NaN   \n",
       "2                    NaN              0.393791             0.735858   \n",
       "3                    NaN              0.381565             1.816296   \n",
       "4                    NaN              0.419139             0.233016   \n",
       "..                   ...                   ...                  ...   \n",
       "555         1.063999e-07              3.660398             2.385016   \n",
       "556         5.662446e-08              3.474971             0.931740   \n",
       "557         9.595959e-08              2.543826             0.980779   \n",
       "558         6.865452e-09              1.790050             0.513345   \n",
       "559                  NaN              1.386552             3.040901   \n",
       "\n",
       "     hsa-miR-223-002295  hsa-miR-126-002228  ...  hsa-miR-21-000397  \\\n",
       "0              0.005979            1.629015  ...           0.731535   \n",
       "1              0.014097            0.901563  ...           1.089375   \n",
       "2              0.002369            0.751842  ...           0.607729   \n",
       "3              0.001835            0.958600  ...           1.175277   \n",
       "4              0.001608            0.931417  ...           0.594810   \n",
       "..                  ...                 ...  ...                ...   \n",
       "555            0.001686            0.643049  ...           0.803293   \n",
       "556            0.000647            1.356603  ...           1.368883   \n",
       "557            0.000910            1.247466  ...           1.123499   \n",
       "558            0.001711            0.690637  ...           0.721965   \n",
       "559            0.001824            0.523587  ...           0.910354   \n",
       "\n",
       "     hsa-miR-30b-000602  hsa-miR-26a-000405  hsa-miR-142-3p-000464  \\\n",
       "0              4.307949            2.873880               0.127981   \n",
       "1              0.418559                 NaN               0.238904   \n",
       "2              1.372210            2.518388               0.388369   \n",
       "3              1.548640            1.769080               0.309498   \n",
       "4              2.056941            2.609004               1.241858   \n",
       "..                  ...                 ...                    ...   \n",
       "555            2.418310            1.075493               0.658840   \n",
       "556            1.019598            2.106720               0.249654   \n",
       "557            2.674002            2.675855               0.241317   \n",
       "558            2.008336            1.930533               0.329648   \n",
       "559            1.717728            1.044997               0.459935   \n",
       "\n",
       "     hsa-miR-331-000545  hsa-miR-25-000403  hsa-miR-335-000546  \\\n",
       "0                   NaN                NaN            1.557248   \n",
       "1                   NaN                NaN            2.734922   \n",
       "2                   NaN           0.000005            0.784312   \n",
       "3              0.436181                NaN                 NaN   \n",
       "4              0.629597                NaN            0.336459   \n",
       "..                  ...                ...                 ...   \n",
       "555            0.910669                NaN            1.640346   \n",
       "556                 NaN                NaN            0.631126   \n",
       "557            2.579338                NaN            1.760520   \n",
       "558                 NaN                NaN            2.047697   \n",
       "559                 NaN                NaN            1.076614   \n",
       "\n",
       "     hsa-miR-374-000563  hsa-miR-139-5p-002289  hsa-miR-720-002895  \n",
       "0                   NaN               1.537940            2.350554  \n",
       "1                   NaN               3.697375            5.181971  \n",
       "2                   NaN               0.707842            0.837116  \n",
       "3                   NaN               0.632001            1.397648  \n",
       "4                   NaN               0.539427            1.589418  \n",
       "..                  ...                    ...                 ...  \n",
       "555            1.115739               0.313383            2.193144  \n",
       "556                 NaN               1.404445            3.292081  \n",
       "557            0.590497               1.737483            1.508381  \n",
       "558                 NaN               1.059218            0.893166  \n",
       "559            0.660441               0.485485            0.641046  \n",
       "\n",
       "[560 rows x 50 columns]"
      ]
     },
     "execution_count": 2,
     "metadata": {},
     "output_type": "execute_result"
    }
   ],
   "source": [
    "data"
   ]
  },
  {
   "cell_type": "markdown",
   "metadata": {},
   "source": [
    "* Column 1 (*CardID*): The subject's ID\n",
    "* Column 2 (*inc_dm_2009*): The subject developed (1) or not (2) diabetes\n",
    "* Column 3 (*inc_cv_2009*): The subject developed (1) or not (2) cardiovascular disease\n",
    "* Column 4-50: miRNA expression levels generated by microarrays \n",
    "\n",
    "In this project we will choose to predict __only the diabetes__ incidence, so *Column 3* will not be used.\n",
    "\n",
    "Having a first look at the table, we can see there are quite many missing values. Gene expression data generated from microarrays tend to result in such missing values, but we will deal with it later.\n",
    "\n",
    "First, let's check if there any missing values for our target variable \"inc_dm_2009\":"
   ]
  },
  {
   "cell_type": "code",
   "execution_count": 4,
   "metadata": {},
   "outputs": [
    {
     "data": {
      "text/plain": [
       "7"
      ]
     },
     "execution_count": 4,
     "metadata": {},
     "output_type": "execute_result"
    }
   ],
   "source": [
    "data['inc_dm_2009'].isna().sum()"
   ]
  },
  {
   "cell_type": "markdown",
   "metadata": {},
   "source": [
    "We are going to remove these 7 subjects.  \n",
    "Also we are going to remove the \"subject ID labels\" and \"prediction for cardiovascular disease\" columns since they are not necessary:"
   ]
  },
  {
   "cell_type": "code",
   "execution_count": 5,
   "metadata": {},
   "outputs": [
    {
     "data": {
      "text/plain": [
       "(553, 48)"
      ]
     },
     "execution_count": 5,
     "metadata": {},
     "output_type": "execute_result"
    }
   ],
   "source": [
    "data_clean = data.drop(['CardID','inc_cv_2009'], 1)\n",
    "\n",
    "data_clean = data_clean.dropna(how='any', subset=['inc_dm_2009'])\n",
    "\n",
    "data_clean.shape"
   ]
  },
  {
   "cell_type": "markdown",
   "metadata": {},
   "source": [
    "Another thing we should pay attention to is how *__balanced__* the predicting target variable of our dataset is, in other words, how many subjects develop diabetes vs how many they don't."
   ]
  },
  {
   "cell_type": "code",
   "execution_count": 8,
   "metadata": {},
   "outputs": [
    {
     "name": "stdout",
     "output_type": "stream",
     "text": [
      "Proportion: 2.57 : 1\n"
     ]
    },
    {
     "data": {
      "image/png": "[encoded data removed]",
      "text/plain": [
       "<Figure size 432x288 with 1 Axes>"
      ]
     },
     "metadata": {
      "needs_background": "light"
     },
     "output_type": "display_data"
    }
   ],
   "source": [
    "y = data_clean['inc_dm_2009'].astype(int)\n",
    "y_counts = y.value_counts()\n",
    "\n",
    "y_counts.plot(kind='bar', title='Count (target)', color=['slateblue','salmon']);\n",
    "\n",
    "print('Proportion:', round(y_counts[0] / y_counts[1], 2), ': 1')"
   ]
  },
  {
   "cell_type": "markdown",
   "metadata": {},
   "source": [
    "We can see a big disproportion, which can cause the ML algorithms to identify easier the 0s than the 1s. (*Spoiler alert*: The ML methods used in this project were first trained with the original unbalanced data and, unsurprisingly, they could only predict 0s). This can be handled by:\n",
    "* __Downsampling the majority class__, or\n",
    "* __Upsampling the minority class__ (by random resampling with replacement)\n",
    "\n",
    "In both cases there are drawbacks. In the first case, we eliminate potentially crucial training input into our ML algorithms, while in the second one, since some elements are repeated there is the danger that same elements end up in both the training and testing set and the algorithms are overfitted.\n",
    "\n",
    "After trying both approaches, upsampling the minority class gave significantly better results. It is possible there is some overfitting, but the fact that our hyperparameters were tuned based on cross-validation (see below) and the existence of regularization parameters in the ML methods will reduce its size.  "
   ]
  },
  {
   "cell_type": "code",
   "execution_count": 10,
   "metadata": {},
   "outputs": [
    {
     "data": {
      "image/png": "[encoded data removed]",
      "text/plain": [
       "<Figure size 432x288 with 1 Axes>"
      ]
     },
     "metadata": {
      "needs_background": "light"
     },
     "output_type": "display_data"
    }
   ],
   "source": [
    "#Up-sample Minority Class\n",
    "\n",
    "from sklearn.utils import resample\n",
    "\n",
    "# Separate majority and minority classes\n",
    "df_majority = data_clean[data_clean['inc_dm_2009']==0]\n",
    "df_minority = data_clean[data_clean['inc_dm_2009']==1]\n",
    "\n",
    "# Upsample minority class\n",
    "df_minority_upsampled = resample(df_minority, \n",
    "                                 replace=True,     # sample with replacement\n",
    "                                 n_samples=398,    # to match majority class\n",
    "                                 random_state=123) \n",
    "\n",
    "\n",
    "# Combine majority class with upsampled minority class\n",
    "df_upsampled = pd.concat([df_majority, df_minority_upsampled])\n",
    "\n",
    "#Our feature varuables (miRNA values) start from the 3rd column\n",
    "X = df_upsampled.iloc[:,3:]\n",
    "y = df_upsampled['inc_dm_2009'].astype(int)\n",
    "\n",
    "# Display new class counts\n",
    "y_counts = y.value_counts()\n",
    "\n",
    "y_counts.plot(kind='bar', title='Count (target)', color=['slateblue','salmon']);"
   ]
  },
  {
   "cell_type": "markdown",
   "metadata": {},
   "source": [
    "Before we process the feature variables, we should split the data into our training and test set. This is to ensure *no information from the test set will \"leak\" into our training data*. The *stratify* arguement ensures that the distribution of the target variable in the training and test will be equal to that of the original set."
   ]
  },
  {
   "cell_type": "code",
   "execution_count": 11,
   "metadata": {},
   "outputs": [],
   "source": [
    "from sklearn.model_selection import train_test_split\n",
    "\n",
    "X_train, X_test, y_train, y_test = train_test_split(X, y, test_size=0.2, stratify=y, random_state=42)"
   ]
  },
  {
   "cell_type": "markdown",
   "metadata": {},
   "source": [
    "Now let's go on to process the miRNA expression values. First let's check the distribution of the first column:"
   ]
  },
  {
   "cell_type": "code",
   "execution_count": 13,
   "metadata": {},
   "outputs": [
    {
     "data": {
      "image/png": "[encoded data removed]",
      "text/plain": [
       "<Figure size 432x288 with 1 Axes>"
      ]
     },
     "metadata": {
      "needs_background": "light"
     },
     "output_type": "display_data"
    }
   ],
   "source": [
    "#Let's plot two random columns to see the distribution\n",
    "plt.clf()\n",
    "sns.distplot(data_clean['hsa-miR-1274A-002883'])\n",
    "plt.title('hsa-miR-1274A-002883')\n",
    "plt.show()\n",
    "\n"
   ]
  },
  {
   "cell_type": "markdown",
   "metadata": {},
   "source": [
    "As expected with the gene expression data, our miRNA expression values follow a *__negative binomial distribution__* which is skewed towards 0. This is because the majority of the expression values are expected to be equal or close to 0.   \n",
    "\n",
    "However, many ML methods assume data are normally distributed and normalized/scaled (e.g. support vector machine(svm), k-nearest neighbors (knn)). At the same time, we will handle the issue of missing values with imputation as some ML methods cannot process missing values. According to [Troyanskaya et. al, 2001](https://academic.oup.com/bioinformatics/article/17/6/520/272365) and [Scheel et. al, 2005](https://pubmed.ncbi.nlm.nih.gov/16216830/) a widely used method to do this is by knn-imputation after removing columns with more than 10% missing information. \n",
    "\n",
    "So the data processing (seperately for the training and test sets) includes:\n",
    "1. __Log-transformion__ - data will follow the normal distribution \n",
    "2. __Imputation__ on columns with < 10% missing information - the rest will be dropped \n",
    "3. __Data scaling__ \n"
   ]
  },
  {
   "cell_type": "code",
   "execution_count": 16,
   "metadata": {},
   "outputs": [
    {
     "name": "stdout",
     "output_type": "stream",
     "text": [
      "Processing done\n"
     ]
    }
   ],
   "source": [
    "#Log-transformion\n",
    "\n",
    "X_train_log = np.log2(X_train)\n",
    "X_test_log = np.log2(X_test)\n",
    "\n",
    "#Imputation\n",
    "\n",
    "#remove columns with missing data > 10% in the whole dataset and then impute test and train sets:\n",
    "cols = X.columns[X.isnull().mean() < 0.1]\n",
    "\n",
    "X_train_log_flt = X_train_log[cols]\n",
    "X_test_log_flt = X_test_log[cols]\n",
    "\n",
    "#13/49 feature variables were removed\n",
    "\n",
    "#imputation - fit and transform the train set and then fit to the test set in order to simulate real \n",
    "#testing conditions\n",
    "from sklearn.impute import KNNImputer\n",
    "    \n",
    "imputer = KNNImputer(n_neighbors=5, weights=\"uniform\")\n",
    "\n",
    "X_train_imp = imputer.fit_transform(X_train_log_flt)\n",
    "X_test_imp = imputer.transform(X_test_log_flt) \n",
    "\n",
    "#Now we will scale the data to [0,1] as it is necessary for some distance-based machine learning \n",
    "#estimators (SVM, knn) \n",
    "\n",
    "from sklearn.preprocessing import MinMaxScaler\n",
    "scaler = MinMaxScaler(feature_range=(0, 1))\n",
    "\n",
    "X_train_sc = scaler.fit_transform(X_train_imp)\n",
    "X_test_sc = scaler.transform(X_test_imp) #Here we only need to transform the test data\n",
    "\n",
    "print('Processing done')"
   ]
  },
  {
   "cell_type": "markdown",
   "metadata": {},
   "source": [
    "## Performance measures\n",
    "\n",
    "As mentioned earlier, originally the target variable of the dataset was highly imbalanced (many 0s = subject will remain healthy and few 1s = subject will develop diabetes).\n",
    "\n",
    "When I first trained and cross-validated the dataset I was getting relatively good __precision__ scores (e.g. 0.75), although my models could <u>only predict the 0s</u>, meaning that by definition precision for class 0 was 100 and for class 1 was 0. Howerver, as 0s were 2.5 times more in the test set the average was 0.75. \n",
    "\n",
    "So in order to account for both the false positives and the false negatives and the differences between the 2 classes, the __average f1 score__ between the classes was selected as the most appropriate. \n",
    "\n",
    "On the other hand __AUC__ is not ideal for imbalanced data and it is less easily interpretable as the increasing of AUC doesn't really reflect a better classifier (e.g. a score can be high due to large *false positives*, rather than the large *true positives*)\n"
   ]
  },
  {
   "cell_type": "code",
   "execution_count": null,
   "metadata": {},
   "outputs": [],
   "source": []
  },
  {
   "cell_type": "code",
   "execution_count": 18,
   "metadata": {},
   "outputs": [
    {
     "name": "stdout",
     "output_type": "stream",
     "text": [
      "The best parameters are {'C': 1, 'gamma': 100, 'kernel': 'rbf'} with a score of 0.91\n",
      "Time elapsed:  49.546875\n",
      "Classification Report: \n",
      "               precision    recall  f1-score   support\n",
      "\n",
      "         0.0       0.91      1.00      0.95        80\n",
      "         1.0       1.00      0.90      0.95        80\n",
      "\n",
      "    accuracy                           0.95       160\n",
      "   macro avg       0.95      0.95      0.95       160\n",
      "weighted avg       0.95      0.95      0.95       160\n",
      "\n",
      "Confusion Matrix: \n",
      " [[80  0]\n",
      " [ 8 72]]\n"
     ]
    }
   ],
   "source": [
    "#SVM model\n",
    "\n",
    "#svm is independent of the dimensionality of the feature space as the appriate selection of the regularisation parameter C \n",
    "#can prevent overfitting - so feature selection is not going to be applied here\n",
    "\n",
    "#We will do a grid search with 3 types of kernels (linear, rbf, polynomial)\n",
    "from time import process_time\n",
    "from sklearn.model_selection import GridSearchCV\n",
    "from sklearn import svm\n",
    "from sklearn.metrics import classification_report, confusion_matrix\n",
    "\n",
    "t0= process_time()\n",
    "\n",
    "parameters = [{'kernel':['linear'],'C':[0.001,0.01, 0.1, 1, 10, 100, 1000]}, \n",
    "              {'kernel':['rbf'],'C':[0.001,0.01, 0.1, 1, 10, 100, 1000], 'gamma': [0.001,0.01, 0.1, 1, 10, 100, 1000]}]\n",
    "\n",
    "\n",
    "svc = svm.SVC()\n",
    "svm_model = GridSearchCV(svc, parameters, cv = 10, scoring = 'f1_macro') #(Stratified)KFold is used as cross-validation strategy by default as \n",
    "                                                  #our target feature is binary\n",
    "\n",
    "svm_model = svm_model.fit(X_train_sc, y_train) \n",
    "   \n",
    "  \n",
    "\n",
    "print(\"The best parameters are %s with a score of %0.2f\"\n",
    "      % (svm_model.best_params_, svm_model.best_score_))\n",
    "\n",
    "t1 = process_time() - t0\n",
    "print(\"Time elapsed: \", t1) #takes 40min to run\n",
    "\n",
    "\n",
    "\n",
    "y_true, y_pred = y_test, svm_model.predict(X_test_sc)\n",
    "print(\"Classification Report:\", \"\\n\", classification_report(y_true, y_pred))\n",
    "\n",
    "print(\"Confusion Matrix:\", \"\\n\", confusion_matrix(y_true, y_pred))"
   ]
  },
  {
   "cell_type": "code",
   "execution_count": null,
   "metadata": {},
   "outputs": [],
   "source": [
    "Unbalanced\n",
    "[[67 13]\n",
    " [22  9]]\n",
    "\n",
    "Downsampling majority Class\n",
    "[[16 15]\n",
    " [20 11]]\n",
    "\n",
    "Up-sample Minority Class\n",
    "[[80  0]\n",
    " [ 8 72]]\n",
    "\n"
   ]
  },
  {
   "cell_type": "code",
   "execution_count": null,
   "metadata": {},
   "outputs": [],
   "source": []
  },
  {
   "cell_type": "code",
   "execution_count": 19,
   "metadata": {},
   "outputs": [
    {
     "name": "stdout",
     "output_type": "stream",
     "text": [
      "Best Kernel: rbf\n",
      "Best C: 1000\n",
      "Best gamma: scale\n",
      "Best Number Of Components: 24\n",
      "Best Score: 0.79\n",
      "\n",
      "Classification Report: \n",
      "               precision    recall  f1-score   support\n",
      "\n",
      "         0.0       0.95      0.75      0.84        80\n",
      "         1.0       0.79      0.96      0.87        80\n",
      "\n",
      "    accuracy                           0.86       160\n",
      "   macro avg       0.87      0.86      0.85       160\n",
      "weighted avg       0.87      0.86      0.85       160\n",
      "\n"
     ]
    },
    {
     "data": {
      "image/png": "[encoded data removed]",
      "text/plain": [
       "<Figure size 432x288 with 2 Axes>"
      ]
     },
     "metadata": {
      "needs_background": "light"
     },
     "output_type": "display_data"
    },
    {
     "data": {
      "text/plain": [
       "<sklearn.metrics._plot.confusion_matrix.ConfusionMatrixDisplay at 0x7f687efebf50>"
      ]
     },
     "execution_count": 19,
     "metadata": {},
     "output_type": "execute_result"
    },
    {
     "data": {
      "image/png": "[encoded data removed]",
      "text/plain": [
       "<Figure size 432x288 with 2 Axes>"
      ]
     },
     "metadata": {
      "needs_background": "light"
     },
     "output_type": "display_data"
    }
   ],
   "source": [
    "#Here we see that our model cannot predict any positive result. Maybe there is noise in the features?\n",
    "\n",
    "\n",
    "#Let's reduce the feature dimensions using PCA and grid search again - I will do it for linear and rbf kernel seperately\n",
    "\n",
    "from sklearn.pipeline import Pipeline\n",
    "from sklearn import decomposition\n",
    "from sklearn.model_selection import GridSearchCV\n",
    "from sklearn.metrics import classification_report, confusion_matrix, plot_confusion_matrix\n",
    "from sklearn import svm\n",
    "\n",
    "pca = decomposition.PCA()\n",
    "\n",
    "svc = svm.SVC()\n",
    "\n",
    "# Create a pipeline of two steps: \n",
    "# 1) tranform the data with PCA, 2) train a Decision Tree Classifier on the data.\n",
    "pipe = Pipeline(steps=[('pca', pca), ('svc', svc)])\n",
    "\n",
    "# Create Parameter Space\n",
    "\n",
    "# Create a list of a sequence of integers to integrate from PCA\n",
    "n_components = list(range(1,X_train_sc.shape[1]+1,1))\n",
    "\n",
    "# Create lists of parameter for SVC\n",
    "#kernel = ['linear', 'rbf']\n",
    "#kernel = ['linear']\n",
    "C = [0.001,0.01, 0.1, 1, 10, 100, 1000]\n",
    "\n",
    "kernel = ['rbf']\n",
    "gamma = [0.001,0.01, 0.1, 1, 10, 100, 1000]\n",
    "\n",
    "parameters = dict(pca__n_components=n_components,\n",
    "                      svc__kernel=kernel,\n",
    "                      svc__C=C)\n",
    "\n",
    "#parameters = dict(pca__n_components=n_components,\n",
    "#                      svc__kernel=kernel,\n",
    "#                      svc__C=C, svc__gamma=gamma)\n",
    "\n",
    "svm_pca_model = GridSearchCV(pipe, parameters, cv = 10, scoring = 'f1_macro')\n",
    "\n",
    "svm_pca_model.fit(X_train_sc, y_train)\n",
    "\n",
    "print('Best Kernel:', svm_pca_model.best_estimator_.get_params()['svc__kernel'])\n",
    "print('Best C:', svm_pca_model.best_estimator_.get_params()['svc__C'])\n",
    "print('Best gamma:', svm_pca_model.best_estimator_.get_params()['svc__gamma'])\n",
    "print('Best Number Of Components:', svm_pca_model.best_estimator_.get_params()['pca__n_components'])\n",
    "print(\"Best Score: %0.2f\" % svm_pca_model.best_score_)\n",
    "print()\n",
    "\n",
    "y_true, y_pred = y_test, svm_pca_model.predict(X_test_sc)\n",
    "print(\"Classification Report:\", \"\\n\", classification_report(y_true, y_pred))\n",
    "\n",
    "\n",
    "plot_confusion_matrix(svm_pca_model, X_test_sc, y_test)\n",
    "plt.show()\n",
    "\n",
    "\n"
   ]
  },
  {
   "cell_type": "code",
   "execution_count": null,
   "metadata": {},
   "outputs": [],
   "source": [
    "#Not as good result. If kernel = linear, we could have exported important features from coefficients too."
   ]
  },
  {
   "cell_type": "code",
   "execution_count": null,
   "metadata": {},
   "outputs": [],
   "source": []
  },
  {
   "cell_type": "code",
   "execution_count": 21,
   "metadata": {},
   "outputs": [
    {
     "name": "stdout",
     "output_type": "stream",
     "text": [
      "Best Criterion: entropy\n",
      "Best max_depth: 24\n",
      "Best Number Of Components: 27\n",
      "Best Score: 0.82\n",
      "\n",
      "Classification Report: \n",
      "               precision    recall  f1-score   support\n",
      "\n",
      "         0.0       0.92      0.68      0.78        80\n",
      "         1.0       0.74      0.94      0.83        80\n",
      "\n",
      "    accuracy                           0.81       160\n",
      "   macro avg       0.83      0.81      0.80       160\n",
      "weighted avg       0.83      0.81      0.80       160\n",
      "\n"
     ]
    },
    {
     "data": {
      "image/png": "[encoded data removed]",
      "text/plain": [
       "<Figure size 432x288 with 2 Axes>"
      ]
     },
     "metadata": {
      "needs_background": "light"
     },
     "output_type": "display_data"
    }
   ],
   "source": [
    "#Decision Trees\n",
    "\n",
    "#Decision trees tend to overfit on data with a large number of features so first we will perform dimensionality reduction\n",
    "#using pca\n",
    "\n",
    "#The rationale is to take advantage of the Pipeline function of sklearn in order to grid search for the best number of PCA \n",
    "#components to input in our decision trees, and the best hyperparameters of our tree at the same time \n",
    "\n",
    "from sklearn import decomposition\n",
    "from sklearn.tree import DecisionTreeClassifier\n",
    "from sklearn.pipeline import Pipeline\n",
    "from sklearn.model_selection import GridSearchCV\n",
    "from sklearn.metrics import classification_report, confusion_matrix, plot_confusion_matrix\n",
    "\n",
    "pca = decomposition.PCA()\n",
    "decisiontree = DecisionTreeClassifier()\n",
    "\n",
    "# Create a pipeline of two steps: \n",
    "# 1) tranform the data with PCA, 2) train a Decision Tree Classifier on the data.\n",
    "pipe = Pipeline(steps=[('pca', pca), ('decisiontree', decisiontree)])\n",
    "\n",
    "# Create Parameter Space\n",
    "\n",
    "# Create a list of a sequence of integers to integrate from PCA\n",
    "n_components = list(range(1,X_train_sc.shape[1]+1,1))\n",
    "#n_components = list(range(30,31))\n",
    "\n",
    "# Create lists of parameter for Decision Tree Classifier\n",
    "criterion = ['gini', 'entropy']\n",
    "\n",
    "max_depth = list(range(4,30,4))\n",
    "\n",
    "parameters = dict(pca__n_components=n_components,\n",
    "                      decisiontree__criterion=criterion,\n",
    "                      decisiontree__max_depth=max_depth)\n",
    "\n",
    "\n",
    "model_dt = GridSearchCV(pipe, parameters, cv = 10, scoring = 'f1_macro')\n",
    "\n",
    "model_dt.fit(X_train_sc, y_train)\n",
    "\n",
    "print('Best Criterion:', model_dt.best_estimator_.get_params()['decisiontree__criterion'])\n",
    "print('Best max_depth:', model_dt.best_estimator_.get_params()['decisiontree__max_depth'])\n",
    "print('Best Number Of Components:', model_dt.best_estimator_.get_params()['pca__n_components'])\n",
    "print(\"Best Score: %0.2f\" % model_dt.best_score_)\n",
    "print()\n",
    "\n",
    "y_true, y_pred = y_test, model_dt.predict(X_test_sc)\n",
    "\n",
    "print(\"Classification Report:\", \"\\n\", classification_report(y_true, y_pred))\n",
    "\n",
    "#Confusion plot    \n",
    "plot_confusion_matrix(model_dt, X_test_sc, y_test)\n",
    "plt.show()    "
   ]
  },
  {
   "cell_type": "code",
   "execution_count": null,
   "metadata": {},
   "outputs": [],
   "source": [
    "[[60 20]\n",
    " [ 4 76]] 0.83 30 30 "
   ]
  },
  {
   "cell_type": "code",
   "execution_count": 48,
   "metadata": {},
   "outputs": [
    {
     "ename": "AttributeError",
     "evalue": "'Pipeline' object has no attribute 'feature_importances_'",
     "output_type": "error",
     "traceback": [
      "\u001b[0;31m---------------------------------------------------------------------------\u001b[0m",
      "\u001b[0;31mAttributeError\u001b[0m                            Traceback (most recent call last)",
      "\u001b[0;32m<ipython-input-48-f8e61d72a16a>\u001b[0m in \u001b[0;36m<module>\u001b[0;34m\u001b[0m\n\u001b[1;32m      6\u001b[0m \u001b[0mdtr\u001b[0m \u001b[0;34m=\u001b[0m \u001b[0mdtr_model\u001b[0m\u001b[0;34m.\u001b[0m\u001b[0mfit\u001b[0m\u001b[0;34m(\u001b[0m\u001b[0mX_test_sc\u001b[0m\u001b[0;34m,\u001b[0m \u001b[0my_test\u001b[0m\u001b[0;34m)\u001b[0m\u001b[0;34m\u001b[0m\u001b[0;34m\u001b[0m\u001b[0m\n\u001b[1;32m      7\u001b[0m \u001b[0;31m# get feature co-efficients\u001b[0m\u001b[0;34m\u001b[0m\u001b[0;34m\u001b[0m\u001b[0;34m\u001b[0m\u001b[0m\n\u001b[0;32m----> 8\u001b[0;31m \u001b[0mimportance_dtr\u001b[0m \u001b[0;34m=\u001b[0m \u001b[0mdtr\u001b[0m\u001b[0;34m.\u001b[0m\u001b[0mfeature_importances_\u001b[0m\u001b[0;34m\u001b[0m\u001b[0;34m\u001b[0m\u001b[0m\n\u001b[0m\u001b[1;32m      9\u001b[0m \u001b[0;34m\u001b[0m\u001b[0m\n\u001b[1;32m     10\u001b[0m \u001b[0;31m# summarize feature importance - correspond it with the feature names of our dataset\u001b[0m\u001b[0;34m\u001b[0m\u001b[0;34m\u001b[0m\u001b[0;34m\u001b[0m\u001b[0m\n",
      "\u001b[0;31mAttributeError\u001b[0m: 'Pipeline' object has no attribute 'feature_importances_'"
     ]
    }
   ],
   "source": [
    "#Export important features\n",
    "\n",
    "#We cannot choose feature importance as we would have to reduce their dimensions and not direct \n",
    "#correlation could be made\n",
    "\n",
    "# define the model\n",
    "#choose the best parameters of the grid search manually as it is a pipeline oject\n",
    "dtr_model = DecisionTreeClassifier(criterion = 'entropy', max_depth = 24)\n",
    "# fit the model\n",
    "dtr = dtr_model.fit(X_test_sc, y_test)\n",
    "# get feature co-efficients\n",
    "importance_dtr = dtr.feature_importances_\n",
    "    \n",
    "# summarize feature importance - correspond it with the feature names of our dataset\n",
    "feature_dict_dtr = {}\n",
    "for i,v in enumerate(importance_dtr):\n",
    "    if v != 0:\n",
    "        feature_dict_dtr[cols[i]] = v\n",
    "#print only no negative coefficients\n",
    "for w in sorted(feature_dict_dtr, key=feature_dict_dtr.get, reverse=True):\n",
    "    print(\"Feature: {} - Coef: {:.3}\".format(w, feature_dict_dtr[w]))    "
   ]
  },
  {
   "cell_type": "code",
   "execution_count": null,
   "metadata": {},
   "outputs": [],
   "source": []
  },
  {
   "cell_type": "code",
   "execution_count": 26,
   "metadata": {},
   "outputs": [
    {
     "name": "stdout",
     "output_type": "stream",
     "text": [
      "Best leaf_size: 1\n",
      "Best weight function: uniform\n",
      "Best n_neighbors: 1\n",
      "Best Score: 0.77\n",
      "Classification Report: \n",
      "               precision    recall  f1-score   support\n",
      "\n",
      "         0.0       0.91      0.75      0.82        80\n",
      "         1.0       0.79      0.93      0.85        80\n",
      "\n",
      "    accuracy                           0.84       160\n",
      "   macro avg       0.85      0.84      0.84       160\n",
      "weighted avg       0.85      0.84      0.84       160\n",
      "\n"
     ]
    },
    {
     "data": {
      "image/png": "[encoded data removed]",
      "text/plain": [
       "<Figure size 432x288 with 2 Axes>"
      ]
     },
     "metadata": {
      "needs_background": "light"
     },
     "output_type": "display_data"
    }
   ],
   "source": [
    "#Knn \n",
    "\n",
    "from sklearn.neighbors import KNeighborsClassifier\n",
    "from sklearn.model_selection import GridSearchCV\n",
    "from sklearn.metrics import classification_report, confusion_matrix, plot_confusion_matrix\n",
    "\n",
    "#define the model and parameters\n",
    "knn = KNeighborsClassifier()\n",
    "\n",
    "\n",
    "parameters = {'n_neighbors':[1,3,5,7,9,11,13,15,17,19,21], #usually odd numbers\n",
    "              'leaf_size':[1,2,3,5],\n",
    "              'weights':['uniform', 'distance']}\n",
    "\n",
    "#Fit the model\n",
    "model_knn = GridSearchCV(knn, param_grid=parameters, cv = 10, scoring = 'f1_macro')\n",
    "model_knn.fit(X_train_sc,y_train)\n",
    "\n",
    "print('Best leaf_size:', model_knn.best_estimator_.get_params()['leaf_size'])\n",
    "print('Best weight function:', model_knn.best_estimator_.get_params()['weights'])\n",
    "print('Best n_neighbors:', model_knn.best_estimator_.get_params()['n_neighbors'])\n",
    "print(\"Best Score: %0.2f\" %  model_knn.best_score_)\n",
    "\n",
    "y_true, y_pred = y_test, model_knn.predict(X_test_sc)\n",
    "\n",
    "print(\"Classification Report:\", \"\\n\", classification_report(y_true, y_pred))\n",
    "\n",
    "#Confusion plot    \n",
    "plot_confusion_matrix(model_knn, X_test_sc, y_test)\n",
    "plt.show()  "
   ]
  },
  {
   "cell_type": "code",
   "execution_count": null,
   "metadata": {},
   "outputs": [],
   "source": [
    "[[61 19]\n",
    " [ 4 76]] 0.76"
   ]
  },
  {
   "cell_type": "code",
   "execution_count": null,
   "metadata": {},
   "outputs": [],
   "source": []
  },
  {
   "cell_type": "code",
   "execution_count": 27,
   "metadata": {},
   "outputs": [
    {
     "name": "stdout",
     "output_type": "stream",
     "text": [
      "Best Score: {'n_estimators': 2500, 'min_samples_split': 2, 'min_samples_leaf': 1, 'max_features': 'log2', 'max_depth': 20, 'bootstrap': False}\n",
      "Best Score: 0.89\n",
      "Classification Report: \n",
      "               precision    recall  f1-score   support\n",
      "\n",
      "         0.0       0.91      1.00      0.95        80\n",
      "         1.0       1.00      0.90      0.95        80\n",
      "\n",
      "    accuracy                           0.95       160\n",
      "   macro avg       0.95      0.95      0.95       160\n",
      "weighted avg       0.95      0.95      0.95       160\n",
      "\n"
     ]
    },
    {
     "data": {
      "image/png": "[encoded data removed]",
      "text/plain": [
       "<Figure size 432x288 with 2 Axes>"
      ]
     },
     "metadata": {
      "needs_background": "light"
     },
     "output_type": "display_data"
    }
   ],
   "source": [
    "#Random Forests\n",
    "#Let's tune the hyperparameters\n",
    "\n",
    "#We could opt of pca transformation before, but it already takes a lot of time.\n",
    "\n",
    "#Here we will try a different approach - we will use randomize grid at first to limit our search space and then we will use\n",
    "# a more exhaustive approach\n",
    "\n",
    "from sklearn.ensemble import RandomForestClassifier\n",
    "from sklearn.model_selection import RandomizedSearchCV\n",
    "from sklearn.metrics import classification_report, confusion_matrix, plot_confusion_matrix\n",
    "\n",
    "rf = RandomForestClassifier()\n",
    "\n",
    "# Number of trees in random forest\n",
    "n_estimators = [200, 500, 1000, 1500, 2500]\n",
    "# Number of features to consider at every split\n",
    "max_features = ['auto', 'log2']\n",
    "# Maximum number of levels in tree\n",
    "max_depth = [10, 20, 30, 40, 50]\n",
    "# Minimum number of samples required to split a node\n",
    "min_samples_split = [2, 5, 10, 15, 20]\n",
    "# Minimum number of samples required at each leaf node\n",
    "min_samples_leaf = [1, 2, 5, 10]\n",
    "# Method of selecting samples for training each tree\n",
    "bootstrap = [True, False]\n",
    "\n",
    "# Create the random grid\n",
    "random_grid = {'n_estimators': n_estimators,\n",
    "               'max_features': max_features,\n",
    "               'max_depth': max_depth,\n",
    "               'min_samples_split': min_samples_split,\n",
    "               'min_samples_leaf': min_samples_leaf,\n",
    "               'bootstrap': bootstrap}\n",
    "\n",
    "rf_random = RandomizedSearchCV(\n",
    "    estimator = rf, param_distributions = random_grid, n_iter = 100, cv = 10, \n",
    "    scoring = 'f1_macro', n_jobs = -1)\n",
    "\n",
    "rf_random.fit(X_train_sc, y_train)\n",
    "\n",
    "print(\"Best Parameters:\", rf_random.best_params_)\n",
    "print(\"Best Score: %0.2f\" % rf_random.best_score_)\n",
    "\n",
    "y_true, y_pred = y_test, rf_random.predict(X_test_sc)\n",
    "\n",
    "print(\"Classification Report:\", \"\\n\", classification_report(y_true, y_pred))\n",
    "\n",
    "#Confusion plot    \n",
    "plot_confusion_matrix(rf_random, X_test_sc, y_test)\n",
    "plt.show() "
   ]
  },
  {
   "cell_type": "code",
   "execution_count": null,
   "metadata": {},
   "outputs": [],
   "source": [
    "[[80  0]\n",
    " [ 8 72]] 0.89"
   ]
  },
  {
   "cell_type": "code",
   "execution_count": 40,
   "metadata": {},
   "outputs": [
    {
     "name": "stdout",
     "output_type": "stream",
     "text": [
      "Feature: hsa-let-7e-002406 - Coef: 0.0612\n",
      "Feature: hsa-miR-484-001821 - Coef: 0.0487\n",
      "Feature: hsa-miR-142-3p-000464 - Coef: 0.048\n",
      "Feature: hsa-miR-186-002285 - Coef: 0.0451\n",
      "Feature: hsa-miR-223-002295 - Coef: 0.0379\n",
      "Feature: hsa-miR-20b-001014 - Coef: 0.0352\n",
      "Feature: hsa-miR-150-000473 - Coef: 0.0351\n",
      "Feature: hsa-miR-191-002299 - Coef: 0.0339\n",
      "Feature: hsa-miR-26a-000405 - Coef: 0.0323\n",
      "Feature: hsa-miR-126-002228 - Coef: 0.032\n",
      "Feature: hsa-miR-24-000402 - Coef: 0.0302\n",
      "Feature: hsa-miR-574-3p-002349 - Coef: 0.0298\n",
      "Feature: hsa-let-7b-002619 - Coef: 0.0281\n",
      "Feature: hsa-miR-30b-000602 - Coef: 0.0279\n",
      "Feature: hsa-miR-92a-000431 - Coef: 0.0277\n",
      "Feature: hsa-miR-342-3p-002260 - Coef: 0.0273\n",
      "Feature: hsa-miR-16-000391 - Coef: 0.0273\n",
      "Feature: hsa-miR-106a-002169 - Coef: 0.0267\n",
      "Feature: hsa-miR-146a-000468 - Coef: 0.0263\n",
      "Feature: hsa-miR-320-002277 - Coef: 0.0254\n",
      "Feature: hsa-miR-222-002276 - Coef: 0.0253\n",
      "Feature: hsa-miR-1274B-002884 - Coef: 0.0251\n",
      "Feature: hsa-miR-146b-001097 - Coef: 0.0247\n",
      "Feature: hsa-miR-483-5p-002338 - Coef: 0.0247\n",
      "Feature: hsa-miR-19b-000396 - Coef: 0.0244\n",
      "Feature: hsa-miR-139-5p-002289 - Coef: 0.0232\n",
      "Feature: hsa-miR-21-000397 - Coef: 0.0227\n",
      "Feature: mmu-miR-451-001141 - Coef: 0.0225\n",
      "Feature: hsa-miR-338-5P-002658 - Coef: 0.0219\n",
      "Feature: hsa-miR-486-001278 - Coef: 0.0211\n",
      "Feature: hsa-miR-30c-000419 - Coef: 0.0204\n",
      "Feature: hsa-miR-197-000497 - Coef: 0.0197\n",
      "Feature: hsa-miR-20a-000580 - Coef: 0.0192\n",
      "Feature: hsa-miR-720-002895 - Coef: 0.019\n"
     ]
    }
   ],
   "source": [
    "# define the model\n",
    "rfr_model = rf_random.best_estimator_\n",
    "\n",
    "# fit the model\n",
    "rfr = rfr_model.fit(X_test_sc, y_test)\n",
    "# get coefficients\n",
    "importance_rfr = rfr.feature_importances_\n",
    "\n",
    "   \n",
    "#summarize feature importance - correspond it with the feature names of our dataset\n",
    "feature_dict_rfr = {}\n",
    "for i,v in enumerate(importance_rfr):\n",
    "    if v != 0:\n",
    "        feature_dict_rfr[cols[i]] = v\n",
    "#print only no negative coefficients\n",
    "for w in sorted(feature_dict_rfr, key=feature_dict_rfr.get, reverse=True):\n",
    "    print(\"Feature: {} - Coef: {:.3}\".format(w, feature_dict_rfr[w])) "
   ]
  },
  {
   "cell_type": "code",
   "execution_count": null,
   "metadata": {},
   "outputs": [],
   "source": []
  },
  {
   "cell_type": "code",
   "execution_count": 47,
   "metadata": {},
   "outputs": [
    {
     "name": "stdout",
     "output_type": "stream",
     "text": [
      "Best Parameters: {'C': 1, 'penalty': 'l1', 'solver': 'liblinear'}\n",
      "Best Score: 0.60\n",
      "Classification Report: \n",
      "               precision    recall  f1-score   support\n",
      "\n",
      "         0.0       0.59      0.62      0.61        80\n",
      "         1.0       0.60      0.56      0.58        80\n",
      "\n",
      "    accuracy                           0.59       160\n",
      "   macro avg       0.59      0.59      0.59       160\n",
      "weighted avg       0.59      0.59      0.59       160\n",
      "\n"
     ]
    },
    {
     "data": {
      "image/png": "[encoded data removed]",
      "text/plain": [
       "<Figure size 432x288 with 2 Axes>"
      ]
     },
     "metadata": {
      "needs_background": "light"
     },
     "output_type": "display_data"
    }
   ],
   "source": [
    "#Logistic regression\n",
    "\n",
    "from sklearn.linear_model import LogisticRegression\n",
    "from sklearn.model_selection import GridSearchCV\n",
    "from sklearn.metrics import classification_report, confusion_matrix, plot_confusion_matrix\n",
    "\n",
    "# Create logistic regression\n",
    "logistic = LogisticRegression() #This optimazation algorithm is the only one compatible with all 3 penalties\n",
    "\n",
    "# Create regularization penalty space\n",
    "solver = ['newton-cg', 'lbfgs', 'liblinear', 'sag', 'saga']\n",
    "penalty = ['l1','l2', 'elasticnet', 'none']\n",
    "\n",
    "# Create regularization hyperparameter space\n",
    "C = [0.001,0.01, 0.1, 1, 10, 100, 1000]\n",
    "\n",
    "# Create hyperparameter options\n",
    "hyperparameters = dict(C=C, penalty=penalty, solver=solver)\n",
    "\n",
    "# Create grid search using 5-fold cross validation\n",
    "model_log = GridSearchCV(logistic, hyperparameters, cv=10, scoring = 'f1_macro', n_jobs = -1)\n",
    "model_log.fit(X_train_sc,y_train)\n",
    "\n",
    "print(\"Best Parameters:\", model_log.best_params_)\n",
    "print(\"Best Score: %0.2f\" % model_log.best_score_)\n",
    "\n",
    "\n",
    "y_true, y_pred = y_test, model_log.predict(X_test_sc)\n",
    "\n",
    "print(\"Classification Report:\", \"\\n\", classification_report(y_true, y_pred))\n",
    "\n",
    "#Confusion plot    \n",
    "plot_confusion_matrix(model_log, X_test_sc, y_test)\n",
    "plt.show()"
   ]
  },
  {
   "cell_type": "code",
   "execution_count": null,
   "metadata": {},
   "outputs": [],
   "source": [
    "[[52 28]\n",
    " [36 44]] 0.60"
   ]
  },
  {
   "cell_type": "code",
   "execution_count": 49,
   "metadata": {},
   "outputs": [
    {
     "name": "stdout",
     "output_type": "stream",
     "text": [
      "Feature: hsa-miR-150-000473 - Coef: 0.34\n",
      "Feature: hsa-miR-142-3p-000464 - Coef: 0.132\n",
      "Feature: hsa-let-7e-002406 - Coef: 0.0694\n",
      "Feature: hsa-miR-574-3p-002349 - Coef: -0.189\n",
      "Feature: hsa-miR-484-001821 - Coef: -0.539\n"
     ]
    }
   ],
   "source": [
    "# define the model\n",
    "\n",
    "logm = model_log.best_estimator_\n",
    "# fit the model\n",
    "log = logm.fit(X_test_sc, y_test)\n",
    "# get feature coefficients\n",
    "importance_log = log.coef_[0]\n",
    "\n",
    "# summarize feature importance - correspond it with the feature names of our dataset\n",
    "feature_dict_log = {}\n",
    "for i,v in enumerate(importance_log):\n",
    "    if v != 0:\n",
    "        feature_dict_log[cols[i]] = v\n",
    "#print only no negative coefficients\n",
    "for w in sorted(feature_dict_log, key=feature_dict_log.get, reverse=True):\n",
    "    print(\"Feature: {} - Coef: {:.3}\".format(w, feature_dict_log[w]))"
   ]
  },
  {
   "cell_type": "code",
   "execution_count": null,
   "metadata": {},
   "outputs": [],
   "source": []
  },
  {
   "cell_type": "code",
   "execution_count": 54,
   "metadata": {},
   "outputs": [
    {
     "name": "stdout",
     "output_type": "stream",
     "text": [
      "Ensembl Score: 0.95\n",
      "Classification Report: \n",
      "               precision    recall  f1-score   support\n",
      "\n",
      "         0.0       0.91      1.00      0.95        80\n",
      "         1.0       1.00      0.90      0.95        80\n",
      "\n",
      "    accuracy                           0.95       160\n",
      "   macro avg       0.95      0.95      0.95       160\n",
      "weighted avg       0.95      0.95      0.95       160\n",
      "\n"
     ]
    },
    {
     "data": {
      "image/png": "[encoded data removed]",
      "text/plain": [
       "<Figure size 432x288 with 2 Axes>"
      ]
     },
     "metadata": {
      "needs_background": "light"
     },
     "output_type": "display_data"
    }
   ],
   "source": [
    "#Ensembl - Voting Classifier\n",
    "\n",
    "\n",
    "from sklearn.ensemble import VotingClassifier\n",
    "from sklearn.metrics import classification_report, confusion_matrix, plot_confusion_matrix\n",
    "\n",
    "\n",
    "#Take our best tuned models from our grid  \n",
    "rf_best = rf_random.best_estimator_\n",
    "knn_best = model_knn.best_estimator_\n",
    "log_best = model_log.best_estimator_\n",
    "svm_best = svm_model.best_estimator_\n",
    "\n",
    "#create a dictionary of our models\n",
    "#estimators=[('knn', knn_best), ('rf', rf_best), ('log', log_best), ('dt', dt_best), ('svm', svm_best)]\n",
    "estimators=[('knn', knn_best), ('rf', rf_best), ('log', log_best),('svm', svm_best)]\n",
    "\n",
    "\n",
    "#create our voting classifier, inputting our models\n",
    "ensemble_vt = VotingClassifier(estimators, voting='hard')\n",
    "\n",
    "#fit model to training data\n",
    "ensemble_vt.fit(X_train_sc, y_train)\n",
    "\n",
    "#test our model on the test data\n",
    "print(\"Ensembl Score: {:.2}\".format(ensemble_vt.score(X_test_sc, y_test)))\n",
    "\n",
    "\n",
    "#print(\"Best Score:\", ensemble.best_params_)\n",
    "#print(\"Best Score: %0.2f\" % ensemble.best_score_)\n",
    "\n",
    "y_true, y_pred = y_test, ensemble_vt.predict(X_test_sc)\n",
    "\n",
    "print(\"Classification Report:\", \"\\n\", classification_report(y_true, y_pred))\n",
    "\n",
    "#Confusion plot    \n",
    "plot_confusion_matrix(ensemble_vt, X_test_sc, y_test)\n",
    "plt.show()"
   ]
  },
  {
   "cell_type": "code",
   "execution_count": null,
   "metadata": {},
   "outputs": [],
   "source": [
    "74 6 7 73 -- 0.92/ 3 ----- 80 0 8 72 - 0.95 / in all 4"
   ]
  },
  {
   "cell_type": "code",
   "execution_count": null,
   "metadata": {},
   "outputs": [],
   "source": []
  },
  {
   "cell_type": "code",
   "execution_count": null,
   "metadata": {},
   "outputs": [],
   "source": []
  },
  {
   "cell_type": "code",
   "execution_count": 57,
   "metadata": {},
   "outputs": [
    {
     "name": "stdout",
     "output_type": "stream",
     "text": [
      "Ensembl Score: 0.95\n",
      "Classification Report: \n",
      "               precision    recall  f1-score   support\n",
      "\n",
      "         0.0       0.91      1.00      0.95        80\n",
      "         1.0       1.00      0.90      0.95        80\n",
      "\n",
      "    accuracy                           0.95       160\n",
      "   macro avg       0.95      0.95      0.95       160\n",
      "weighted avg       0.95      0.95      0.95       160\n",
      "\n"
     ]
    },
    {
     "data": {
      "image/png": "[encoded data removed]",
      "text/plain": [
       "<Figure size 432x288 with 2 Axes>"
      ]
     },
     "metadata": {
      "needs_background": "light"
     },
     "output_type": "display_data"
    }
   ],
   "source": [
    "#Ensembl - Stacking Classifier\n",
    "\n",
    "#the predictions of each individual base learner are stacked together and used as input to a \n",
    "#meta learner to compute the prediction. This meta learner is then trained through cross-validation.\n",
    "\n",
    "from sklearn.ensemble import StackingClassifier\n",
    "from sklearn.metrics import classification_report, confusion_matrix, plot_confusion_matrix\n",
    "\n",
    "#create a dictionary of our models\n",
    "estimators=[('knn', knn_best), ('rf', rf_best), ('log', log_best), ('svm', svm_best)]\n",
    "#estimators=[('knn', knn_best), ('rf', rf_best), ('log', log_best)]\n",
    "\n",
    "ensemble_st = StackingClassifier(estimators=estimators, cv = 10, \n",
    "                                 final_estimator = LogisticRegression())\n",
    "#ensemble_st.final_estimator_ = ensemble_st.final_estimator\n",
    "#ensemble_st.estimators_ = ensemble_st.estimators\n",
    "\n",
    "\n",
    "#fit model to training data\n",
    "ensemble_st.fit(X_train_sc, y_train)    \n",
    "    \n",
    "#test our model on the test data\n",
    "print(\"Ensembl Score:\", ensemble_st.score(X_test_sc, y_test))\n",
    "\n",
    "\n",
    "#print(\"Best Score:\", ensemble.best_params_)\n",
    "#print(\"Best Score: %0.2f\" % ensemble.best_score_)\n",
    "\n",
    "y_true, y_pred = y_test, ensemble_st.predict(X_test_sc)\n",
    "\n",
    "print(\"Classification Report:\", \"\\n\", classification_report(y_true, y_pred))\n",
    "\n",
    "#Confusion plot    \n",
    "plot_confusion_matrix(ensemble_vt, X_test_sc, y_test)\n",
    "plt.show()"
   ]
  },
  {
   "cell_type": "code",
   "execution_count": null,
   "metadata": {},
   "outputs": [],
   "source": []
  },
  {
   "cell_type": "code",
   "execution_count": null,
   "metadata": {},
   "outputs": [],
   "source": [
    "#Voting result\n",
    "\n",
    "[[74  6]\n",
    " [ 7 73]] 3 hard #no svm, dt\n",
    "\n",
    "[[77  3]\n",
    " [ 8 72]] 4 hard #no svm\n",
    "\n",
    "[[78  2]\n",
    " [ 7 73]] all hard\n",
    "\n",
    "[[80  0]\n",
    " [ 8 72]] svm 0.91"
   ]
  },
  {
   "cell_type": "code",
   "execution_count": null,
   "metadata": {},
   "outputs": [],
   "source": []
  },
  {
   "cell_type": "code",
   "execution_count": null,
   "metadata": {},
   "outputs": [],
   "source": []
  },
  {
   "cell_type": "code",
   "execution_count": null,
   "metadata": {},
   "outputs": [],
   "source": []
  },
  {
   "cell_type": "code",
   "execution_count": null,
   "metadata": {},
   "outputs": [],
   "source": []
  },
  {
   "cell_type": "code",
   "execution_count": null,
   "metadata": {},
   "outputs": [],
   "source": [
    "#Ensembl - Combine all models so far\n",
    "\n",
    "#https://towardsdatascience.com/ensemble-learning-using-scikit-learn-85c4531ff86a\n"
   ]
  }
 ],
 "metadata": {
  "kernelspec": {
   "display_name": "Python 3",
   "language": "python",
   "name": "python3"
  },
  "language_info": {
   "codemirror_mode": {
    "name": "ipython",
    "version": 3
   },
   "file_extension": ".py",
   "mimetype": "text/x-python",
   "name": "python",
   "nbconvert_exporter": "python",
   "pygments_lexer": "ipython3",
   "version": "3.7.7"
  }
 },
 "nbformat": 4,
 "nbformat_minor": 4
}
